{
  "nbformat": 4,
  "nbformat_minor": 0,
  "metadata": {
    "colab": {
      "provenance": [],
      "authorship_tag": "ABX9TyMebl334kbwnNXrLylkoyjF",
      "include_colab_link": true
    },
    "kernelspec": {
      "name": "python3",
      "display_name": "Python 3"
    },
    "language_info": {
      "name": "python"
    }
  },
  "cells": [
    {
      "cell_type": "markdown",
      "metadata": {
        "id": "view-in-github",
        "colab_type": "text"
      },
      "source": [
        "<a href=\"https://colab.research.google.com/github/Slrosales/Python_Para_Ingenieria/blob/main/M%C3%B3dulo%204/Algebra_Lineal.ipynb\" target=\"_parent\"><img src=\"https://colab.research.google.com/assets/colab-badge.svg\" alt=\"Open In Colab\"/></a>"
      ]
    },
    {
      "cell_type": "markdown",
      "source": [
        "![image.png](data:image/png;base64,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)(λ-1)⋅x+2⋅y = 0\n",
        "2⋅x+(λ-1)⋅y = 0"
      ],
      "metadata": {
        "id": "RO_qUx29qrsj"
      }
    },
    {
      "cell_type": "code",
      "execution_count": 6,
      "metadata": {
        "colab": {
          "base_uri": "https://localhost:8080/"
        },
        "id": "zTwVfY3ynJXI",
        "outputId": "dd948259-1674-469e-b496-f58144a9f146"
      },
      "outputs": [
        {
          "output_type": "execute_result",
          "data": {
            "text/plain": [
              "[-1, 3]"
            ]
          },
          "metadata": {},
          "execution_count": 6
        }
      ],
      "source": [
        "# GPT\n",
        "from sympy import symbols, Eq, solve\n",
        "\n",
        "# Definimos la variable lambda\n",
        "lambda_ = symbols('lambda')\n",
        "\n",
        "# Creamos la ecuación del determinante igual a cero\n",
        "det_equation = Eq((lambda_ - 1)**2 - (2)**2, 0)\n",
        "\n",
        "# Resolvemos la ecuación para encontrar los valores de lambda\n",
        "lambda_values = solve(det_equation, lambda_)\n",
        "lambda_values\n"
      ]
    },
    {
      "cell_type": "code",
      "source": [
        "#DA\n",
        "from sympy import symbols, Eq, solve\n",
        "\n",
        "# Definir la variable lambda\n",
        "λ = symbols('λ')\n",
        "\n",
        "# Definir el determinante de la matriz de coeficientes\n",
        "determinant = (λ - 1)**2 - (2*2)\n",
        "\n",
        "# Resolver la ecuación determinante = 0 para encontrar los valores de λ\n",
        "λ_values = solve(Eq(determinant, 0), λ)\n",
        "λ_values\n"
      ],
      "metadata": {
        "colab": {
          "base_uri": "https://localhost:8080/"
        },
        "id": "8z64H9_Jsdjg",
        "outputId": "ca9619d8-a403-4767-fae5-ed4f880f530d"
      },
      "execution_count": 5,
      "outputs": [
        {
          "output_type": "execute_result",
          "data": {
            "text/plain": [
              "[-1, 3]"
            ]
          },
          "metadata": {},
          "execution_count": 5
        }
      ]
    },
    {
      "cell_type": "markdown",
      "source": [
        "Para resolver este problema, debemos encontrar los valores de \\( \\lambda \\) para los cuales el sistema homogéneo tiene una solución no trivial (es decir, una solución diferente de la solución trivial \\( x = 0, y = 0 \\)). Esto ocurre cuando el determinante de la matriz de coeficientes es igual a cero, ya que en ese caso el sistema tiene infinitas soluciones o una solución que no es única.\n",
        "\n",
        "El sistema de ecuaciones puede ser representado como:\n",
        "\n",
        "\\[\n",
        "\\begin{align*}\n",
        "(\\lambda - 1)x + 2y &= 0 \\\\\n",
        "2x + (\\lambda - 1)y &= 0\n",
        "\\end{align*}\n",
        "\\]\n",
        "\n",
        "La matriz de coeficientes \\( A \\) para este sistema es:\n",
        "\n",
        "\\[\n",
        "A = \\begin{bmatrix}\n",
        "\\lambda - 1 & 2 \\\\\n",
        "2 & \\lambda - 1 \\\\\n",
        "\\end{bmatrix}\n",
        "\\]\n",
        "\n",
        "Para encontrar los valores de \\( \\lambda \\) que hacen que el sistema tenga una solución no trivial, calculamos el determinante de \\( A \\) y lo igualamos a cero:\n",
        "\n",
        "\\[\n",
        "\\det(A) = (\\lambda - 1)(\\lambda - 1) - (2)(2) = 0\n",
        "\\]\n",
        "\n",
        "Resolvamos esta ecuación en Python.\n",
        "\n",
        "Los valores de \\( \\lambda \\) para los cuales el sistema homogéneo tiene una solución no trivial son \\( \\lambda = -1 \\) y \\( \\lambda = 3 \\)."
      ],
      "metadata": {
        "id": "SmiT58grzrq5"
      }
    },
    {
      "cell_type": "markdown",
      "source": [
        "![image.png](data:image/png;base64,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)"
      ],
      "metadata": {
        "id": "ITC-3yJpvFo2"
      }
    },
    {
      "cell_type": "code",
      "source": [
        "# DA\n",
        "import numpy as np\n",
        "\n",
        "# Definimos dos matrices arbitrarias A y B\n",
        "A = np.array([[1, 2], [3, 4]])\n",
        "B = np.array([[5, 6], [7, 8]])\n",
        "\n",
        "# Definimos un escalar c\n",
        "c = 2\n",
        "\n",
        "# Calculamos las inversas de A y B\n",
        "try:\n",
        "    A_inv = np.linalg.inv(A)\n",
        "    B_inv = np.linalg.inv(B)\n",
        "except np.linalg.LinAlgError:\n",
        "    A_inv = B_inv = None  # No se puede calcular la inversa\n",
        "\n",
        "# Verificamos si (A+B)^-1 = A^-1 + B^-1\n",
        "if A_inv is not None and B_inv is not None:\n",
        "    try:\n",
        "        left_side_a = np.linalg.inv(A + B)\n",
        "        right_side_a = A_inv + B_inv\n",
        "        statement_a = np.allclose(left_side_a, right_side_a)  # Comparamos si las matrices son aproximadamente iguales\n",
        "    except np.linalg.LinAlgError:\n",
        "        statement_a = False  # No se puede calcular la inversa de A+B, por lo que la declaración es falsa\n",
        "else:\n",
        "    statement_a = False  # No se pudo calcular la inversa de A o B, la afirmación es falsa\n",
        "\n",
        "# Verificamos si (cA)^-1 = 1/c * A^-1\n",
        "if A_inv is not None:\n",
        "    left_side_b = np.linalg.inv(c * A)\n",
        "    right_side_b = (1/c) * A_inv\n",
        "    statement_b = np.allclose(left_side_b, right_side_b)  # Comparamos si las matrices son aproximadamente iguales\n",
        "else:\n",
        "    statement_b = False  # No se pudo calcular la inversa de A, la afirmación es falsa\n",
        "\n",
        "statement_a, statement_b\n"
      ],
      "metadata": {
        "colab": {
          "base_uri": "https://localhost:8080/"
        },
        "id": "wRp1cOi3s_G4",
        "outputId": "e15d54e7-8527-438e-c732-f26ed62dc99e"
      },
      "execution_count": 10,
      "outputs": [
        {
          "output_type": "execute_result",
          "data": {
            "text/plain": [
              "(False, True)"
            ]
          },
          "metadata": {},
          "execution_count": 10
        }
      ]
    },
    {
      "cell_type": "code",
      "source": [
        "#GPT General\n",
        "from sympy import Matrix, symbols\n",
        "\n",
        "# Definimos dos matrices simbólicas 2x2\n",
        "A = Matrix([[symbols('a11'), symbols('a12')], [symbols('a21'), symbols('a22')]])\n",
        "B = Matrix([[symbols('b11'), symbols('b12')], [symbols('b21'), symbols('b22')]])\n",
        "\n",
        "# Definimos un escalar simbólico c\n",
        "c = symbols('c')\n",
        "\n",
        "# Verificamos si (A+B)^-1 es igual a A^-1 + B^-1\n",
        "try:\n",
        "    inverse_sum = (A + B).inv()\n",
        "except:\n",
        "    inverse_sum = \"Not invertible\"\n",
        "\n",
        "try:\n",
        "    sum_of_inverses = A.inv() + B.inv()\n",
        "except:\n",
        "    sum_of_inverses = \"Not invertible or sum of non-invertible matrices\"\n",
        "\n",
        "# Verificamos si (cA)^-1 es igual a 1/c * A^-1\n",
        "try:\n",
        "    inverse_cA = (c * A).inv()\n",
        "    c_times_inverse_A = (1 / c) * A.inv()\n",
        "except:\n",
        "    inverse_cA = \"Not invertible\"\n",
        "    c_times_inverse_A = \"Not invertible\"\n",
        "\n",
        "(inverse_sum, sum_of_inverses), (inverse_cA, c_times_inverse_A)\n"
      ],
      "metadata": {
        "colab": {
          "base_uri": "https://localhost:8080/"
        },
        "id": "08Y5fxVxwuhy",
        "outputId": "9c0bc583-503a-46e7-bdd8-19fe04446d3d"
      },
      "execution_count": 8,
      "outputs": [
        {
          "output_type": "execute_result",
          "data": {
            "text/plain": [
              "((Matrix([\n",
              "  [ (a22 + b22)/(a11*a22 + a11*b22 - a12*a21 - a12*b21 - a21*b12 + a22*b11 + b11*b22 - b12*b21), (-a12 - b12)/(a11*a22 + a11*b22 - a12*a21 - a12*b21 - a21*b12 + a22*b11 + b11*b22 - b12*b21)],\n",
              "  [(-a21 - b21)/(a11*a22 + a11*b22 - a12*a21 - a12*b21 - a21*b12 + a22*b11 + b11*b22 - b12*b21),  (a11 + b11)/(a11*a22 + a11*b22 - a12*a21 - a12*b21 - a21*b12 + a22*b11 + b11*b22 - b12*b21)]]),\n",
              "  Matrix([\n",
              "  [ a22/(a11*a22 - a12*a21) + b22/(b11*b22 - b12*b21), -a12/(a11*a22 - a12*a21) - b12/(b11*b22 - b12*b21)],\n",
              "  [-a21/(a11*a22 - a12*a21) - b21/(b11*b22 - b12*b21),  a11/(a11*a22 - a12*a21) + b11/(b11*b22 - b12*b21)]])),\n",
              " (Matrix([\n",
              "  [ a22/(a11*a22*c - a12*a21*c), -a12/(a11*a22*c - a12*a21*c)],\n",
              "  [-a21/(a11*a22*c - a12*a21*c),  a11/(a11*a22*c - a12*a21*c)]]),\n",
              "  Matrix([\n",
              "  [ a22/(c*(a11*a22 - a12*a21)), -a12/(c*(a11*a22 - a12*a21))],\n",
              "  [-a21/(c*(a11*a22 - a12*a21)),  a11/(c*(a11*a22 - a12*a21))]])))"
            ]
          },
          "metadata": {},
          "execution_count": 8
        }
      ]
    },
    {
      "cell_type": "code",
      "source": [
        "#GPT Especifico\n",
        "from sympy import Matrix\n",
        "\n",
        "# Definimos las matrices A y B\n",
        "A = Matrix([[1, 2], [3, 4]])\n",
        "B = Matrix([[5, 6], [7, 8]])\n",
        "\n",
        "# Calculamos (A + B)^-1\n",
        "inv_sum = (A + B).inv()\n",
        "\n",
        "# Calculamos A^-1 y B^-1\n",
        "inv_A = A.inv()\n",
        "inv_B = B.inv()\n",
        "\n",
        "# Calculamos A^-1 + B^-1\n",
        "inv_sum_ind = inv_A + inv_B\n",
        "\n",
        "inv_sum, inv_sum_ind\n",
        "\n",
        "\n",
        "# Definimos la constante c\n",
        "c = 2\n",
        "\n",
        "# Calculamos (cA)^-1\n",
        "inv_cA = (c * A).inv()\n",
        "\n",
        "# Calculamos (1/c)A^-1\n",
        "inv_1c_A = (1 / c) * inv_A\n",
        "\n",
        "inv_cA, inv_1c_A\n"
      ],
      "metadata": {
        "colab": {
          "base_uri": "https://localhost:8080/"
        },
        "id": "0hOSni_Awu7c",
        "outputId": "9192441b-7f5c-408f-eae2-f4d9a6e63d6e"
      },
      "execution_count": 9,
      "outputs": [
        {
          "output_type": "execute_result",
          "data": {
            "text/plain": [
              "(Matrix([\n",
              " [ -1,  1/2],\n",
              " [3/4, -1/4]]),\n",
              " Matrix([\n",
              " [-1.0,   0.5],\n",
              " [0.75, -0.25]]))"
            ]
          },
          "metadata": {},
          "execution_count": 9
        }
      ]
    },
    {
      "cell_type": "markdown",
      "source": [
        "Estos ejercicios abordan dos propiedades comunes de las matrices en álgebra lineal.\n",
        "\n",
        "Para el inciso a), se pregunta si la inversa de la suma de dos matrices es igual a la suma de las inversas de dichas matrices. Es decir, si:\n",
        "\n",
        "$$(A + B)^{-1} = A^{-1} + B^{-1}$$\n",
        "\n",
        "En general, esta propiedad **no** es verdadera. La inversa de la suma de dos matrices no es igual a la suma de las inversas de las matrices individuales. La única manera en que esta igualdad podría sostenerse sería bajo circunstancias muy específicas que no se aplican en general para todas las matrices \\( A \\) y \\( B \\).\n",
        "\n",
        "Para el inciso b), se pregunta si la inversa de un escalar multiplicado por una matriz es igual al escalar inverso multiplicado por la inversa de la matriz. Es decir, si:\n",
        "\n",
        "$$(cA)^{-1} = \\frac{1}{c}A^{-1}$$\n",
        "\n",
        "Esta propiedad **sí** es verdadera, siempre y cuando \\( c \\neq 0 \\). La justificación es que al multiplicar una matriz \\( A \\) por un escalar \\( c \\), y luego tomar la inversa de la matriz resultante, es lo mismo que tomar la inversa de \\( A \\) y multiplicar por el inverso del escalar \\( c \\).\n",
        "\n",
        "Podemos demostrar formalmente el inciso b) utilizando las propiedades de las matrices y los escalares:\n",
        "\n",
        "Supongamos que \\( A \\) es una matriz invertible y \\( c \\) es un escalar no nulo. Entonces:\n",
        "\n",
        "$$\n",
        "\\begin{align*}\n",
        "(cA)(c^{-1}A^{-1}) &= c(c^{-1})AA^{-1} \\\\\n",
        "&= (cc^{-1})(AA^{-1}) \\\\\n",
        "&= 1 \\cdot I \\\\\n",
        "&= I\n",
        "\\end{align*}\n",
        "$$\n",
        "\n",
        "Donde \\( I \\) es la matriz identidad. Esto significa que \\( c^{-1}A^{-1} \\) es, de hecho, la inversa de \\( cA \\), por lo que la propiedad se cumple."
      ],
      "metadata": {
        "id": "K_EsUT0yz2BT"
      }
    },
    {
      "cell_type": "markdown",
      "source": [
        "![image.png](data:image/png;base64,iVBORw0KGgoAAAANSUhEUgAAAcUAAAA4CAYAAACMuuP3AAAfRklEQVR4Ae2deVBU17q3c/+659Z3TnJPkpubiidamTSYGBPNMcaYKBpNNJo4XeOQBAzOiQpRE4cEhyjECQVxHhAQQUAQEPGICKgoqGUiasBPsIECBA9TMZzu/nrver7a3U1P7G4GideYZZXF6r3Xetf7Pmv47bX2angE8U8QEAQEAUFAEBAEjAQeERwEAUFAEBAEBAFBwERAiKLoCYKAICAICAKCgJmAEEXRFQQBQUAQEAQEATMBIYqiKwgCgoAgIAgIAmYCQhRFVxAEBAFBQBAQBMwEhCiKriAICAKCgCBwHwjoqdbkkV/WgHwfautoFUIUO0pOlBMEBAFBQBBoGwG5kqMrlhGSncu5YE9GL0+noW0l73uu36UoGuo0XDoZQ+SRDPLrZJDvUlhY0z549bf5tajJVEZXQ3F+LpfzKzv/CUZbRVHeVa7crGqf7d/Sp/aRErl/hwS0VUXkXb3CzaoH+Zn8dwjW4rKWKk0eV38uoFogBkMjVRV3uHPH/L+iigaDBRbIFaTuCONyExguLeetD4MpdsGtUXOB4/GxHDl+kVKtjZ37kOyQKOprCzmzzwdPvyz0tk423iDKbxVb9u5k/epg0sol27v3ntYXcmTxWEZPX8/Rn4spvXme6MDV+C8cxdDvL7XdvnSbkPG9GLop11hGLjvHvrn9+a+PQ6hvu5U25ZQ0p9nm1YenPz2MWYLbVO639MnqgEx54nI8liVQ5qKDWvM7ScnlJC73YFlCWfuE38GcVFON8ozzoP6Tbh5kwbR1nOmETvLbxiqhOb0Nrz5P8+nh9vS6ziYvUVNdd099orM96jR7koa04Gm83uUz4u7zpN1pMXSiIbnsPIf8xvPCn9z4bONe9mzbxJpls5k4YT5h15v7YB15qXv4bqoXO3KdQ6vN2M6GuHzqJZnaC8sY9NZSMhs70dlWTLVbFOXKLCL2RhO9uD/PzUhB11yBXE7UlN6MDy03DgIpbx3Dhq7nRmfponyXY7Nf4dU5JxyezOpIm/8qbyxrqyg2cmnLLLxDr2PLWX/Gm1fGdL4oKnh0KTNxm9Q+UVTK/ZY+mZpNpiLlR2avTuHOvYiRXEHKj7NZnXLnHiZAibzgzcQ3j5/mfvUA/ZQKo1nyVSDn73nf537EqiNlphuT/jdFUcojeHN8ux4GH6Dmbt0VbSJfun0uRNFMqjH+c57pvZzLlhWigau+fXjs/W2U2MwvDRd9GTlqC9cs+WxR67mwpDc95qebtKUpmk+f7IPvL6qZbQt2WrrdomiqWaYowN1OFOXK3Yx4rD9++WYV1Gcwv/sbfH+l/cHoftnPdyuOUGgjqIaLy3ntL++x6bbNRTMG6YY/X/q2VRQN1Na2nNV+SwF6cEWx0/rRvRvSXmHl+x7EPMCieO9Bmi3cl1j/90VRe2Ul73vEPMSimCRE0TIo9Jz16UHXGSlY14ANJH3Zhb9+EkJ5SSTz54aiUaZvbRLTur5PcLmNUlrs2CZkSg9Noe/IIK7bbUna5un8dOeJYkkg7n9+h/UFzaJ4nsUvP8onoe3fa2o448ekaTu4atFTA7kr+/Cn7j6cVYMjFXE1twrpdjL+nu68Pi2CaiRKTm7E6/0+TNlXalq9Fqeyf1c4hw4EstxnBUduWda5DqsyLTdj1rIiKIKovav51u+EcXtRKkxg247DJCYdI2HPfOZsvUlLiVYaqZ7ciHX4bQ/jcEwEYb6f0N2yUlS3rda09kJtoOxUIGs2hxEVGUrA2m1kVii1SxQmbGPH4USSjiWwZ/4ctt5U8UoqJGHbDg4nJnEsYQ/z52wlrzSdQK+h9JkZa14168g//CO+AfvYs+4Hlm3cQ5jvp8w8eIVkf0/cX59GRDVIJSfZ6PU+fabso1SWuZMeiNfQPsyMNa+9tTeJWbuCoIgo9q7+Fr8TZcjSbY75eeDebx4h6TFERB1kyzez8c+oQW7MJXLJCJ577E28NmwmMCSDUuN4UWPVxngVMnfS2bxsJdvCDhKydT37s2qM/cBQdorANZsJi4okNGAt2zIrkJC4fcwPD/d+zAtJJyYiioNbvmG2fwY1ii+ShuMbZjLizfFsK5Bc97UOxXqP7WvsdrlErPNje9hhYiLC8P2ku3WlqNYmLTpdPZcP+TJj7Gi+WBLLrwaozw7Ea+wk5u/Ops6JDTXO9bmRLBnxHI+96cWGzYGEZJjGoDP2+XG+TH5vCEtCjrJvzTRG+SRQKYP2ZgxrVwQREbWX1d/6cULZ51fpy+pdXm28OuHsqs1acDJf0CbxZY8RfLd3D4eiD7Hnp9VsO1tpmhOkYlL37yL80AECl/uw4sgt866ak/6rytZJXgd/pPw4VkwdRD/P1ezdup0d235i8aIA8/wAkpN5TynnO/k9hiwJ4ei+NUwb5UNCpew0v0O19h+lPPz6P8HY8OazHQbKU5fy4aBZHCowQEMWwSuCOXH5Z9K2evHJvLhWX9nIFVEs+HI716wqa1/nb/Sp00QRwzX8BvZiQYZJteTKUMb857/jHlTaAdd1NDXZTuw6Uud05d/7riTXIpTqZnWnv6LHiB1UGm/ryVrYC/eAImQkrq/uRxfPBOOTa1PKTHqODaXKbMZWgJoyv6HvsM2Y9L2RlNkDmJ5YRfby8SzJMrdQQxLBe/JVRFGiYNfHDJifZn4/KVO+awTPmN8pqttWf3Cw9Ul/aSXuY7ZTZH64km5tYuT767jWlM3y8UuwuhXMnubVug0iffZyxi/JMj/FNZAUvAclmz5jPj3N28ZyUTAfvu7DGaUJ6w8zuccXxDUvqnWn+arHCHaYwKLPWkgv9wCzP3oy5vdkTIgSRxOZ3/Rl2OYCE5vGFGYPmE6ickvZPXDryawk04EmXdpXuI0JwTiMtDFM6TaZaJuVoiqrI2ltihfpBhvd+zDvtCLUEnn+A/jvyTE06S+x0n0M260g2TTyfdYZ93KUONzoOSvJOCGjS+MrtzGENI9z6SY/vTeQtb+a+qbzvtb+WO+1fZEK2PXxAOanmfuSXM6uEc+Y3ym6aBObPmJKNpI6tyfuAYWm9tOfJ2jjCeqctWutE87KgiBmCt0mR1tXii7Za0nwfIE+S05Tp0lma2gOdU2ZfNN3GJvND9qNKbMZMD2RKid92T4Uvep4/ZezcaTMK676p71x0ydlxfO3d1l3yzwpaS/zw7uD8LtqQLq+mn5dPElQ+nNTCjN7jiVUmWz0auO1Xn3MVKnltZ0XrU5pEzzo8tYqco3P+TJVcR70eGctv+hdz3vaBE9e6LOE03UakreGklPnOr+1RvuUXLmHkf/5GjN2RxMTuZdVkwczetVpKuzm6yYq8q+RV1qvMm/a2wOZ8rCf2G27XeiY5Tf63HmiqLR97j58FmwgNjme0B3r+ezVR/n4QF37XddlEhZhKzgSN378O396cQGZaitFuY7SMlM9RiGxEcULi3ubRVFxsJLykltkJRwmMmgqbgP9jcKgOGgVIB1pX71At3EbiI2PJz4+njDvwQzxv87dEwvo/cyLvDN2Fr77znHHrsHNYUo3+LFfFzwSrI832iNT6WYURee21UxZfdJzZkEPei+9iCWfcXv6dZZfusuJBb155sV3GDvLl33n7ljz2JKvOcGC3s/w4jtjmeW7j3Nm5611gHRjDQN6f8sFhbE2Ac+XxmN58NOfwfsVG1G8sJjeNqJ4xvsVkygqQvJCN8ZtiDWyi48Pw3vwEPyvGxTIePccyhbzCwa9YmPoFtP7hhai6IxVFsltiNeQu5I3u3iS2NwMsg6dXnFhAT16L+WiFSQZ87vz+nJl+13PGe+eDN1SYno3qr/A4t5WfxXhWT/YKoou+1q7Yr339pVu/Ei/Lh5Yu52WI1O7mUTRVZvY9hFz2nDlB978uy/Kaxzt2b2E/GzA+ICg0q5r4n5Q5ayYchRF1+y1JE17nnHh1gdE5aHphW7j2BBrGofxYd4MHuLP9bvqfdkxlJoW49UV51b6p6NxY4BJTOs2lnDLg5yO1NnP0eu7HOPDYWV5CbeyEjgcGcRUt4H4Gx9Wa1qOV6ft08axbdyRnEa3seHWBxDtUb54+lW+y9a7nPe0SdN4fly4/QFDF/OkGgblmvF9Yh9Tn1E+yxV7+KjrRA5VOyvR2nU9WQfCWl0EtWalI/c7VRRNDkg0VNei06Yw47m/s0r9baprX+8eJDjc/usRhl9W0fcvb/OTyiqIxuOEHCo22nScqM4ves2yUiw8NJPhE/1IK9FhuLaK/gP9VEUxZXpXei3JsT9Zi0xdZSU1ReeJ3bmGOUO709sn3doJmyPSZ/Ptq92YkWLdmrUVRXXbzYXtf1oFS0uy17P0Xn7JKnjKpNu9O/NO36Wysoai87HsXDOHod1745NuGaUWg3JdJZU1RZyP3cmaOUPp3tsHJZu1DtMW4d7p41i49RDhG3zw2XfNepDKURTPL+I1VVFMYXrXXizJUXl6cbRhK6w2oigV53GzQYcqK7muTfHqs7/j1a7TsWkGIwttshfP9l7OJRtRPOPdne7zMsyi+AojLMthRRTdCbCsKl2LorWvGZ+ynD9EtIj13ttXn/0tr3abYROvrSi6aBNLD7FJSAUEDOnF/PRKUvZGmHZMdOo2nHFWrFlFUaI47yb/dMleS9KXbnxuc5RTlzKdrr2W4NiVnPVlmwiUaVllvP6DI87GkbLD5ap/2hs3fVJWig6imP71i7w0Lx2p8BAzh0/EL60EneEaq/oPNJ23UOu//4hXHzNqeVXGtpF1koMo6o4z/dkXmZfehKt5T5v0JW6fx9m8B5Rc5lfDoDxMnvvmZZ6bnWqZL+TiLQz+c3/zg4B6KddXJYpyrzkcqnRdorPudlgUNQGD7Q7aQA3JS8az5Jjp0aAx7Wve/Gi7+bCMnqLMONJvW4XCeQAG8oIWEtBCTGtI++YN3DxisX8/ayD/4BZiikzbCoaLS+n74XYqjNuMtURNfJpBARpkfRYLe77CoizTZK1sG/YY4EfuqShiS2Q7cag5Oo2XR+40v9dSHoNySE7TcPKHb4lp3krTHmPO1K12p6pMMTWR9nVPhmzWWE5i1h0cRxfz9qm6bdOJXUcmtoJVHfsZPSeEW7Z75bKdfOQ2g+R/nuKHb2NMW5DKRHRsDlO3ljiaQnfqB761Os+xOVPZ6hA32uNs3JjdUugVa4aLLO37IdtNYKmNmsjTgwLQGDkrKyzzSpEajk57mZE7Te+QlKKNOcmkKY2mTDo9ldWmaQ9YWSlahFV7FI/n/4fIJtAmhxNdKaPKKuUw37chXprSme/2ps2ptSYupqRR/s9YPus5gfDmfXO5jJ0fuTEj2bi/a1wpKqJoCusCi19zLopO+5oSdDtjvdf2pSmNr3sOYbOpQYA6Do7rYt4+ddEmLXqKckGmInQcL4+eRWBchbkfO7FRkKbOWXkfeNSD5/8nkia0JIdHU+mSvZZEB1Gk5ijTXh7JTtMLZqUnkZOchuakel+2D0XHKZXxmhvtZBwZm99F/7Q3bvpkPDAyir3Nc4JcQvAHPZl9opqshT15ZZH5K2vKrk6PAfjlniIq8pBK/81VHzOak20a24ozyoqv66h9lnlAf3k5fV6axYlq1/OeNtFBFFuZJ9UwIOXj9/Z/MeGQdVdQG/85T/7HR+yrBUNRISXqu76q5owX5UpyEo5z3WrSed5OvtN+UWz4hSPBG1k4vBt/7ePB2sD9nC5WIm7k1KIRzIm6Qf65/Sya7ktyqZmEdJPA4d1w33ijlb1kmYrkBQzzPOggfOaopTJSVn7KyElL2Zd6mavZJwjf4se21FKrXW0WK8d4EnQ6h3PJ0QR7vkoXdx8OXPi/HF88jNFLY8hIjWF/eCCz3T9mkX84526msX32AJ5yG8+qmKs0ylWc3TSXOatDSEpN5EBQKGer/kWq91CmrI8hLTub1LA1bIg3b7M5NIpcc4HAuXPxiz5NRlIIGz378thLY1gR9yuo2jaJhK0ZqdjRp0oy1s/ha78IkhLD8Pf2JjCrGlmXivfQKayPSSM7O5WwNRuItz3/bDaqS/Vm6JT1xKRlk50axpoN8Wg0zXVMwD+5wHiAYduI5+je9y3eeqsf/d3HsWBXDrVG97RkrRyDZ9Bpcs4lEx3syatd3PE5cJ7itO3MHvAUbhP8SS6QkKvOsmnuHFaHJJGaeICg0LNU/T8NqcGzGPBUd8b4RnIxL52dc9/l6RdGsSziovEXMCR9PYwpGw+xO/AIecpKTo1V2T/aFK8Sdm3OVmZ+8S27k1KIC9lKSIYidjKVGeuZ87UfEUmJhPl74x2YRbUsoUkNZtaAp+g+xpfIi3mk75zLu0+/wKhlEVxUTts4bJ/irK+d/6UDsd5b+ypCVnMhkLlz/Yg+nUFSyEY8+z7GS2NWEPerQb1NWnY7axesT8LrzWnE20xKqu0qO+OsNGkSXw+bwsZDuwk8kofBBftbyZvw7Pskr01ezc5UjXk8y1Sd3cTcOasJSUol8UAQoWer+JdKX27Z5XXq41V2wllqpX9ayVhT2mMsnOLD5uCDpGSkErF2Hgu251CLzN3jixk2eikxGanE7A8ncLY7Hy/yJzwzWbX/qrL9V9vGtuKQIop/6+NJUMQJzpwKYYnHTIJzao3jyum8dz2ZTZ59efK1yazemWo6GSrfdTpPXmh+FWElQMMvRwhcOZnXHnuW4Qu3cvyWeXFy+UfeemoE2/Oy2bM51mTbplyryZpoPn++FwvT27KQatVauzK0XxRdmZdruXUuhdScIupdDThnNvQ5LOnVlekpJvr6n3cyb2VSy+/Q6au5lZ3KsZMXKWpQqUhuolJTQo3yKqS6lJLKOnTN2XRVlJbXmbYhDU00qezyWdzT11BafNeytaBrakKSG7lTUEB5Q+uPPvqaUkqqdcgNFRSXV9Ggb3ZCWUnY27bU2VpCX0NZs//GvKZDSXLjHQoKynHqlq6JJkmm8U4BBeUN1ocIS30SN7Z8wVex5ZZ7UvVltoz9gBXKOyXjP5mmSg0lJrCUllRSZwFrMWRJKPEX31UZSZYcjgk9NaVl1DZX13zbjlUb420ui4Ha0iIqm2zYG+/pqSkrp86xLks5lYR0i3WD3rPfEnLV11RMWC85j7VD7WsxrNgtoVon01BRTHlVA/bdrq1tItNYr/47KtXb1Qlnpe3Kaq3b/kY/28teiakYS1dqtS+bYLgcry3GkQVgBxJa7pao9SUdVaXN1w00GScb1/3Xnq3rvLaOKqKovFNs1NrMb7YZ2jPvKeXam9+2LnO6QXOelJOXKWvPFKBi535f6lxRvFfvDddZ83Z35p4yPR0Yfg1mkleIdRvzXu2L8i4IGLiyeiyzLNtlykqtjEivSWwyn7Z0UfihviXd2srov/uQVp+Jz6CZJLd8ZftQxy+Ce/AJaI9+wd8+OWB/YObBd/uB9PDBEkWg4WoEfv67iY6NJirqOFfFLxa8fx1HusOFyJ3sDosiOjqKsF07ibpo/t7V/fPiwatJl0dMQBAH9m5hT0bzO7YHz03h0R+TgHTrOEErF7NgoS8b4q5bDrv8MWnce9QPnCjee0jCgiAgCAgCgoAg0DECQhQ7xk2UEgQEAUFAEHgICQhRfAgbVYQkCAgCgoAg0DECQhQ7xk2UEgQEAUFAEHgICQhRfAgbVYQkCAgCgoAg0DECQhQ7xk2UEgQEAUFAEHgICQhRfAgbVYQkCAgCgoAg0DECQhQ7xk2UEgQEAUFAEHgICQhRfAgbVYQkCAgCgoAg0DECQhQ7xk2UEgQEAUFAEHgICQhRfAgbVYQkCAgCgoAg0DECQhQ7xk2UEgQEAUFAEHgICQhRfAgbVYQkCAgCgoAg0DECQhQ7xk2UEgQEAUFAEHgICQhRtG3UxlxCl/qwclsU50vt/4iwPj+O7XH5uPqbxLamfrO0XEHm3hDOtvNPaj0w/rcVjJM4DUWZhAf58s0PEVwTf9ewrTRFPkFAEGgjASGKFlAyRVuG8vriCy2Fr/Ec65eFUmjRST21hWfY5+OJX1ZbZFKmIusAG9Zv4Kfv5zJreSTX6i0VO0loyTuyjV2xCUTv3cTWxEKrXzWnWPN9JCWOf0zeiSUc/dfmcWTbLmITotm7aSuJhW2IQV9L4Zl9+Hj60aaQnfmidt2Zbadx6shc8Bqj94i/baiGU1wTBASBjhMQomhhJ3F99du8638Ti/YZ70n8umkGKy/ozDllKrMi2BsdzeL+zzEjpfm6xVCLhFwcwdrtv6A13qkhecYLPDs1hrsuRE17fhnDveKoVcrId4n44kN+vGIw25bQ7JjON8dbVVbA0X8t55cNxyvOaBn5bgRffPgjFtMtvFfqryQrYi/R0Yvp/9wM2hCymhX1ay5tO4vTYGyrQetuObSVehXiqiAgCAgCbSUgRNFCyiSKLSZafTbLJnxPjuNiSi4iwL1toqiNncLjj08kqs5UmTZmMo//tyeJJpW0eGBNaEmZ8Twjd1ebL8loNg3GbUGmJYtcsYfJn4Vz13LFScLRf20KM54fidW0hk2D3ViQ6RhgS3tyUQDunS2K5mqc2VaP00lbtXRZXBEEBAFBoF0EfveiKBWnsn9XOIcOBLLcZwVHbrW+clMnZODaqv6857D6kG6sZcS0OBodC7VDFNHeJvv8LRqMNmRKtw7hz72/d746kzVsGvQEE6OsL83q9o/i0Q92Wr0w5LLqQy8SrFms92xSjv7Lmk0MemIiVtN17B/1KB/sbFVecSZcNtV1OOnUtmqcJlF87yexUuwwcFFQEBAEVAn8zkVRmRz70cUzAUUbmlJm0nNsKFWqobZ2sY5Er95Miqyxy6iN88Td9wrNG5eWm+0RRUshQHcZ3/5ueESX4XT31JDLyr5PMinGqniNoZ/wl3fW21iqYe8Yd366Zb/Za5PBmHT035C7kr5PTsJqupHQT/7CO+sLHIu2+OxUuFrkbP8F57bV4pSpCBlL75nHacsGcvu9ESUEAUHgj0rgdy6KihJWUl5yi6yEw0QGTcVtoD/5rnWiRVsbbp9g/YyPmbQ6jTsOSlUfMg739QUt3111SBRryPCdwLR9N8zvF1u4Yrog5eP/9hNMPGwVxfqQUTzqHmhTQEvs5wNZdrGFXNvkAUf/pXx/3n5iIlbT9YSMehT3wBK7cmofnAtXy9xy+Qk2LfLB29tb5b8PiwJO2hVybttJnFIZKd+PY/SszZwuaWeD29UsPggCgoAgYCXwOxdFicJDMxk+0Y+0Eh2Ga6voP9Cv3aKo4JCqMlg67APW/WwvMk2Rkxm8+nonrBS1XDuwnB8Tio22dMUayp3O5dXsH/04H+1rXrXKlAYN4ckJkdaWo4mIiQNZcdXeX5sMxmQL/6v3M/rxj7CaLiVoyJNMiDRt7jqWt/3sXLhsc3Us7dy2epy6CysY8tEaLprOC3WsUlFKEBAEBAEHAr9vUdRnsbDnKywyf0dAnzGfHgP8yD0VRWyJjL4ok7j027TtLaOBqyv64b7xtt2qUJ+1mOHzTrW0IWsIGOx40EaPJj2GtELHGiWKU4LYllqG3mDAoKsmNXg3l5SzLXoN6TFp2BeRKNw8lLe+v2wWYz2Z3m8wcofNak4uYvOIcew3n8XRa9KJSSts4WcL/6VCNg99i+8vm8VUn4n3GyPZYfx+hzP/Tb1G1gQw2PGgjar/Dr2sDR9VbSvlHOI0mZK4sWYA76zNs2urNlQjsggCgoAg4JLA71sU5bscXzyM0UtjyEiNYX94ILPdP2aRfzgXtBI3A4fTzX0jN5yuyGzZODnRWB+Dx5hN3Lax0fDLEYI3LmR4t7/Sx2MtgftPU6zcl/IJHNaF52cl2G2PGi6u5M0//xuPPPKI+f+/8X8+DkFZB0r5gQzr8jyzEhyOojZcwP/zOezMvk1BZgBeHlu4Ypul6Sheo/z41eiXRH7gMLo8PwtHM6j5f8Gfz+fsJPt2AZkBXnhsuWLy14n/0MAvR4LZuHA43f7aB4+1gew/XWwUJKf+26J1mXZu21jMLs5mQ+KgTTMJ8VMQEAQ6l8DvWxSbWeiqKC2vM62qDE00tf7tguaSNj+diCJ1HP1qGrtKHV422pS0T9ZzIjHNThTt76t8qj9BYpqt4pnzSHXczkkj/UoJjQ7Va08vxnOz/Xcq608k0tKMuv9S3W1y0tK5UtLocOCnE/1XCbW9l9TiBPE9xfZyFPkFAUGgbQQeDlFsW6yt5JLI93+XgX4tt+QMv25lgX9Om4RO0sQTnlrlIDSuqpbQxIeTWuWgeq6KyKWELfLllPl7j8askob48FTUzDxw/ruKzfaeWpzG+wYuL+/L4A2FYvvUlpdICwKCwD0TEKJog1CfG8T4kQuIvlHrMNkauBW1luBzzQdfbArZJSWKL12izGar1e622gepmEuXyhzqU8vYfM1AQYw/28/ZnzCRii9xyWnFD5L/zXG09lM9TuU39NReP8RXH01hT57rQ0at1SDuCwKCgCDgSECIoiMRbSkXkxO54PALwUFHSVF5y1OojuV/689yNRpNbTtWos0OPSD+N7vT2k8ncUrF50k8eZlSld3m1kyK+4KAICAItEZAiGJrhMR9QUAQEAQEgT8MASGKf5imFoEKAoKAICAItEZAiGJrhMR9QUAQEAQEgT8MASGKf5imFoEKAoKAICAItEZAiGJrhMR9QUAQEAQEgT8MASGKf5imFoEKAoKAICAItEZAiGJrhMR9QUAQEAQEgT8Mgf8PwkyPhiIierAAAAAASUVORK5CYII=)"
      ],
      "metadata": {
        "id": "BZpaa9T51GP5"
      }
    },
    {
      "cell_type": "markdown",
      "source": [
        "![image.png](data:image/png;base64,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)"
      ],
      "metadata": {
        "id": "FKbkJhMM1E2C"
      }
    },
    {
      "cell_type": "code",
      "source": [
        "#DA\n",
        "# Importamos la librería de numpy\n",
        "import numpy as np\n",
        "\n",
        "# Definimos cada conjunto de vectores\n",
        "conjuntos = {\n",
        "    'a': np.array([[1, 2, 0], [0, 1, -1]]),\n",
        "    'b': np.array([[1, 1, -1], [2, 3, 4], [4, 1, -1], [0, 1, -1]]),\n",
        "    'c': np.array([[3, 2, 2], [-1, 2, 1], [0, 1, 0]]),\n",
        "    'd': np.array([[1, 0, 0], [0, 2, -1], [3, 4, 1], [0, 1, 0]])\n",
        "}\n",
        "\n",
        "# Función para verificar si un conjunto de vectores es base de R3\n",
        "def es_base_R3(vectores):\n",
        "    # Un conjunto de vectores en R3 debe tener exactamente tres vectores para ser una base.\n",
        "    if vectores.shape[0] != 3:\n",
        "        return False\n",
        "    # Deben ser linealmente independientes, lo cual se cumple si el determinante es no cero.\n",
        "    try:\n",
        "        \"\"\"\n",
        "        matrix_rank: Es una función dentro de linalg que calcula el rango de una matriz.\n",
        "        El rango es el número de dimensiones de la columna (o fila) espacio de la matriz,\n",
        "        que es también el máximo número de columnas (o filas) linealmente independientes.\n",
        "        \"\"\"\n",
        "        return np.linalg.matrix_rank(vectores) == 3\n",
        "    except np.linalg.LinAlgError:\n",
        "        return False\n",
        "\n",
        "# Verificamos cada conjunto\n",
        "base_results = {conjunto: es_base_R3(vectores) for conjunto, vectores in conjuntos.items()}\n",
        "base_results\n",
        "\n",
        "\"\"\"\n",
        "for conjunto, vectores in conjuntos.items():\n",
        "    es_base_R3(vectores)\n",
        "\"\"\""
      ],
      "metadata": {
        "colab": {
          "base_uri": "https://localhost:8080/"
        },
        "id": "XdSci4Oj1YhT",
        "outputId": "4be8912a-2d90-400e-ba79-08e71418d5fd"
      },
      "execution_count": 11,
      "outputs": [
        {
          "output_type": "execute_result",
          "data": {
            "text/plain": [
              "{'a': False, 'b': False, 'c': True, 'd': False}"
            ]
          },
          "metadata": {},
          "execution_count": 11
        }
      ]
    },
    {
      "cell_type": "code",
      "source": [
        "#GPT\n",
        "# Definimos los conjuntos de vectores para cada caso\n",
        "vectores_a = [(1, 2, 0), (0, 1, -1)]\n",
        "vectores_b = [(1, 1, -1), (2, 3, 4), (4, 1, -1), (0, 1, -1)]\n",
        "vectores_c = [(3, 2, 2), (-1, 2, 1), (0, 1, 0)]\n",
        "vectores_d = [(1, 0, 0), (0, 2, -1), (3, 4, 1), (0, 1, 0)]\n",
        "\n",
        "# Función para determinar si un conjunto de vectores forma una base\n",
        "def es_base(vectores):\n",
        "    # Convertimos los vectores en una matriz\n",
        "    matriz = Matrix(vectores)\n",
        "    # Verificamos si el número de vectores es igual al número de dimensiones del espacio\n",
        "    # y si el rango de la matriz es igual al número de vectores\n",
        "    return (matriz.rank() == len(vectores)) and (len(vectores) == 3)\n",
        "\n",
        "# Verificamos cada conjunto de vectores\n",
        "base_a = es_base(vectores_a)\n",
        "base_b = es_base(vectores_b)\n",
        "base_c = es_base(vectores_c)\n",
        "base_d = es_base(vectores_d)\n",
        "\n",
        "(base_a, base_b, base_c, base_d)\n"
      ],
      "metadata": {
        "colab": {
          "base_uri": "https://localhost:8080/"
        },
        "id": "UDlyYLJI18iN",
        "outputId": "456e11b0-2679-4c98-8fb1-6fdf7d6dafd1"
      },
      "execution_count": 13,
      "outputs": [
        {
          "output_type": "execute_result",
          "data": {
            "text/plain": [
              "(False, False, True, False)"
            ]
          },
          "metadata": {},
          "execution_count": 13
        }
      ]
    },
    {
      "cell_type": "markdown",
      "source": [
        "Para determinar si un conjunto de vectores forma una base para R^3, debemos verificar si los vectores son linealmente independientes y si su número es igual a la dimensión del espacio, que en este caso es tres. Un conjunto de vectores es linealmente independiente si la única solución a la ecuación \\( c_1\\mathbf{v}_1 + c_2\\mathbf{v}_2 + c_3\\mathbf{v}_3 = \\mathbf{0} \\) es \\( c_1 = c_2 = c_3 = 0 \\), donde \\( \\mathbf{v}_1, \\mathbf{v}_2, \\mathbf{v}_3 \\) son los vectores del conjunto y \\( \\mathbf{0} \\) es el vector cero.\n",
        "\n",
        "Vamos a revisar cada conjunto de vectores uno por uno.\n",
        "\n",
        "a) Conjunto de vectores \\( \\{(1, 2, 0), (0, 1, -1)\\} \\):\n",
        "\n",
        "Este conjunto no puede ser una base para R^3 porque sólo hay dos vectores y necesitamos tres vectores para formar una base en R^3.\n",
        "\n",
        "b) Conjunto de vectores \\( \\{(1, 1, -1), (2, 3, 4), (4, 1, -1), (0, 1, -1)\\} \\):\n",
        "\n",
        "Este conjunto tiene más de tres vectores. Para que sea una base, todos los vectores deben ser linealmente independientes. Sin embargo, tener más de tres vectores en R^3 automáticamente implica que son linealmente dependientes. Por lo tanto, no pueden formar una base.\n",
        "\n",
        "c) Conjunto de vectores \\( \\{(3, 2, 2), (-1, 2, 1), (0, 1, 0)\\} \\):\n",
        "\n",
        "Este conjunto tiene el número correcto de vectores para \\( \\mathbb{R}^3 \\), así que necesitamos verificar si son linealmente independientes. Esto se hace típicamente encontrando el determinante de la matriz formada por estos vectores. Si el determinante es no cero, los vectores son linealmente independientes y forman una base.\n",
        "\n",
        "d) Conjunto de vectores \\( \\{(1, 0, 0), (0, 2, -1), (3, 4, 1), (0, 1, 0)\\} \\):\n",
        "\n",
        "Al igual que en el caso b), este conjunto tiene más de tres vectores y por lo tanto es linealmente dependiente, lo que significa que no puede ser una base para R^3\n",
        "\n",
        "El determinante de la matriz formada por los vectores del conjunto c) es \\(-5\\), lo cual es un número distinto de cero. Esto indica que los vectores son linealmente independientes y, dado que hay tres vectores, este conjunto sí forma una base para \\( \\mathbb{R}^3 \\).\n",
        "\n",
        "\n"
      ],
      "metadata": {
        "id": "MmkHDtAB2A2l"
      }
    }
  ]
}
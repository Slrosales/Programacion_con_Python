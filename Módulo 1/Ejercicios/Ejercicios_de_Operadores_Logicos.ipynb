{
  "nbformat": 4,
  "nbformat_minor": 0,
  "metadata": {
    "colab": {
      "provenance": [],
      "collapsed_sections": [
        "FAmgblGFfTxX",
        "FyQItR1Le7Wx",
        "scrT7TQxizTJ",
        "I-3Qkm4mnLf5",
        "OvfK71U05YkB",
        "th-RzkZRheLs",
        "fhSPkkM8AMyC",
        "k4snHhTKh2rI",
        "B5LoDzhh7JGx",
        "nDrdfzdZ8wne",
        "EPo6kFU8z2Xo",
        "CbjKQhx8_rxi",
        "-HiYHBFOAI1B",
        "BAHsIj0MBvpg",
        "cpQpXJVDGa8q",
        "_y1-km7WAo03",
        "nhk4CM8KBLxC",
        "CEVGT6iklJ3W",
        "vqprqetAm4Qc",
        "MWtY1pg_q5Zx",
        "W68yBxpcthLF"
      ],
      "authorship_tag": "ABX9TyOYG+O0EwjFzyWUOMHAlnai",
      "include_colab_link": true
    },
    "kernelspec": {
      "name": "python3",
      "display_name": "Python 3"
    },
    "language_info": {
      "name": "python"
    }
  },
  "cells": [
    {
      "cell_type": "markdown",
      "metadata": {
        "id": "view-in-github",
        "colab_type": "text"
      },
      "source": [
        "<a href=\"https://colab.research.google.com/github/Slrosales/Programacion_con_Python/blob/main/M%C3%B3dulo%201/Ejercicios/Ejercicios_de_Operadores_Logicos.ipynb\" target=\"_parent\"><img src=\"https://colab.research.google.com/assets/colab-badge.svg\" alt=\"Open In Colab\"/></a>"
      ]
    },
    {
      "cell_type": "markdown",
      "source": [
        "## Operadores"
      ],
      "metadata": {
        "id": "fhSPkkM8AMyC"
      }
    },
    {
      "cell_type": "markdown",
      "source": [
        "### Operadores Lógicos\n"
      ],
      "metadata": {
        "id": "nDrdfzdZ8wne"
      }
    },
    {
      "cell_type": "markdown",
      "source": [
        "Se utilizan para realizar operaciones de lógica booleana en valores booleanos o expresiones que se evalúan como verdaderas (`True`) o falsas (`False`). Estos operadores permiten combinar, comparar y evaluar condiciones lógicas en un programa.\n",
        "\n",
        "| Operador | Descripción                                   |\n",
        "|----------|-----------------------------------------------|\n",
        "| `and`    | Retorna `True` si ambas condiciones son `True`.   |\n",
        "| `or`     | Retorna `True` si al menos una condición es `True`. |\n",
        "| `not`    | Invierte el valor de una condición.              |\n",
        "\n",
        "\n",
        "Se utilizan comúnmente para controlar el flujo del programa mediante estructuras condicionales (if, elif, else) y para combinar múltiples condiciones para tomar decisiones basadas en la lógica booleana."
      ],
      "metadata": {
        "id": "wO_syiRJGKG0"
      }
    },
    {
      "cell_type": "code",
      "source": [
        "a = True\n",
        "b = False\n",
        "\n",
        "print(\"a and b: \", a and b)\n",
        "print(\"a or b:\", a or b )\n",
        "print(\"not a: \", not a )"
      ],
      "metadata": {
        "colab": {
          "base_uri": "https://localhost:8080/"
        },
        "id": "R39-KanpCyJg",
        "outputId": "e856fe44-9789-4bc5-fc04-d4732ccd28d4"
      },
      "execution_count": null,
      "outputs": [
        {
          "output_type": "stream",
          "name": "stdout",
          "text": [
            "a and b:  False\n",
            "a or b: True\n",
            "not a:  False\n"
          ]
        }
      ]
    },
    {
      "cell_type": "code",
      "source": [
        "# Ejemplo\n",
        "a, b, c, d = 3, 2, 3, 6\n",
        "not((b*a)==d or (((a+b) > (c+d)) and (((c-a)*b) < ((b+3)/3))))\n",
        "not((2*3)==6 or (((3+2) > (3+6)) and (((3-3)*2) < ((2+3)/3))))\n",
        "not((2*3)==6 or (((3+2) > (3+6)) and (((3-3)*2) < (5/3))))\n",
        "not((2*3)==6 or (((3+2) > (3+6)) and (((3-3)*2) < 1.6)))\n",
        "not((2*3)==6 or (((3+2) > (3+6)) and ((0*2) < 1.6)))\n",
        "not((2*3)==6 or (((3+2) > (3+6)) and (0 < 1.6)))\n",
        "not((2*3)==6 or ((5 > 9) and (0 < 1.6)))\n",
        "not((2*3)==6 or (False and True))\n",
        "not(6==6 or False)\n",
        "not(True or False)\n",
        "not True"
      ],
      "metadata": {
        "id": "WiwZ9gVOFFBo",
        "outputId": "8657d6a6-1a34-479d-bb99-b74b1d99e0ea",
        "colab": {
          "base_uri": "https://localhost:8080/"
        }
      },
      "execution_count": null,
      "outputs": [
        {
          "output_type": "execute_result",
          "data": {
            "text/plain": [
              "False"
            ]
          },
          "metadata": {},
          "execution_count": 1
        }
      ]
    },
    {
      "cell_type": "code",
      "source": [
        "a, b, c, d, e = 5, 2, 3, 1, 4\n",
        "((c+d*e) == (c*(d-a)+a) and not (e+b/b != b+c or (e+a > d-b)) and 4 != (d-a))\n",
        "((3+1*4) == (3*(1-5)+5) and not (4+2/2 != 2+3 or (4+5 > 1-2)) and 4 !=  (1-5))\n",
        "((3+1*4) == (3*(-4)+5) and not (4+2/2 != 2+3 or (9 > (-1))) and 4 !=  (1-5))\n",
        "((3+1*4) == (3*(-4)+5) and not (4+2/2 != 2+3 or True) and 4 !=  (1-5))\n",
        "(7 == (-7) and not (5 != 5 or True) and 4 != (-4))\n",
        "(7 == (-7) and not (False or True) and 4 != (-4))\n",
        "(7 == (-7) and not True and 4 != (-4))\n",
        "(False and not True and 4 != (-4))\n",
        "(False and (4 != -4))\n",
        "False and False\n",
        "False"
      ],
      "metadata": {
        "id": "_wLlSCKb6Foe"
      },
      "execution_count": null,
      "outputs": []
    },
    {
      "cell_type": "markdown",
      "source": [
        "# Ejercicios"
      ],
      "metadata": {
        "id": "LEWOIpWQDIqs"
      }
    },
    {
      "cell_type": "code",
      "source": [
        "a, b, c, d = 4, 3, 5, 7\n",
        "((a + b) >= d) or ((c * a) < (b + d)) and ((c - a) * b) != (c / 2)"
      ],
      "metadata": {
        "id": "ZDoHbtDnDKf4"
      },
      "execution_count": null,
      "outputs": []
    },
    {
      "cell_type": "code",
      "source": [
        "x, y, z = 6, 8, 3\n",
        "not((x**2 == y * z) and ((z + y) > (x - z)) or ((x / y) != (z + y)))"
      ],
      "metadata": {
        "id": "NsC6MseeDQp9"
      },
      "execution_count": null,
      "outputs": []
    },
    {
      "cell_type": "code",
      "source": [
        "p, q, r, s = 7, 2, 4, 9\n",
        "not((p * r == s - q) or (q + s) != (r * p) and (r - q) > (p - s))"
      ],
      "metadata": {
        "id": "OCUYhKhDDTwF"
      },
      "execution_count": null,
      "outputs": []
    },
    {
      "cell_type": "code",
      "source": [
        "m, n, o = 5, 10, 15\n",
        "not((m + n) <= o and ((o - m) > (n / 2)) or ((n * m) == (o - n)))"
      ],
      "metadata": {
        "id": "tO__kGpXDdui"
      },
      "execution_count": null,
      "outputs": []
    }
  ]
}
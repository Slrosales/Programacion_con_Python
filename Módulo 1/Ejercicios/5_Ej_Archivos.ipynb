{
  "nbformat": 4,
  "nbformat_minor": 0,
  "metadata": {
    "colab": {
      "provenance": [],
      "authorship_tag": "ABX9TyMO3YBOb1vOg03Ye0qKzOsR",
      "include_colab_link": true
    },
    "kernelspec": {
      "name": "python3",
      "display_name": "Python 3"
    },
    "language_info": {
      "name": "python"
    }
  },
  "cells": [
    {
      "cell_type": "markdown",
      "metadata": {
        "id": "view-in-github",
        "colab_type": "text"
      },
      "source": [
        "<a href=\"https://colab.research.google.com/github/Slrosales/Programacion_con_Python/blob/main/M%C3%B3dulo%201/Ejercicios/5_Ej_Archivos.ipynb\" target=\"_parent\"><img src=\"https://colab.research.google.com/assets/colab-badge.svg\" alt=\"Open In Colab\"/></a>"
      ]
    },
    {
      "cell_type": "markdown",
      "source": [
        "#**1. Ejercicio: Adivina el Número Secreto**\n",
        "\n",
        "Crea un script en Python que permita jugar a un juego de adivinar un número secreto. El script debe cumplir con las siguientes condiciones:\n",
        "\n",
        "1. **Generar el número secreto:**\n",
        "   El número secreto debe generarse aleatoriamente en un rango de 1 a 100.\n",
        "   \n",
        "2. **Solicitar el nombre del jugador:**\n",
        "   El programa debe pedir el nombre del jugador al comenzar.\n",
        "   \n",
        "3. **Número de intentos:**\n",
        "   El jugador tendrá un máximo de 8 intentos para adivinar el número.\n",
        "   \n",
        "4. **Indicaciones durante el juego:**\n",
        "   Después de que el jugador ingrese un número, el sistema debe indicarle si el número ingresado es mayor o menor que el número secreto, y también cuántos intentos le quedan.\n",
        "\n",
        "5. **Manejo de errores:**\n",
        "   Si el jugador agota sus 8 intentos sin adivinar el número, el programa mostrará un mensaje de error que incluirá el nombre del jugador. El nombre del jugador se debe guardar en un archivo llamado `perdedores.txt`.\n",
        "\n",
        "6. **Ganadores:**\n",
        "   Si el jugador adivina el número secreto dentro de los 8 intentos, el programa le mostrará un mensaje de felicitación en otro color. Además, el nombre del jugador y la cantidad de intentos utilizados se deben guardar en un archivo llamado `ganadores.txt`.\n",
        "\n"
      ],
      "metadata": {
        "id": "e-ffPrb_-teM"
      }
    },
    {
      "cell_type": "code",
      "execution_count": null,
      "metadata": {
        "id": "pNRPvGGY-jV0"
      },
      "outputs": [],
      "source": []
    }
  ]
}
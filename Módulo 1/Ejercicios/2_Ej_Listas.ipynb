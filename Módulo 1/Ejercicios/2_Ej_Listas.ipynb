{
  "nbformat": 4,
  "nbformat_minor": 0,
  "metadata": {
    "colab": {
      "provenance": [],
      "authorship_tag": "ABX9TyPppKldeeNIPu3D4fKZC8uJ",
      "include_colab_link": true
    },
    "kernelspec": {
      "name": "python3",
      "display_name": "Python 3"
    },
    "language_info": {
      "name": "python"
    }
  },
  "cells": [
    {
      "cell_type": "markdown",
      "metadata": {
        "id": "view-in-github",
        "colab_type": "text"
      },
      "source": [
        "<a href=\"https://colab.research.google.com/github/Slrosales/Programacion_con_Python/blob/main/M%C3%B3dulo%201/Ejercicios/2_Ej_Listas.ipynb\" target=\"_parent\"><img src=\"https://colab.research.google.com/assets/colab-badge.svg\" alt=\"Open In Colab\"/></a>"
      ]
    },
    {
      "cell_type": "markdown",
      "source": [
        "# **1. Piedra, papel o tijera**"
      ],
      "metadata": {
        "id": "WubMcufyNK4k"
      }
    },
    {
      "cell_type": "markdown",
      "source": [
        "Se desea simular el clásico juego, donde el usuario competira contra el programa. El usuario debe elegir entre piedra, papel o tijera, al igual que la máquina, a partir de esto, se debe determinar el ganador.\n",
        "\n",
        "**Plus:** Puede llevarse la cuenta de las rondas para determinar un ganador final después de un número de juegos."
      ],
      "metadata": {
        "id": "0aHcHz9GNP4s"
      }
    },
    {
      "cell_type": "code",
      "source": [],
      "metadata": {
        "id": "LcdWmeBuNXns"
      },
      "execution_count": null,
      "outputs": []
    },
    {
      "cell_type": "markdown",
      "source": [
        "# **2. Nombres de Bandas**"
      ],
      "metadata": {
        "id": "yceN48bXQyo5"
      }
    },
    {
      "cell_type": "markdown",
      "source": [
        "\n",
        "**Nombre de bandas**\n",
        "\n",
        "Cree al menos 3 nombres aleatorios de bandas a partir de sustantivos y adjetivos.\n",
        "\n",
        "Se recomienda el uso de listas para este ejercicio.\n",
        "\n",
        "Utilice la función `random()` para seleccionar aleatoriamente un sustantivo y un adjetivo de las listas e imprima los nombres de las bandas generadas.\n",
        "\n",
        "**Plus**: El usuario puede personalizar qué sustantivos y adjetivos utilizar.\n",
        "---\n",
        "**Cómo utilizar la función `random()`**:\n",
        "\n",
        "1. Primero debes importar el módulo:\n",
        "\n",
        "```python\n",
        "import random\n",
        "```\n",
        "\n",
        "2. Luego, puedes utilizar `random()` para obtener un número aleatorio en un rango especificado. Por ejemplo, si tienes una lista llamada `lista` y quieres seleccionar un elemento aleatorio de esa lista, puedes hacerlo así:\n",
        "\n",
        "```python\n",
        "elemento_aleatorio = random.choice(lista)\n",
        "```\n",
        "\n",
        "Esto seleccionará un elemento aleatorio de la lista `lista` y lo almacenará en la variable `elemento_aleatorio`."
      ],
      "metadata": {
        "id": "v2T4Ndc3Q12o"
      }
    },
    {
      "cell_type": "code",
      "execution_count": null,
      "metadata": {
        "id": "IV2dZDRhQmxQ"
      },
      "outputs": [],
      "source": []
    },
    {
      "cell_type": "markdown",
      "source": [
        "# **3. Corrimientos en un vector**"
      ],
      "metadata": {
        "id": "aXWeNERzQ5XJ"
      }
    },
    {
      "cell_type": "markdown",
      "source": [
        "Desarrollar un algoritmo que realice corrimientos hacia la derecha de un\n",
        "elemento en un vector A de n elementos."
      ],
      "metadata": {
        "id": "uH85YdNeQ-3g"
      }
    },
    {
      "cell_type": "code",
      "source": [],
      "metadata": {
        "id": "PX1sJdf0RDpJ"
      },
      "execution_count": null,
      "outputs": []
    },
    {
      "cell_type": "markdown",
      "source": [
        "# **4. Fusionar Arrays Ordenados**\n",
        "\n"
      ],
      "metadata": {
        "id": "M6TVpN4X4i18"
      }
    },
    {
      "cell_type": "markdown",
      "source": [
        "Se te dan dos arrays de enteros `nums1` y `nums2`, ordenados en orden no decreciente, y dos enteros `m` y `n`, que representan el número de elementos en `nums1` y `nums2` respectivamente.\n",
        "\n",
        "Fusiona `nums1` y `nums2` en un solo array ordenado en orden no decreciente.\n",
        "\n",
        "El array final ordenado no debe ser devuelto por la función, sino que debe almacenarse dentro del array `nums1`. Para acomodar esto, `nums1` tiene una longitud de `m + n`, donde los primeros `m` elementos denotan los elementos que deben fusionarse, y los últimos `n` elementos están establecidos en `0` y deben ser ignorados. `nums2` tiene una longitud de `n`.\n",
        "\n",
        "### Ejemplo 1:\n",
        "\n",
        "**Entrada:** `nums1 = [1,2,3,0,0,0]`, `m = 3`, `nums2 = [2,5,6]`, `n = 3`  \n",
        "**Salida:** `[1,2,2,3,5,6]`  \n",
        "**Explicación:** Los arrays que estamos fusionando son `[1,2,3]` y `[2,5,6]`. El resultado de la fusión es `[1,2,2,3,5,6]` con los elementos subrayados provenientes de `nums1`.\n",
        "\n",
        "### Ejemplo 2:\n",
        "\n",
        "**Entrada:** `nums1 = [1]`, `m = 1`, `nums2 = []`, `n = 0`  \n",
        "**Salida:** `[1]`  \n",
        "**Explicación:** Los arrays que estamos fusionando son `[1]` y `[]`. El resultado de la fusión es `[1]`.\n",
        "\n",
        "### Ejemplo 3:\n",
        "\n",
        "**Entrada:** `nums1 = [0]`, `m = 0`, `nums2 = [1]`, `n = 1`  \n",
        "**Salida:** `[1]`  \n",
        "**Explicación:** Los arrays que estamos fusionando son `[]` y `[1]`. El resultado de la fusión es `[1]`.  \n",
        "Nota que debido a que `m = 0`, no hay elementos en `nums1`. El `0` solo está para asegurar que el resultado de la fusión pueda caber en `nums1`.\n",
        "\n",
        "### Restricciones:\n",
        "\n",
        "- `nums1.length == m + n`\n",
        "- `nums2.length == n`\n",
        "- `0 <= m, n <= 200`\n",
        "- `1 <= m + n <= 200`\n",
        "- `-10^9 <= nums1[i], nums2[j] <= 10^9`\n"
      ],
      "metadata": {
        "id": "Q0AGw8-348GT"
      }
    },
    {
      "cell_type": "code",
      "source": [],
      "metadata": {
        "id": "ZVbGuZV54nCJ"
      },
      "execution_count": null,
      "outputs": []
    }
  ]
}
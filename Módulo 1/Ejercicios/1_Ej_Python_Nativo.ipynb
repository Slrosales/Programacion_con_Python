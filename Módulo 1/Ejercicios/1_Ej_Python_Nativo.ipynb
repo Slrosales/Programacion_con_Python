{
  "nbformat": 4,
  "nbformat_minor": 0,
  "metadata": {
    "colab": {
      "provenance": [],
      "authorship_tag": "ABX9TyO43+EN47OxdJ+yRVhgSS0m",
      "include_colab_link": true
    },
    "kernelspec": {
      "name": "python3",
      "display_name": "Python 3"
    },
    "language_info": {
      "name": "python"
    }
  },
  "cells": [
    {
      "cell_type": "markdown",
      "metadata": {
        "id": "view-in-github",
        "colab_type": "text"
      },
      "source": [
        "<a href=\"https://colab.research.google.com/github/Slrosales/Programacion_con_Python/blob/main/M%C3%B3dulo%201/Ejercicios/1_Ej_Python_Nativo.ipynb\" target=\"_parent\"><img src=\"https://colab.research.google.com/assets/colab-badge.svg\" alt=\"Open In Colab\"/></a>"
      ]
    },
    {
      "cell_type": "markdown",
      "source": [
        "# **1. Sucesión de Fibonacci**"
      ],
      "metadata": {
        "id": "53vKKXFOJUw5"
      }
    },
    {
      "cell_type": "markdown",
      "source": [
        "La sucesión de Fibonacci es una serie matemática que inicia con los números 0 y 1, y cada término subsiguiente es la suma de los dos anteriores. La sucesión comienza así: 0, 1, 1, 2, 3, 5, 8, 13, 21, ..."
      ],
      "metadata": {
        "id": "6RaXKcxiL3ae"
      }
    },
    {
      "cell_type": "markdown",
      "source": [
        "Escribe un código que tome un número entero `n` como argumento y devuelva una lista que contenga los primeros `n` términos de la sucesión de Fibonacci.\n",
        "\n",
        "**Ejemplo:**\n",
        "\n",
        "```python\n",
        ">>> 10\n",
        "[0, 1, 1, 2, 3, 5, 8, 13, 21, 34]\n",
        "```\n",
        "\n",
        "- La función debe aceptar solo números enteros positivos como entrada.\n",
        "- Asegúrate de que la función sea capaz de manejar el caso cuando `n` es 0 o 1"
      ],
      "metadata": {
        "id": "L9leymHUL_VW"
      }
    },
    {
      "cell_type": "code",
      "execution_count": null,
      "metadata": {
        "id": "3eaKZ9HPGktY"
      },
      "outputs": [],
      "source": []
    },
    {
      "cell_type": "markdown",
      "source": [
        "# **2. Factorial de un Número**"
      ],
      "metadata": {
        "id": "1oYi2atRJ5m3"
      }
    },
    {
      "cell_type": "markdown",
      "source": [
        "El factorial de un número entero positivo $n$, representado como $n!$, es el producto de todos los enteros positivos desde 1 hasta $n$. Por ejemplo, el factorial de 5.\n",
        "\n",
        "$5!$, es igual a $5 \\times 4 \\times 3 \\times 2 \\times 1 = 120$."
      ],
      "metadata": {
        "id": "EJyPH7VFMFVO"
      }
    },
    {
      "cell_type": "markdown",
      "source": [
        "Escribe un código que tome un número entero positivo `n` como argumento y devuelva su factorial.\n",
        "\n",
        "**Ejemplo:**\n",
        "\n",
        "```python\n",
        ">>> 5\n",
        "120\n",
        "```\n",
        "\n",
        "\n",
        "- Asegúrate de que la función sea capaz de manejar el caso cuando `n` es 0 o 1, donde el factorial es 1."
      ],
      "metadata": {
        "id": "jgRiUQifMIE2"
      }
    },
    {
      "cell_type": "code",
      "source": [],
      "metadata": {
        "id": "smaI8e0HKXDf"
      },
      "execution_count": null,
      "outputs": []
    },
    {
      "cell_type": "markdown",
      "source": [
        "# **3. Fórmula General de la Ecuación Cuadrática**\n"
      ],
      "metadata": {
        "id": "gjM7ZNaVKWr4"
      }
    },
    {
      "cell_type": "markdown",
      "source": [
        "La ecuación cuadrática tiene la forma $ax^2 + bx + c = 0$, donde $a$, $b$, y $c$ son coeficientes dados y $x$ representa la incógnita."
      ],
      "metadata": {
        "id": "OuiNw0v7MNEd"
      }
    },
    {
      "cell_type": "markdown",
      "source": [
        "Escribe una función en Python llamada `ecuacion_cuadratica` que tome como argumentos los coeficientes $a$, $b$, y $c$ de una ecuación cuadrática y devuelva las soluciones (raíces) de la ecuación utilizando la fórmula general:\n",
        "\n",
        "\n",
        "$x = \\frac{{-b \\pm \\sqrt{{b^2 - 4ac}}}}{{2a}}$\n",
        "\n",
        "\n",
        "**Ejemplo de uso:**\n",
        "\n",
        "```python\n",
        ">>> ecuacion_cuadratica(1, -3, 2)\n",
        "(2.0, 1.0)\n",
        "```\n",
        "\n",
        "\n",
        "- Asegúrate de manejar los casos donde el discriminante \\(b^2 - 4ac\\) sea negativo.\n",
        "- Si el discriminante es igual a cero, la ecuación tiene una única solución.\n",
        "- Si el discriminante es positivo, la ecuación tiene dos soluciones."
      ],
      "metadata": {
        "id": "yBBzLtoNMPcc"
      }
    },
    {
      "cell_type": "code",
      "source": [],
      "metadata": {
        "id": "IP2WAZBfLlQO"
      },
      "execution_count": null,
      "outputs": []
    },
    {
      "cell_type": "markdown",
      "source": [
        "# 4. **Triangulo de $*$**"
      ],
      "metadata": {
        "id": "G2ZHcfaZLscO"
      }
    },
    {
      "cell_type": "markdown",
      "source": [
        "Visualice en pantalla una figura similar a la siguiente; el usuario debe ingresar el número de líneas/filas que desea.\n",
        "\n",
        "n = 5\n",
        "```\n",
        "*\n",
        "* *\n",
        "* * *\n",
        "* * * *\n",
        "* * * * *\n",
        "```"
      ],
      "metadata": {
        "id": "T0hyIW7iMeVV"
      }
    },
    {
      "cell_type": "code",
      "source": [],
      "metadata": {
        "id": "lwKPm4C_MfJs"
      },
      "execution_count": null,
      "outputs": []
    },
    {
      "cell_type": "markdown",
      "source": [
        "# **5. El número del medio**"
      ],
      "metadata": {
        "id": "l-luw6joMfms"
      }
    },
    {
      "cell_type": "markdown",
      "source": [
        "Dados 3 números n1, n2 y n3, indicar cuál es el número medio. El número medio es el que se encuentra entre los dos."
      ],
      "metadata": {
        "id": "de8X77zpMlWM"
      }
    },
    {
      "cell_type": "code",
      "source": [],
      "metadata": {
        "id": "LNUtKkJuMwbU"
      },
      "execution_count": null,
      "outputs": []
    },
    {
      "cell_type": "markdown",
      "source": [
        "# **6. Suma de los términos de la serie**"
      ],
      "metadata": {
        "id": "UCMli0ceMpt1"
      }
    },
    {
      "cell_type": "markdown",
      "source": [
        "$\\sum_{i=1}^n\\frac{1}{2^i}$\n",
        "\n",
        "El usuario debe ingresar el valor de `n`; tenga en cuenta que entre más grande sea `n`, el resultado debe acercarse a 1."
      ],
      "metadata": {
        "id": "jTf6XGWxM1MF"
      }
    },
    {
      "cell_type": "code",
      "source": [],
      "metadata": {
        "id": "oC99XUJFM38N"
      },
      "execution_count": null,
      "outputs": []
    },
    {
      "cell_type": "markdown",
      "source": [
        "# **7. Número de Armstrong**"
      ],
      "metadata": {
        "id": "U07TOPzvM4PE"
      }
    },
    {
      "cell_type": "markdown",
      "source": [
        "Un número de Armstrong es un número que es igual a la suma de sus propios dígitos, cada uno elevado a la potencia del número de dígitos. Por ejemplo, en un número de 4 dígitos, cada dígito será elevado a la cuarta potencia.\n",
        "\n",
        "Para el número 1634:\n",
        "\n",
        "$1^4 + 6^4 + 3^4 + 4^4 = 1 + 1296 + 81 + 256 = 1634$\n",
        "\n",
        "**Entrada**: 1634\n",
        "\n",
        "**Salida**: Sí, el número es de Armstrong."
      ],
      "metadata": {
        "id": "jVGFtuqvM_qE"
      }
    },
    {
      "cell_type": "code",
      "source": [],
      "metadata": {
        "id": "EyJ1x2eRM_Ps"
      },
      "execution_count": null,
      "outputs": []
    },
    {
      "cell_type": "markdown",
      "source": [
        "# **8. Adivina el número**"
      ],
      "metadata": {
        "id": "pQriGzH0NEvc"
      }
    },
    {
      "cell_type": "markdown",
      "source": [
        "El juego funciona de la siguiente manera:\n",
        "\n",
        "El programa elige un número aleatorio dentro de un rango definido (Ej: 1 al 100).\n",
        "El usuario intenta adivinar el número proporcionando.\n",
        "Si el usuario no adivina el número, el programa proporciona pistas, indicando si el número secreto es mayor o menor que el intento.\n",
        "El juego continúa hasta que el usuario adivina el número correctamente.\n",
        "\n",
        "**Plus:** El programa puede también llevar la cuenta de la cantidad de intentos y dar una calificación basada en el rendimiento del jugador.\n"
      ],
      "metadata": {
        "id": "1ssFALzxNId8"
      }
    },
    {
      "cell_type": "code",
      "source": [],
      "metadata": {
        "id": "0P9VuHmsNJIs"
      },
      "execution_count": null,
      "outputs": []
    },
    {
      "cell_type": "markdown",
      "source": [
        "# **9. Piedra, papel o tijera**"
      ],
      "metadata": {
        "id": "WubMcufyNK4k"
      }
    },
    {
      "cell_type": "markdown",
      "source": [
        "Se desea simular el clásico juego, donde el usuario competira contra el programa. El usuario debe elegir entre piedra, papel o tijera, al igual que la máquina, a partir de esto, se debe determinar el ganador.\n",
        "\n",
        "**Plus:** Puede llevarse la cuenta de las rondas para determinar un ganador final después de un número de juegos."
      ],
      "metadata": {
        "id": "0aHcHz9GNP4s"
      }
    },
    {
      "cell_type": "code",
      "source": [],
      "metadata": {
        "id": "LcdWmeBuNXns"
      },
      "execution_count": null,
      "outputs": []
    },
    {
      "cell_type": "markdown",
      "source": [
        "# **10. Día del mes**"
      ],
      "metadata": {
        "id": "m4OPEVDVNR7M"
      }
    },
    {
      "cell_type": "markdown",
      "source": [
        "Se sabe que el primer día de un mes es domingo. Haga un algoritmo que reciba como entrada un número entero n (1 ≤ n ≤ 31) correspondiente a un día de ese mes e imprima en qué día de la semana cae ese día n.\n",
        "\n",
        "**Entrada:** 1\n",
        "\n",
        "**Salida:** Domingo\n",
        "\n",
        "\n",
        "**Entrada:** 11\n",
        "\n",
        "**Salida:** Miércoles"
      ],
      "metadata": {
        "id": "O6hMq01eNZbk"
      }
    },
    {
      "cell_type": "code",
      "source": [],
      "metadata": {
        "id": "8UFxM6VWNbGU"
      },
      "execution_count": null,
      "outputs": []
    },
    {
      "cell_type": "markdown",
      "source": [
        "# **11. Series de Taylor**"
      ],
      "metadata": {
        "id": "9zfnrjXWNbXk"
      }
    },
    {
      "cell_type": "markdown",
      "source": [
        "Realice un algoritmo que calcule la función que corresponda para un \\( x \\) ingresado por el usuario y el número de términos \\( m \\) de la serie que él desee evaluar. En el caso de las funciones trigonométricas, el \\( x \\) se encuentra en radianes.\n",
        "\n",
        "a) Función Exponencial\n",
        "$$e^x = \\sum_{n=0}^{\\infty} \\frac{x^n}{n!} \\quad \\text{para todo } x $$\n",
        "\n",
        "b) Función Logaritmo natural\n",
        "$$ \\ln(1 + x) = \\sum_{n=1}^{\\infty} \\frac{(-1)^{n+1}}{n} x^n \\quad \\text{para } |x| < 1 $$\n",
        "\n",
        "c) Función Seno\n",
        "$$ \\sin x = \\sum_{n=0}^{\\infty} \\frac{(-1)^n}{(2n + 1)!} x^{2n+1} \\quad \\text{para todo } x $$\n",
        "\n",
        "d) Función Coseno\n",
        "$$ \\cos x = \\sum_{n=0}^{\\infty} \\frac{(-1)^n}{(2n)!} x^{2n} \\quad \\text{para todo } x $$\n",
        "\n",
        "e) Función Arcoseno:\n",
        "$$ \\text{arsinh} \\, x = \\sum_{n=0}^{\\infty} \\frac{(-1)^n (2n)!}{4^n (n!)^2 (2n + 1)} x^{2n+1} \\quad \\text{para } |x| < 1 $$\n",
        "\n",
        "f) Función Arcotangente\n",
        "$$ \\text{arctan} \\, x = \\sum_{n=0}^{\\infty} \\frac{(-1)^n}{2n + 1} x^{2n+1} \\quad \\text{para } |x| < 1 $$\n",
        "\n",
        "g) Función Seno hiperbólico\n",
        "$$ \\sinh x = \\sum_{n=0}^{\\infty} \\frac{1}{(2n + 1)!} x^{2n+1} \\quad \\text{para todo } x $$\n",
        "\n",
        "h) Función Coseno hiperbólico\n",
        "$$ \\cosh x = \\sum_{n=0}^{\\infty} \\frac{1}{(2n)!} x^{2n} \\quad \\text{para todo } x $$\n",
        "\n",
        "i) Función Arcoseno hiperbólico\n",
        "$$ \\text{arsinh} \\, x = \\sum_{n=0}^{\\infty} \\frac{(-1)^n (2n)!}{4^n (n!)^2 (2n + 1)} x^{2n+1} \\quad \\text{para } |x| < 1 $$\n",
        "\n",
        "j) Función Tangente hiperbólico\n",
        "$$ \\tanh^{-1} x = \\sum_{n=0}^{\\infty} \\frac{1}{2n + 1} x^{2n+1} \\quad \\text{para } |x| < 1 $$\n",
        "\n",
        "g)Serie Geométrica:\n",
        "$$ \\frac{1}{1 - x} = \\sum_{n=0}^{\\infty} x^n \\quad \\text{para } |x| < 1 $$"
      ],
      "metadata": {
        "id": "2fx9ULnSNgy8"
      }
    },
    {
      "cell_type": "markdown",
      "source": [
        "## **a) Función Exponencial**\n"
      ],
      "metadata": {
        "id": "HjACg2XaOJFb"
      }
    },
    {
      "cell_type": "markdown",
      "source": [
        "$$e^x = \\sum_{n=0}^{\\infty} \\frac{x^n}{n!} \\quad \\text{para todo } x $$"
      ],
      "metadata": {
        "id": "A1_o6WK_ONGs"
      }
    },
    {
      "cell_type": "code",
      "source": [
        "import math\n",
        "\n",
        "m = int(input(\"Digite la parada de la sumatoria: \"))\n",
        "x = float(input(\"\\nDigite el valor de x: \"))\n",
        "\n",
        "respuesta = 1  # todo x^0 = 1 y 0! = 1\n",
        "factorial = 1\n",
        "\n",
        "for n in range(1, m):\n",
        "    factorial *= n\n",
        "    respuesta = respuesta + (math.pow(x, n) / factorial)\n",
        "\n",
        "print(\"Valor aproximado de e^\" + str(x) + \" = \" + str(respuesta))\n",
        "print(\"Valor de libreria   e^\" + str(x) + \" = \" + str(math.exp(x)))"
      ],
      "metadata": {
        "id": "iZvEAVaSON8F"
      },
      "execution_count": null,
      "outputs": []
    },
    {
      "cell_type": "markdown",
      "source": [
        "## **d) Función Coseno**"
      ],
      "metadata": {
        "id": "OEi01r9rOWMD"
      }
    },
    {
      "cell_type": "markdown",
      "source": [
        "$$ \\cos x = \\sum_{n=0}^{\\infty} \\frac{(-1)^n}{(2n)!} x^{2n} \\quad \\text{para todo } x $$"
      ],
      "metadata": {
        "id": "957_pI_COY1T"
      }
    },
    {
      "cell_type": "code",
      "source": [
        "import math\n",
        "\n",
        "print(\"Digite la parada de la sumatoria\")\n",
        "m = int(input())\n",
        "\n",
        "print(\"\\nDigite el valor de x\")\n",
        "x = float(input())\n",
        "\n",
        "respuesta = 1.0\n",
        "\n",
        "for n in range(1, m):\n",
        "    factorial = 1.0  # Reiniciar el factorial para cada término\n",
        "    for i in range(1, 2 * n + 1):\n",
        "        factorial *= i\n",
        "    respuesta += (math.pow(-1, n) / factorial) * math.pow(x, 2 * n)\n",
        "\n",
        "print(\"Valor aproximado de cos(\" + str(x) + \") = \" + str(respuesta))\n",
        "print(\"Valor de libreria   cos(\" + str(x) + \") = \" + str(math.cos(x)))"
      ],
      "metadata": {
        "id": "rXfYRTVyNfhT"
      },
      "execution_count": null,
      "outputs": []
    },
    {
      "cell_type": "markdown",
      "source": [
        "# **12. Multiplicación por adición repetida**"
      ],
      "metadata": {
        "id": "BS9CjuTsO1dS"
      }
    },
    {
      "cell_type": "markdown",
      "source": [
        "Los lenguajes ensambladores para algunos microprocesadores no tienen una operación de multiplicación. Aunque hay algoritmos sofisticados para llevar a cabo la multiplicación en estos casos, un método simple multiplica por adición repetida. En este caso la eficiencia del algoritmo puede incrementarse usando ciclos anidados.\n",
        "\n",
        "Por ejemplo, para multiplicar un número por 12, primero suma el número tres veces y luego suma el resultado cuatro veces. Esto solo requiere siete adiciones en vez de doce. Usando esta información escriba un algoritmo que multiplique 33, 47 y 83 por 1001 usando tres ciclos y luego despliegue el resultado. (Sugerencia: 1001 = 7 × 11 × 13)."
      ],
      "metadata": {
        "id": "1iXT0iy3O4c6"
      }
    },
    {
      "cell_type": "code",
      "source": [],
      "metadata": {
        "id": "npp6yqylO9bZ"
      },
      "execution_count": null,
      "outputs": []
    },
    {
      "cell_type": "markdown",
      "source": [
        "# **13. Más patrones**"
      ],
      "metadata": {
        "id": "3i7cMFWqO925"
      }
    },
    {
      "cell_type": "markdown",
      "source": [
        "a) Rectangulo nxm\n",
        "\n",
        "```\n",
        "* * * * * *\n",
        "*         *\n",
        "*         *\n",
        "*         *\n",
        "*         *\n",
        "* * * * * *\n",
        "```\n",
        "\n",
        "b) Piramide n\n",
        "\n",
        "```\n",
        "    *\n",
        "   * *\n",
        "  * * *\n",
        " * * * *\n",
        "* * * * *\n",
        "```\n",
        "\n",
        "\n",
        "c) Rombo n\n",
        "\n",
        "```\n",
        "  *       \n",
        " * *     \n",
        "* * *\n",
        " * *\n",
        "  *\n",
        "```"
      ],
      "metadata": {
        "id": "zphgCuG7PBPx"
      }
    }
  ]
}
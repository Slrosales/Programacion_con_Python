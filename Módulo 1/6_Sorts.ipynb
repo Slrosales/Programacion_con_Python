{
  "nbformat": 4,
  "nbformat_minor": 0,
  "metadata": {
    "colab": {
      "provenance": [],
      "include_colab_link": true
    },
    "kernelspec": {
      "name": "python3",
      "display_name": "Python 3"
    },
    "language_info": {
      "name": "python"
    }
  },
  "cells": [
    {
      "cell_type": "markdown",
      "metadata": {
        "id": "view-in-github",
        "colab_type": "text"
      },
      "source": [
        "<a href=\"https://colab.research.google.com/github/Slrosales/Programacion_con_Python/blob/main/M%C3%B3dulo%201/6_Sorts.ipynb\" target=\"_parent\"><img src=\"https://colab.research.google.com/assets/colab-badge.svg\" alt=\"Open In Colab\"/></a>"
      ]
    },
    {
      "cell_type": "markdown",
      "source": [
        "# **Bubble Sort**\n",
        "1. Starting from the first index, compare the first and the second elements.\n",
        "2. If the first element is greater than the second element, they are swapped.\n",
        "3. Now, compare the second and the third elements. Swap them if they are not in order.\n",
        "4. The above process goes on until the last element"
      ],
      "metadata": {
        "id": "T5HIGi9Ipqyf"
      }
    },
    {
      "cell_type": "code",
      "source": [
        "def bubbleSort(array):\n",
        "\n",
        "  # loop to access each array element\n",
        "  for i in range(len(array)):\n",
        "\n",
        "    # loop to compare array elements\n",
        "    for j in range(0, len(array) - i - 1):\n",
        "\n",
        "      # compare two adjacent elements\n",
        "      # change > to < to sort in descending order\n",
        "      if array[j] > array[j + 1]:\n",
        "\n",
        "        # swapping elements if elements\n",
        "        # are not in the intended order\n",
        "\n",
        "        #temp = array[j]\n",
        "        #array[j] = array[j+1]\n",
        "        #array[j+1] = temp\n",
        "        array[j],array[j+1]=array[j+1],array[j]\n",
        "    print(array)\n",
        "\n",
        "\n",
        "data = [-2, 45, 0, 11, -9]\n",
        "\n",
        "bubbleSort(data)\n",
        "\n",
        "print('Sorted Array in Ascending Order:')\n",
        "print(data)"
      ],
      "metadata": {
        "colab": {
          "base_uri": "https://localhost:8080/"
        },
        "id": "ZBTDvnkFpao_",
        "outputId": "3f4fa6e5-70fe-49cd-de1f-259e49becb46"
      },
      "execution_count": null,
      "outputs": [
        {
          "output_type": "stream",
          "name": "stdout",
          "text": [
            "[-2, 0, 11, -9, 45]\n",
            "[-2, 0, -9, 11, 45]\n",
            "[-2, -9, 0, 11, 45]\n",
            "[-9, -2, 0, 11, 45]\n",
            "[-9, -2, 0, 11, 45]\n",
            "Sorted Array in Ascending Order:\n",
            "[-9, -2, 0, 11, 45]\n"
          ]
        }
      ]
    },
    {
      "cell_type": "markdown",
      "source": [
        "# **Selection Sort**\n",
        "\n",
        "1. Set the first element as minimum.\n",
        "2. Compare minimum with the second element. If the second element is smaller than minimum, assign the second element as minimum.\n",
        "3. Compare minimum with the third element. Again, if the third element is smaller, then assign minimum to the third element otherwise do nothing. The process goes on until the last element.\n",
        "4. For each iteration, indexing starts from the first unsorted element. Step 1 to 3 are repeated until all the elements are placed at their correct positions.\n"
      ],
      "metadata": {
        "id": "irRLWaQhrJOu"
      }
    },
    {
      "cell_type": "code",
      "source": [
        "def selectionSort(array, size):\n",
        "\n",
        "    for step in range(size):\n",
        "        min_idx = step\n",
        "\n",
        "        for i in range(step + 1, size):\n",
        "\n",
        "            # to sort in descending order, change > to < in this line\n",
        "            # select the minimum element in each loop\n",
        "            if array[i] < array[min_idx]:\n",
        "                min_idx = i\n",
        "\n",
        "        # put min at the correct position\n",
        "        (array[step], array[min_idx]) = (array[min_idx], array[step])\n",
        "        print(array)\n",
        "\n",
        "data = [-2, 18, 0, 10, 7]\n",
        "size = len(data)\n",
        "selectionSort(data, size)\n",
        "print('Sorted Array in Ascending Order:')\n",
        "print(data)"
      ],
      "metadata": {
        "colab": {
          "base_uri": "https://localhost:8080/"
        },
        "id": "2B3pguClq0-v",
        "outputId": "a619ca26-b91a-4fec-eabd-e5cea76bbcac"
      },
      "execution_count": null,
      "outputs": [
        {
          "output_type": "stream",
          "name": "stdout",
          "text": [
            "[-2, 18, 0, 10, 7]\n",
            "[-2, 0, 18, 10, 7]\n",
            "[-2, 0, 7, 10, 18]\n",
            "[-2, 0, 7, 10, 18]\n",
            "[-2, 0, 7, 10, 18]\n",
            "Sorted Array in Ascending Order:\n",
            "[-2, 0, 7, 10, 18]\n"
          ]
        }
      ]
    },
    {
      "cell_type": "markdown",
      "source": [
        "# **Insertion Sort**\n",
        "1. The first element in the array is assumed to be sorted. Take the second element and store it separately in key.\n",
        "\n",
        "Compare key with the first element. If the first element is greater than key, then key is placed in front of the first element.\n",
        "2. Now, the first two elements are sorted.\n",
        "\n",
        "Take the third element and compare it with the elements on the left of it. Placed it just behind the element smaller than it. If there is no element smaller than it, then place it at the beginning of the array.\n",
        "\n",
        "3. Similarly, place every unsorted element at its correct position."
      ],
      "metadata": {
        "id": "Jr0oKQhjtM3W"
      }
    },
    {
      "cell_type": "code",
      "source": [
        "def insertionSort(array):\n",
        "\n",
        "    for step in range(1, len(array)):\n",
        "        key = array[step]\n",
        "        j = step - 1\n",
        "\n",
        "        # Compare key with each element on the left of it until an element smaller than it is found\n",
        "        # For descending order, change key<array[j] to key>array[j].\n",
        "        while j >= 0 and key < array[j]:\n",
        "            array[j + 1] = array[j]\n",
        "            j = j - 1\n",
        "\n",
        "        # Place key at after the element just smaller than it.\n",
        "        array[j + 1] = key\n",
        "        print(array)\n",
        "\n",
        "data = [21, 13, 15, 12, 3, 14, 9, 7, 6, 11, 16, 2, 44]\n",
        "print(data)\n",
        "insertionSort(data)\n",
        "print('Sorted Array in Ascending Order:')\n",
        "print(data)"
      ],
      "metadata": {
        "colab": {
          "base_uri": "https://localhost:8080/"
        },
        "id": "C6EWZQbssu0w",
        "outputId": "cd839a26-77c9-47f5-ac95-875331d84dd2"
      },
      "execution_count": null,
      "outputs": [
        {
          "output_type": "stream",
          "name": "stdout",
          "text": [
            "[21, 13, 15, 12, 3, 14, 9, 7, 6, 11, 16, 2, 44]\n",
            "[13, 21, 15, 12, 3, 14, 9, 7, 6, 11, 16, 2, 44]\n",
            "[13, 15, 21, 12, 3, 14, 9, 7, 6, 11, 16, 2, 44]\n",
            "[12, 13, 15, 21, 3, 14, 9, 7, 6, 11, 16, 2, 44]\n",
            "[3, 12, 13, 15, 21, 14, 9, 7, 6, 11, 16, 2, 44]\n",
            "[3, 12, 13, 14, 15, 21, 9, 7, 6, 11, 16, 2, 44]\n",
            "[3, 9, 12, 13, 14, 15, 21, 7, 6, 11, 16, 2, 44]\n",
            "[3, 7, 9, 12, 13, 14, 15, 21, 6, 11, 16, 2, 44]\n",
            "[3, 6, 7, 9, 12, 13, 14, 15, 21, 11, 16, 2, 44]\n",
            "[3, 6, 7, 9, 11, 12, 13, 14, 15, 21, 16, 2, 44]\n",
            "[3, 6, 7, 9, 11, 12, 13, 14, 15, 16, 21, 2, 44]\n",
            "[2, 3, 6, 7, 9, 11, 12, 13, 14, 15, 16, 21, 44]\n",
            "[2, 3, 6, 7, 9, 11, 12, 13, 14, 15, 16, 21, 44]\n",
            "Sorted Array in Ascending Order:\n",
            "[2, 3, 6, 7, 9, 11, 12, 13, 14, 15, 16, 21, 44]\n"
          ]
        }
      ]
    },
    {
      "cell_type": "markdown",
      "source": [
        "# **Shell Sort**\n",
        "We are using the shell's original sequence (N/2, N/4, ...1) as intervals in our algorithm.\n",
        "\n",
        "In the first loop, if the array size is N = 8 then, the elements lying at the interval of N/2 = 4 are compared and swapped if they are not in order.\n",
        "1. The 0th element is compared with the 4th element.\n",
        "2. If the 0th element is greater than the 4th one then, the 4th element is first stored in temp variable and the 0th element (ie. greater element) is stored in the 4th position and the element stored in temp is stored in the 0th position."
      ],
      "metadata": {
        "id": "CoZdJyfXvgvg"
      }
    },
    {
      "cell_type": "code",
      "source": [
        "def shellSort(array, n):\n",
        "\n",
        "    # Rearrange elements at each n/2, n/4, n/8, ... intervals\n",
        "    interval = n // 2\n",
        "    while interval > 0:\n",
        "        for i in range(interval, n):\n",
        "            temp = array[i]\n",
        "            j = i\n",
        "             #< temp descending| > temp ascending\n",
        "            while j >= interval and array[j - interval] > temp:\n",
        "                array[j] = array[j - interval]\n",
        "                j -= interval\n",
        "\n",
        "            array[j] = temp\n",
        "        interval //= 2\n",
        "        print(array)\n",
        "\n",
        "\n",
        "data = [9, 8, 3, 7, 5, 6, 4, 1]\n",
        "size = len(data)\n",
        "shellSort(data, size)uni\n",
        "print('Sorted Array in Ascending Order:')\n",
        "print(data)"
      ],
      "metadata": {
        "colab": {
          "base_uri": "https://localhost:8080/"
        },
        "id": "SM50aTRyvY9h",
        "outputId": "8452628a-0baf-413a-a9cd-7d898d73c084"
      },
      "execution_count": null,
      "outputs": [
        {
          "output_type": "stream",
          "name": "stdout",
          "text": [
            "[5, 6, 3, 1, 9, 8, 4, 7]\n",
            "[3, 1, 4, 6, 5, 7, 9, 8]\n",
            "[1, 3, 4, 5, 6, 7, 8, 9]\n",
            "Sorted Array in Ascending Order:\n",
            "[1, 3, 4, 5, 6, 7, 8, 9]\n"
          ]
        }
      ]
    },
    {
      "cell_type": "markdown",
      "source": [
        "# **Radix Sort**\n",
        "1. Find the largest element in the array, i.e. max. Let X be the number of digits in max. X is calculated because we have to go through all the significant places of all elements.\n",
        "\n",
        "In this array [121, 432, 564, 23, 1, 45, 788], we have the largest number 788. It has 3 digits. Therefore, the loop should go up to hundreds place (3 times).\n",
        "\n",
        "2. Now, go through each significant place one by one.\n",
        "\n",
        "Use any stable sorting technique to sort the digits at each significant place. We have used counting sort for this.\n",
        "\n",
        "Sort the elements based on the unit place digits (X=0).\n",
        "\n",
        "3. Now, sort the elements based on digits at tens place.\n",
        "\n",
        "4. Finally, sort the elements based on the digits at hundreds place.\n"
      ],
      "metadata": {
        "id": "J6qJ7Uy69_Hc"
      }
    },
    {
      "cell_type": "code",
      "source": [
        "# Using counting sort to sort the elements in the basis of significant places\n",
        "def countingSort(array, place):\n",
        "    size = len(array)\n",
        "    output = [0] * size\n",
        "    count = [0] * 10\n",
        "\n",
        "    # Calculate count of elements\n",
        "    for i in range(0, size):\n",
        "        index = array[i] // place\n",
        "        count[index % 10] += 1\n",
        "\n",
        "    # Calculate\n",
        "    for i in range(1, 10):\n",
        "        count[i] += count[i - 1]\n",
        "\n",
        "    # Place the elements in sorted order\n",
        "    i = size - 1\n",
        "    while i >= 0:\n",
        "        index = array[i] // place\n",
        "        output[count[index % 10] - 1] = array[i]\n",
        "        count[index % 10] -= 1\n",
        "        i -= 1\n",
        "\n",
        "    for i in range(0, size):\n",
        "        array[i] = output[i]\n",
        "    print(array)\n",
        "\n",
        "\n",
        "# Main function to implement radix sort\n",
        "def radixSort(array):\n",
        "    # Get maximum element\n",
        "    max_element = max(array)\n",
        "\n",
        "    # Apply counting sort to sort elements based on place value.\n",
        "    place = 1\n",
        "    while max_element // place > 0:\n",
        "        countingSort(array, place)\n",
        "        place *= 10\n",
        "\n",
        "\n",
        "data = [121, 432, 564, 23, 1, 45, 788]\n",
        "radixSort(data)\n",
        "print(\"\\n\")\n",
        "print(\"\\n\",data)"
      ],
      "metadata": {
        "colab": {
          "base_uri": "https://localhost:8080/"
        },
        "id": "cDIh6TAZ03oz",
        "outputId": "57ab895c-ca2d-4abe-a03d-77298223e023"
      },
      "execution_count": null,
      "outputs": [
        {
          "output_type": "stream",
          "name": "stdout",
          "text": [
            "[121, 1, 432, 23, 564, 45, 788]\n",
            "[1, 121, 23, 432, 45, 564, 788]\n",
            "[1, 23, 45, 121, 432, 564, 788]\n",
            "\n",
            "\n",
            "\n",
            " [1, 23, 45, 121, 432, 564, 788]\n"
          ]
        }
      ]
    },
    {
      "cell_type": "code",
      "source": [
        "# Using counting sort to sort the elements in the basis of significant places\n",
        "def countingSort(array):\n",
        "    maxValue = 0\n",
        "    for i in range(len(array)):\n",
        "        if array[i] > maxValue:\n",
        "            maxValue = array[i]\n",
        "\n",
        "    buckets = [0] * (maxValue + 1)\n",
        "\n",
        "    for i in array:\n",
        "        buckets[i] += 1\n",
        "\n",
        "    i = 0\n",
        "    for j in range(maxValue, -1, -1):\n",
        "         for a in range(buckets[j]):\n",
        "             array[i] = j\n",
        "             i += 1\n",
        "    return array\n",
        "\n",
        "\n",
        "\n",
        "\n",
        "# Main function to implement radix sort\n",
        "def radixSort(array):\n",
        "    # Get maximum element\n",
        "    max_element = max(array)\n",
        "\n",
        "    # Apply counting sort to sort elements based on place value.\n",
        "    place = 1\n",
        "    while max_element // place > 0:\n",
        "        countingSort(array)\n",
        "        place *= 10\n",
        "\n",
        "data = [121, 432, 564, 23, 1, 45, 788]\n",
        "radixSort(data)\n",
        "print(\"\\n\")\n",
        "print(data)"
      ],
      "metadata": {
        "colab": {
          "base_uri": "https://localhost:8080/"
        },
        "id": "xaUUDCL7BN-t",
        "outputId": "15aca943-5752-4f83-9607-33331c6b09ba"
      },
      "execution_count": null,
      "outputs": [
        {
          "output_type": "stream",
          "name": "stdout",
          "text": [
            "\n",
            "\n",
            "[788, 564, 432, 121, 45, 23, 1]\n"
          ]
        }
      ]
    },
    {
      "cell_type": "markdown",
      "source": [
        "# **Merge Sort**\n",
        "1. Create copies of the subarrays L ← A[p..q] and M ← A[q+1..r].\n",
        "2. Create three pointers i, j and k\n",
        "   - i maintains current index of L, starting at 1\n",
        "   - j maintains current index of M, starting at 1\n",
        "   - k maintains the current index of A[p..q], starting at p.\n",
        "3. Until we reach the end of either L or M, pick the larger among the elements from L and M and place them in the correct position at A[p..q]\n",
        "4. When we run out of elements in *either* L or M, pick up the remaining elements and put in A[p..q]"
      ],
      "metadata": {
        "id": "npYebUsIRSwD"
      }
    },
    {
      "cell_type": "code",
      "source": [
        "def mergeSort(array):\n",
        "    if len(array) > 1:\n",
        "\n",
        "        #  r is the point where the array is divided into two subarrays\n",
        "        r = len(array)//2\n",
        "        L = array[:r]\n",
        "        M = array[r:]\n",
        "        print(L,M)\n",
        "\n",
        "        # Sort the two halves\n",
        "        mergeSort(L)\n",
        "        mergeSort(M)\n",
        "        print(L,M)\n",
        "\n",
        "        i = j = k = 0\n",
        "\n",
        "        # Until we reach either end of either L or M, pick larger among\n",
        "        # elements L and M and place them in the correct position at A[p..r]\n",
        "        while i < len(L) and j < len(M):\n",
        "            if L[i] < M[j]:\n",
        "                array[k] = L[i]\n",
        "                i += 1\n",
        "            else:\n",
        "                array[k] = M[j]\n",
        "                j += 1\n",
        "            k += 1\n",
        "\n",
        "        # When we run out of elements in either L or M,\n",
        "        # pick up the remaining elements and put in A[p..r]\n",
        "        while i < len(L):\n",
        "            array[k] = L[i]\n",
        "            i += 1\n",
        "            k += 1\n",
        "\n",
        "        while j < len(M):\n",
        "            array[k] = M[j]\n",
        "            j += 1\n",
        "            k += 1\n",
        "\n",
        "\n",
        "# Print the array\n",
        "def printList(array):\n",
        "    for i in range(len(array)):\n",
        "        print(array[i], end=\" \")\n",
        "    print()\n",
        "# Driver program\n",
        "if __name__ == '__main__':\n",
        "    array = [6, 5, 12, 10, 9, 1]\n",
        "\n",
        "    mergeSort(array)\n",
        "\n",
        "    print(\"Sorted array is: \")\n",
        "    printList(array)"
      ],
      "metadata": {
        "colab": {
          "base_uri": "https://localhost:8080/"
        },
        "id": "ayQf3SxLJSqE",
        "outputId": "44dcd4a8-83e4-49c2-c79d-c3b811d0e40f"
      },
      "execution_count": null,
      "outputs": [
        {
          "output_type": "stream",
          "name": "stdout",
          "text": [
            "[6, 5, 12] [10, 9, 1]\n",
            "[6] [5, 12]\n",
            "[5] [12]\n",
            "[5] [12]\n",
            "[6] [5, 12]\n",
            "[10] [9, 1]\n",
            "[9] [1]\n",
            "[9] [1]\n",
            "[10] [1, 9]\n",
            "[5, 6, 12] [1, 9, 10]\n",
            "Sorted array is: \n",
            "1 5 6 9 10 12 \n"
          ]
        }
      ]
    },
    {
      "cell_type": "markdown",
      "source": [
        "# **Quick Sort**\n",
        "1. An array is divided into subarrays by selecting a pivot element (element selected from the array).\n",
        "\n",
        "2. While dividing the array, the pivot element should be positioned in such a way that elements less than pivot are kept on the left side and elements greater than pivot are on the right side of the pivot.\n",
        "\n",
        "3. The left and right subarrays are also divided using the same approach. This process continues until each subarray contains a single element.\n",
        "\n",
        "4. At this point, elements are already sorted. Finally, elements are combined to form a sorted array."
      ],
      "metadata": {
        "id": "6PPVcsD6VsYp"
      }
    },
    {
      "cell_type": "code",
      "source": [
        "# Quick sort in Python\n",
        "\n",
        "# function to find the partition position\n",
        "def partition(array, low, high):\n",
        "\n",
        "  # choose the rightmost element as pivot\n",
        "  pivot = array[low]\n",
        "\n",
        "  # pointer for greater element\n",
        "  i = low + 1\n",
        "\n",
        "  # traverse through all elements\n",
        "  # compare each element with pivot\n",
        "  #\n",
        "  for j in range(low+1, high+1):\n",
        "    #<= ascending | >= descending\n",
        "    if array[j] < pivot:\n",
        "      # if element smaller than pivot is found\n",
        "      # swap it with the greater element pointed by i\n",
        "\n",
        "\n",
        "      # swapping element at i with element at j\n",
        "      (array[i], array[j]) = (array[j], array[i])\n",
        "      i = i + 1\n",
        "  # swap the pivot element with the greater element specified by i\n",
        "  (array[low], array[i-1]) = (array[i-1], array[low])\n",
        "\n",
        "  # return the position from where partition is done\n",
        "  return i - 1\n",
        "\n",
        "\n",
        "# function to perform quicksort\n",
        "def quickSort(array, low, high):\n",
        "  if low < high:\n",
        "\n",
        "    # find pivot element such that\n",
        "    # element smaller than pivot are on the left\n",
        "    # element greater than pivot are on the right\n",
        "    pi = partition(array, low, high)\n",
        "    print(array)\n",
        "    # recursive call on the left of pivot\n",
        "    quickSort(array, low, pi - 1)\n",
        "\n",
        "    # recursive call on the right of pivot\n",
        "    quickSort(array, pi + 1, high)\n",
        "\n",
        "\n",
        "data = [20,13,15,12,3,14,9,7,6,10,35,45, 50, 44]\n",
        "print(\"Unsorted Array\")\n",
        "print(data)\n",
        "\n",
        "size = len(data)\n",
        "\n",
        "quickSort(data, 0, size - 1)\n",
        "\n",
        "print('Sorted Array in Ascending Order:')\n",
        "print(data)"
      ],
      "metadata": {
        "colab": {
          "base_uri": "https://localhost:8080/"
        },
        "id": "zemldjujUxoa",
        "outputId": "d6bf4638-ecbb-4ed3-8e81-716adb1b36a5"
      },
      "execution_count": null,
      "outputs": [
        {
          "output_type": "stream",
          "name": "stdout",
          "text": [
            "Unsorted Array\n",
            "[20, 13, 15, 12, 3, 14, 9, 7, 6, 10, 35, 45, 50, 44]\n",
            "[10, 13, 15, 12, 3, 14, 9, 7, 6, 20, 35, 45, 50, 44]\n",
            "[6, 3, 9, 7, 10, 14, 15, 12, 13, 20, 35, 45, 50, 44]\n",
            "[3, 6, 9, 7, 10, 14, 15, 12, 13, 20, 35, 45, 50, 44]\n",
            "[3, 6, 7, 9, 10, 14, 15, 12, 13, 20, 35, 45, 50, 44]\n",
            "[3, 6, 7, 9, 10, 13, 12, 14, 15, 20, 35, 45, 50, 44]\n",
            "[3, 6, 7, 9, 10, 12, 13, 14, 15, 20, 35, 45, 50, 44]\n",
            "[3, 6, 7, 9, 10, 12, 13, 14, 15, 20, 35, 45, 50, 44]\n",
            "[3, 6, 7, 9, 10, 12, 13, 14, 15, 20, 35, 44, 45, 50]\n",
            "Sorted Array in Ascending Order:\n",
            "[3, 6, 7, 9, 10, 12, 13, 14, 15, 20, 35, 44, 45, 50]\n"
          ]
        }
      ]
    },
    {
      "cell_type": "markdown",
      "source": [
        "# **Heap Sort**\n",
        "1. Since the tree satisfies Max-Heap property, then the largest item is stored at the root node.\n",
        "2. Swap: Remove the root element and put at the end of the array (nth position).Put the last item of the tree (heap) at the vacant place.\n",
        "3. Remove: Reduce the size of the heap by 1.\n",
        "4. Heapify: Heapify the root element again so that we have the highest element at root.\n",
        "5. The process is repeated until all the items of the list are sorted."
      ],
      "metadata": {
        "id": "CPfyFriQpxim"
      }
    },
    {
      "cell_type": "code",
      "source": [
        "# Heap Sort in python\n",
        "\n",
        "\n",
        "def heapify(arr, n, i):\n",
        "      # Find largest among root and children\n",
        "      largest = i\n",
        "      l = 2 * i + 1\n",
        "      r = 2 * i + 2\n",
        "\n",
        "      if l < n and arr[i] < arr[l]:\n",
        "          largest = l\n",
        "\n",
        "      if r < n and arr[largest] < arr[r]:\n",
        "          largest = r\n",
        "\n",
        "      # If root is not largest, swap with largest and continue heapifying\n",
        "      if largest != i:\n",
        "          arr[i], arr[largest] = arr[largest], arr[i]\n",
        "          heapify(arr, n, largest)\n",
        "\n",
        "\n",
        "def heapSort(arr):\n",
        "      n = len(arr)\n",
        "      # Build max heap\n",
        "      for i in range(n//2, -1, -1):\n",
        "          heapify(arr, n, i)\n",
        "          print(arr)\n",
        "\n",
        "      for i in range(n-1, 0, -1):\n",
        "          # Swap\n",
        "          arr[i], arr[0] = arr[0], arr[i]\n",
        "          print(arr)\n",
        "          # Heapify root element\n",
        "          heapify(arr, i, 0)\n",
        "          print(arr)\n",
        "      print(arr)\n",
        "\n",
        "arr = [21, 13, 15, 12, 3, 14, 9, 7, 6, 11, 16, 2, 44]\n",
        "\n",
        "heapSort(arr)\n",
        "n = len(arr)\n",
        "print(\"Sorted array is\")\n",
        "for i in range(n):\n",
        "  print(\"%d \" % arr[i], end='')\n"
      ],
      "metadata": {
        "colab": {
          "base_uri": "https://localhost:8080/"
        },
        "id": "4JnJVF99e3oG",
        "outputId": "7a876435-b862-4c37-ae8b-3f72ddbcc868"
      },
      "execution_count": null,
      "outputs": [
        {
          "output_type": "stream",
          "name": "stdout",
          "text": [
            "[21, 13, 15, 12, 3, 14, 9, 7, 6, 11, 16, 2, 44]\n",
            "[21, 13, 15, 12, 3, 44, 9, 7, 6, 11, 16, 2, 14]\n",
            "[21, 13, 15, 12, 16, 44, 9, 7, 6, 11, 3, 2, 14]\n",
            "[21, 13, 15, 12, 16, 44, 9, 7, 6, 11, 3, 2, 14]\n",
            "[21, 13, 44, 12, 16, 15, 9, 7, 6, 11, 3, 2, 14]\n",
            "[21, 16, 44, 12, 13, 15, 9, 7, 6, 11, 3, 2, 14]\n",
            "[44, 16, 21, 12, 13, 15, 9, 7, 6, 11, 3, 2, 14]\n",
            "[14, 16, 21, 12, 13, 15, 9, 7, 6, 11, 3, 2, 44]\n",
            "[21, 16, 15, 12, 13, 14, 9, 7, 6, 11, 3, 2, 44]\n",
            "[2, 16, 15, 12, 13, 14, 9, 7, 6, 11, 3, 21, 44]\n",
            "[16, 13, 15, 12, 11, 14, 9, 7, 6, 2, 3, 21, 44]\n",
            "[3, 13, 15, 12, 11, 14, 9, 7, 6, 2, 16, 21, 44]\n",
            "[15, 13, 14, 12, 11, 3, 9, 7, 6, 2, 16, 21, 44]\n",
            "[2, 13, 14, 12, 11, 3, 9, 7, 6, 15, 16, 21, 44]\n",
            "[14, 13, 9, 12, 11, 3, 2, 7, 6, 15, 16, 21, 44]\n",
            "[6, 13, 9, 12, 11, 3, 2, 7, 14, 15, 16, 21, 44]\n",
            "[13, 12, 9, 7, 11, 3, 2, 6, 14, 15, 16, 21, 44]\n",
            "[6, 12, 9, 7, 11, 3, 2, 13, 14, 15, 16, 21, 44]\n",
            "[12, 11, 9, 7, 6, 3, 2, 13, 14, 15, 16, 21, 44]\n",
            "[2, 11, 9, 7, 6, 3, 12, 13, 14, 15, 16, 21, 44]\n",
            "[11, 7, 9, 2, 6, 3, 12, 13, 14, 15, 16, 21, 44]\n",
            "[3, 7, 9, 2, 6, 11, 12, 13, 14, 15, 16, 21, 44]\n",
            "[9, 7, 3, 2, 6, 11, 12, 13, 14, 15, 16, 21, 44]\n",
            "[6, 7, 3, 2, 9, 11, 12, 13, 14, 15, 16, 21, 44]\n",
            "[7, 6, 3, 2, 9, 11, 12, 13, 14, 15, 16, 21, 44]\n",
            "[2, 6, 3, 7, 9, 11, 12, 13, 14, 15, 16, 21, 44]\n",
            "[6, 2, 3, 7, 9, 11, 12, 13, 14, 15, 16, 21, 44]\n",
            "[3, 2, 6, 7, 9, 11, 12, 13, 14, 15, 16, 21, 44]\n",
            "[3, 2, 6, 7, 9, 11, 12, 13, 14, 15, 16, 21, 44]\n",
            "[2, 3, 6, 7, 9, 11, 12, 13, 14, 15, 16, 21, 44]\n",
            "[2, 3, 6, 7, 9, 11, 12, 13, 14, 15, 16, 21, 44]\n",
            "[2, 3, 6, 7, 9, 11, 12, 13, 14, 15, 16, 21, 44]\n",
            "Sorted array is\n",
            "2 3 6 7 9 11 12 13 14 15 16 21 44 "
          ]
        }
      ]
    }
  ]
}
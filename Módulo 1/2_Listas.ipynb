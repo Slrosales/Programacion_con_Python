{
  "nbformat": 4,
  "nbformat_minor": 0,
  "metadata": {
    "colab": {
      "provenance": [],
      "collapsed_sections": [
        "FyQItR1Le7Wx",
        "scrT7TQxizTJ",
        "I-3Qkm4mnLf5",
        "OvfK71U05YkB",
        "th-RzkZRheLs",
        "fhSPkkM8AMyC",
        "k4snHhTKh2rI",
        "B5LoDzhh7JGx",
        "nDrdfzdZ8wne",
        "EPo6kFU8z2Xo",
        "CbjKQhx8_rxi",
        "-HiYHBFOAI1B",
        "BAHsIj0MBvpg",
        "cpQpXJVDGa8q",
        "KWICxCndXMdv",
        "VD83oxleKoCu",
        "Qdh8yH2NK6O9",
        "d9YNzKmsLqE6",
        "G9S1K_wj26Gs",
        "HphBKBaH47vw",
        "L9hUGZnA_yiS",
        "LwYOViTFryXb",
        "FaLe9ufMM27D",
        "qdMvpamXdBBs",
        "marowZRCfsAK",
        "fjTZXJdslRAM",
        "wI4bYzutnIFq",
        "FNyjir4aow5g",
        "wWvjvO1JqCVh",
        "5Q1nazsAd93r",
        "1gaJZqT0e17b",
        "mTlYMYrwQfoM",
        "jLpGNDPhu3G7"
      ],
      "authorship_tag": "ABX9TyOu6y5FQXwfOtoDZcQMEQXK",
      "include_colab_link": true
    },
    "kernelspec": {
      "name": "python3",
      "display_name": "Python 3"
    },
    "language_info": {
      "name": "python"
    }
  },
  "cells": [
    {
      "cell_type": "markdown",
      "metadata": {
        "id": "view-in-github",
        "colab_type": "text"
      },
      "source": [
        "<a href=\"https://colab.research.google.com/github/Slrosales/Programacion_con_Python/blob/main/M%C3%B3dulo%201/2_Listas.ipynb\" target=\"_parent\"><img src=\"https://colab.research.google.com/assets/colab-badge.svg\" alt=\"Open In Colab\"/></a>"
      ]
    },
    {
      "cell_type": "markdown",
      "source": [
        "# **Concepto**\n"
      ],
      "metadata": {
        "id": "cpQpXJVDGa8q"
      }
    },
    {
      "cell_type": "markdown",
      "source": [
        "Las listas son estructuras de datos muy versátiles y ampliamente utilizadas para almacenar y manipular datos en un programa, especificamente es una colección ordenada de elementos que pueden ser de diferentes tipos (números, cadenas, otros objetos, etc.)."
      ],
      "metadata": {
        "id": "MamZYaXeGozS"
      }
    },
    {
      "cell_type": "code",
      "source": [
        "lista_numeros = [1, 2, 2, 3, 4, 5]\n",
        "lista_nombres = [\"Luna\", \"Giuseppe\", \"Laura\", \"Rubens\"]\n",
        "lista_multi = [1, \"hola\", 2.5]"
      ],
      "metadata": {
        "id": "UcUIgNa8HLaA"
      },
      "execution_count": 259,
      "outputs": []
    },
    {
      "cell_type": "markdown",
      "source": [
        "[pos 0, pos 1, pos 2, ... , pos n]"
      ],
      "metadata": {
        "id": "ppAcD5uBWoeA"
      }
    },
    {
      "cell_type": "code",
      "source": [
        "lista = [0, 8, 1, 2, 3, 3, 4]"
      ],
      "metadata": {
        "id": "KyOvJQ4vHfHI"
      },
      "execution_count": 260,
      "outputs": []
    },
    {
      "cell_type": "code",
      "source": [
        "# Imprime el valor en la posicón 1 de la lista\n",
        "# nombre_lista[indice]\n",
        "print(lista[5])"
      ],
      "metadata": {
        "colab": {
          "base_uri": "https://localhost:8080/"
        },
        "id": "neQpCCfQgZBT",
        "outputId": "82bef223-6aa7-49da-8412-11b6095f89c1"
      },
      "execution_count": 261,
      "outputs": [
        {
          "output_type": "stream",
          "name": "stdout",
          "text": [
            "3\n"
          ]
        }
      ]
    },
    {
      "cell_type": "code",
      "source": [
        "# Imprime el valor en la posicón -1 de la lista\n",
        "# (De derecha a izquierda)\n",
        "print(lista[-1])"
      ],
      "metadata": {
        "colab": {
          "base_uri": "https://localhost:8080/"
        },
        "id": "n1LlgoO2Wtkf",
        "outputId": "20301e60-fa79-4ad3-ed52-9bf912785815"
      },
      "execution_count": 262,
      "outputs": [
        {
          "output_type": "stream",
          "name": "stdout",
          "text": [
            "4\n"
          ]
        }
      ]
    },
    {
      "cell_type": "code",
      "source": [
        "# Dame los primeros 3 valores\n",
        "# nombre_lista[pos inicial, pos final, paso]\n",
        "print(lista[:3])\n"
      ],
      "metadata": {
        "colab": {
          "base_uri": "https://localhost:8080/"
        },
        "id": "KxeVnXMQWwrW",
        "outputId": "9f7613cf-42c6-43ec-8581-140aaa575d80"
      },
      "execution_count": 263,
      "outputs": [
        {
          "output_type": "stream",
          "name": "stdout",
          "text": [
            "[0, 8, 1]\n"
          ]
        }
      ]
    },
    {
      "cell_type": "code",
      "source": [
        "print(lista[2:5])"
      ],
      "metadata": {
        "colab": {
          "base_uri": "https://localhost:8080/"
        },
        "id": "OQd7DHS4W2D2",
        "outputId": "e92fc96e-3154-41ef-f214-cdef0dffc8db"
      },
      "execution_count": 264,
      "outputs": [
        {
          "output_type": "stream",
          "name": "stdout",
          "text": [
            "[1, 2, 3]\n"
          ]
        }
      ]
    },
    {
      "cell_type": "code",
      "source": [
        "# Invertir orden de la lista\n",
        "nueva_lista = lista[::-1]\n",
        "nueva_lista"
      ],
      "metadata": {
        "colab": {
          "base_uri": "https://localhost:8080/"
        },
        "id": "WPwMrtAhW49O",
        "outputId": "fa527815-6ae4-4df0-8077-eb45ee54235b"
      },
      "execution_count": 265,
      "outputs": [
        {
          "output_type": "execute_result",
          "data": {
            "text/plain": [
              "[4, 3, 3, 2, 1, 8, 0]"
            ]
          },
          "metadata": {},
          "execution_count": 265
        }
      ]
    },
    {
      "cell_type": "code",
      "source": [
        "print(lista)\n",
        "print(nueva_lista)"
      ],
      "metadata": {
        "colab": {
          "base_uri": "https://localhost:8080/"
        },
        "id": "uVfzqg8jW75O",
        "outputId": "ff71bbd3-8d94-4479-f3f3-85b64c5f2863"
      },
      "execution_count": 266,
      "outputs": [
        {
          "output_type": "stream",
          "name": "stdout",
          "text": [
            "[0, 8, 1, 2, 3, 3, 4]\n",
            "[4, 3, 3, 2, 1, 8, 0]\n"
          ]
        }
      ]
    },
    {
      "cell_type": "markdown",
      "source": [
        "# Funciones"
      ],
      "metadata": {
        "id": "KWICxCndXMdv"
      }
    },
    {
      "cell_type": "code",
      "source": [
        "# len(nombre_lista): Retorna la longitud (número de elementos) de la lista\n",
        "print(f\"El tamaño de la lista es: {len(lista)}\\n\")"
      ],
      "metadata": {
        "id": "apf0PWD8Yg90",
        "outputId": "189a027a-d835-4426-e466-0b68edce0cff",
        "colab": {
          "base_uri": "https://localhost:8080/"
        }
      },
      "execution_count": 267,
      "outputs": [
        {
          "output_type": "stream",
          "name": "stdout",
          "text": [
            "El tamaño de la lista es: 7\n",
            "\n"
          ]
        }
      ]
    },
    {
      "cell_type": "code",
      "source": [
        "# nombre_lista.append(elemento): Agrega un elemento al final de la lista.\n",
        "lista.append(5)\n",
        "print(\"Se agrega el número 5 a la lista\")\n",
        "print(lista, \"\\n\")"
      ],
      "metadata": {
        "id": "44C9cwhcPKW-",
        "outputId": "1c46a89a-d9c8-4d77-b38f-d8feea54b649",
        "colab": {
          "base_uri": "https://localhost:8080/"
        }
      },
      "execution_count": 268,
      "outputs": [
        {
          "output_type": "stream",
          "name": "stdout",
          "text": [
            "Se agrega el número 5 a la lista\n",
            "[0, 8, 1, 2, 3, 3, 4, 5] \n",
            "\n"
          ]
        }
      ]
    },
    {
      "cell_type": "code",
      "source": [
        "# lista.insert(posicion, elemento): Inserta un elemento en una posición específica de la lista.\n",
        "print(\"Se inserta una 'x' en la posición 3\")\n",
        "lista.insert(3, \"x\")\n",
        "print(lista, \"\\n\")"
      ],
      "metadata": {
        "id": "Zn2U67oSY82t",
        "outputId": "c54e0b67-9086-4c1a-88cd-9aa5f76baa86",
        "colab": {
          "base_uri": "https://localhost:8080/"
        }
      },
      "execution_count": 269,
      "outputs": [
        {
          "output_type": "stream",
          "name": "stdout",
          "text": [
            "Se inserta una 'x' en la posición 3\n",
            "[0, 8, 1, 'x', 2, 3, 3, 4, 5] \n",
            "\n"
          ]
        }
      ]
    },
    {
      "cell_type": "code",
      "source": [
        "# lista.remove(elemento): Remueve la primera aparición del elemento de la lista.\n",
        "print(\"Se elimina la 'x' de la lista\")\n",
        "lista.remove(\"x\")\n",
        "print(lista, \"\\n\")"
      ],
      "metadata": {
        "id": "E0oZAC0TY_12",
        "outputId": "1c45fd50-fc86-46c9-ad4c-542b04782ae9",
        "colab": {
          "base_uri": "https://localhost:8080/"
        }
      },
      "execution_count": 270,
      "outputs": [
        {
          "output_type": "stream",
          "name": "stdout",
          "text": [
            "Se elimina la 'x' de la lista\n",
            "[0, 8, 1, 2, 3, 3, 4, 5] \n",
            "\n"
          ]
        }
      ]
    },
    {
      "cell_type": "code",
      "source": [
        "#lista.pop(posicion): Remueve y retorna el elemento en la posición especificada.\n",
        "print(f\"Se obtine el número en la posición 6 ({lista.pop(6)}) y se elimina\")\n",
        "print(lista, \"\\n\")"
      ],
      "metadata": {
        "id": "8VAolG50ZBeU",
        "outputId": "0ce928de-3630-488e-fb06-2b0534bab71d",
        "colab": {
          "base_uri": "https://localhost:8080/"
        }
      },
      "execution_count": 271,
      "outputs": [
        {
          "output_type": "stream",
          "name": "stdout",
          "text": [
            "Se obtine el número en la posición 6 (4) y se elimina\n",
            "[0, 8, 1, 2, 3, 3, 5] \n",
            "\n"
          ]
        }
      ]
    },
    {
      "cell_type": "code",
      "source": [
        "# elemento in nombre_lista: Verifica si un elemento está presente en la lista.\n",
        "print(f\"¿Está el 4 en la lista?\\nRespuesta: {4 in lista}\\n\")\n",
        "\n",
        "print(f\"¿Esta el 3 en la lista?\\nRespuesta: {3 in lista}\\n\")"
      ],
      "metadata": {
        "id": "EHG8PX7vZEBU",
        "outputId": "e09da6cd-da1d-43f4-e065-881b59e938c1",
        "colab": {
          "base_uri": "https://localhost:8080/"
        }
      },
      "execution_count": 272,
      "outputs": [
        {
          "output_type": "stream",
          "name": "stdout",
          "text": [
            "¿Está el 4 en la lista?\n",
            "Respuesta: False\n",
            "\n",
            "¿Esta el 3 en la lista?\n",
            "Respuesta: True\n",
            "\n"
          ]
        }
      ]
    },
    {
      "cell_type": "code",
      "source": [
        "# nombre_lista.index(elemento): Retorna el índice de la primera aparición del elemento.\n",
        "print(f\"En el número 2 esta en la posición: {lista.index(2)}\\n\")"
      ],
      "metadata": {
        "id": "NKTL7NPGZLcl",
        "outputId": "6bf9fc9b-6484-4db3-a395-bbcb02b75268",
        "colab": {
          "base_uri": "https://localhost:8080/"
        }
      },
      "execution_count": 273,
      "outputs": [
        {
          "output_type": "stream",
          "name": "stdout",
          "text": [
            "En el número 2 esta en la posición: 3\n",
            "\n"
          ]
        }
      ]
    },
    {
      "cell_type": "code",
      "source": [
        "# nombre_lista.count(elemento): Cuenta cuántas veces aparece un elemento en la lista.\n",
        "print(f\"El número 3 esta {lista.count(3)} veces en la lista\\n\")"
      ],
      "metadata": {
        "id": "6ggOELjYZNHd",
        "outputId": "7835a623-6db5-4a1b-e915-2896f5872494",
        "colab": {
          "base_uri": "https://localhost:8080/"
        }
      },
      "execution_count": 274,
      "outputs": [
        {
          "output_type": "stream",
          "name": "stdout",
          "text": [
            "El número 3 esta 2 veces en la lista\n",
            "\n"
          ]
        }
      ]
    },
    {
      "cell_type": "code",
      "source": [
        "# nombre_lista.sort(): Ordena los elementos de la lista en orden ascendente.\n",
        "lista.sort()\n",
        "print(f\"Lista ordenada: {lista}\\n\")"
      ],
      "metadata": {
        "id": "jFiSfChbZO3z",
        "outputId": "29448009-626b-4498-c643-5485ebbcbb47",
        "colab": {
          "base_uri": "https://localhost:8080/"
        }
      },
      "execution_count": 275,
      "outputs": [
        {
          "output_type": "stream",
          "name": "stdout",
          "text": [
            "Lista ordenada: [0, 1, 2, 3, 3, 5, 8]\n",
            "\n"
          ]
        }
      ]
    },
    {
      "cell_type": "code",
      "source": [
        "# lista.reverse(): Invierte el orden de los elementos en la lista.\n",
        "lista.reverse()\n",
        "print(f\"Lista en orden inverso: {lista}\")"
      ],
      "metadata": {
        "id": "T24iSSFHZQiw",
        "outputId": "38c5e66f-7e47-4a04-e979-59900b744ef8",
        "colab": {
          "base_uri": "https://localhost:8080/"
        }
      },
      "execution_count": 276,
      "outputs": [
        {
          "output_type": "stream",
          "name": "stdout",
          "text": [
            "Lista en orden inverso: [8, 5, 3, 3, 2, 1, 0]\n"
          ]
        }
      ]
    },
    {
      "cell_type": "markdown",
      "source": [
        "## Diferencia entre `.pop()` y `.remove()`"
      ],
      "metadata": {
        "id": "VD83oxleKoCu"
      }
    },
    {
      "cell_type": "code",
      "source": [
        "# Quito un valor de la lista\n",
        "x = lista.pop(1)\n",
        "x"
      ],
      "metadata": {
        "id": "e4AwOyi4KuCO",
        "outputId": "f13d727c-a2ab-4bc3-95bb-78242e60fc2b",
        "colab": {
          "base_uri": "https://localhost:8080/"
        }
      },
      "execution_count": 277,
      "outputs": [
        {
          "output_type": "execute_result",
          "data": {
            "text/plain": [
              "5"
            ]
          },
          "metadata": {},
          "execution_count": 277
        }
      ]
    },
    {
      "cell_type": "code",
      "source": [
        "lista"
      ],
      "metadata": {
        "id": "PjU_IBH6KvqG",
        "outputId": "adc35882-1515-4e4a-91fc-2c74ffe3fbb6",
        "colab": {
          "base_uri": "https://localhost:8080/"
        }
      },
      "execution_count": 278,
      "outputs": [
        {
          "output_type": "execute_result",
          "data": {
            "text/plain": [
              "[8, 3, 3, 2, 1, 0]"
            ]
          },
          "metadata": {},
          "execution_count": 278
        }
      ]
    },
    {
      "cell_type": "code",
      "source": [],
      "metadata": {
        "id": "ECMT0Vi1KxX3"
      },
      "execution_count": 278,
      "outputs": []
    },
    {
      "cell_type": "markdown",
      "source": [
        "No imprime nada porque `.remove()` no guarda ese valor de la lista como el `.pop()`, literalmente lo eliminó y renombró la lista como x"
      ],
      "metadata": {
        "id": "oFHpshSyK1PO"
      }
    },
    {
      "cell_type": "code",
      "source": [
        "lista"
      ],
      "metadata": {
        "id": "o-UEGE2aK5C3",
        "outputId": "42dd4bf9-aa5a-4eb6-9ff8-85673a432ef4",
        "colab": {
          "base_uri": "https://localhost:8080/"
        }
      },
      "execution_count": 279,
      "outputs": [
        {
          "output_type": "execute_result",
          "data": {
            "text/plain": [
              "[8, 3, 3, 2, 1, 0]"
            ]
          },
          "metadata": {},
          "execution_count": 279
        }
      ]
    },
    {
      "cell_type": "markdown",
      "source": [
        "# ¿Cómo operar si tengo una lista dentro de una lista?"
      ],
      "metadata": {
        "id": "y9JNxIxsDHGY"
      }
    },
    {
      "cell_type": "code",
      "source": [
        "lista_in_lista = lista.copy()\n",
        "lista_in_lista.append(lista)\n",
        "print(\"Se agrega el número 5 a la lista_in_lista\")\n",
        "print(lista_in_lista, \"\\n\")"
      ],
      "metadata": {
        "id": "ljNkTRcZDLVw",
        "outputId": "06c6d014-129b-4bc1-c55a-900cf0070ef8",
        "colab": {
          "base_uri": "https://localhost:8080/"
        }
      },
      "execution_count": 280,
      "outputs": [
        {
          "output_type": "stream",
          "name": "stdout",
          "text": [
            "Se agrega el número 5 a la lista_in_lista\n",
            "[8, 3, 3, 2, 1, 0, [8, 3, 3, 2, 1, 0]] \n",
            "\n"
          ]
        }
      ]
    },
    {
      "cell_type": "code",
      "source": [
        "print(lista_in_lista[6][0])"
      ],
      "metadata": {
        "id": "2Sk1eRiqDTQh",
        "outputId": "4257191a-8650-4bdd-95b5-44e4f2dd7ee3",
        "colab": {
          "base_uri": "https://localhost:8080/"
        }
      },
      "execution_count": 281,
      "outputs": [
        {
          "output_type": "stream",
          "name": "stdout",
          "text": [
            "8\n"
          ]
        }
      ]
    },
    {
      "cell_type": "code",
      "source": [
        "# Elimino un valor de la lista con pop\n",
        "x = lista_in_lista[6].pop(0)\n",
        "print(x)\n",
        "print(lista_in_lista)"
      ],
      "metadata": {
        "id": "kT4UPlCcDVwJ",
        "outputId": "9041b728-1bb7-4a92-9cbf-aa9ab3c20f65",
        "colab": {
          "base_uri": "https://localhost:8080/"
        }
      },
      "execution_count": 282,
      "outputs": [
        {
          "output_type": "stream",
          "name": "stdout",
          "text": [
            "8\n",
            "[8, 3, 3, 2, 1, 0, [3, 3, 2, 1, 0]]\n"
          ]
        }
      ]
    },
    {
      "cell_type": "code",
      "source": [
        "x = lista_in_lista[6].remove(0)\n",
        "print(x)\n",
        "print(lista_in_lista)"
      ],
      "metadata": {
        "id": "Sncy-vk-Ejb4",
        "outputId": "a8bfdea0-a4b7-43a7-aa08-ea05340dae33",
        "colab": {
          "base_uri": "https://localhost:8080/"
        }
      },
      "execution_count": 283,
      "outputs": [
        {
          "output_type": "stream",
          "name": "stdout",
          "text": [
            "None\n",
            "[8, 3, 3, 2, 1, 0, [3, 3, 2, 1]]\n"
          ]
        }
      ]
    },
    {
      "cell_type": "code",
      "source": [
        "del lista_in_lista[6][0]\n",
        "print(lista_in_lista)"
      ],
      "metadata": {
        "id": "pqXXcSJgEsKX",
        "outputId": "6f41c171-30dd-4879-cf08-1ee75810e78b",
        "colab": {
          "base_uri": "https://localhost:8080/"
        }
      },
      "execution_count": 284,
      "outputs": [
        {
          "output_type": "stream",
          "name": "stdout",
          "text": [
            "[8, 3, 3, 2, 1, 0, [3, 2, 1]]\n"
          ]
        }
      ]
    },
    {
      "cell_type": "markdown",
      "source": [
        "# Ejemplos"
      ],
      "metadata": {
        "id": "Qdh8yH2NK6O9"
      }
    },
    {
      "cell_type": "code",
      "source": [
        "# Nueva lista2 con los valores de lista + 1\n",
        "lista2 = []\n",
        "for elemento in lista:\n",
        "    lista2.append(elemento + 1)\n",
        "\n",
        "print(lista2)"
      ],
      "metadata": {
        "colab": {
          "base_uri": "https://localhost:8080/"
        },
        "id": "q_Un2795YzXM",
        "outputId": "e5b9e5f3-91ae-48ce-98a7-743c9c56ff3d"
      },
      "execution_count": 285,
      "outputs": [
        {
          "output_type": "stream",
          "name": "stdout",
          "text": [
            "[4, 3, 2]\n"
          ]
        }
      ]
    },
    {
      "cell_type": "code",
      "source": [
        "# La lista3 tiene en la posción i la suma de los valores de lista y lista2 en la posición i\n",
        "\n",
        "lista3 = []\n",
        "for i in range(len(lista)):\n",
        "    suma = lista[i] + lista2[i]\n",
        "    lista3.append(suma)\n",
        "\n",
        "print(lista3)\n"
      ],
      "metadata": {
        "colab": {
          "base_uri": "https://localhost:8080/"
        },
        "id": "8SbqENfvaVIZ",
        "outputId": "8596208c-83f1-4556-dda0-a387c6585f81"
      },
      "execution_count": 286,
      "outputs": [
        {
          "output_type": "stream",
          "name": "stdout",
          "text": [
            "[7, 5, 3]\n"
          ]
        }
      ]
    }
  ]
}
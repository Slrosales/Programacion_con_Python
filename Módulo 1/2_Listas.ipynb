{
  "nbformat": 4,
  "nbformat_minor": 0,
  "metadata": {
    "colab": {
      "provenance": [],
      "collapsed_sections": [
        "FyQItR1Le7Wx",
        "scrT7TQxizTJ",
        "I-3Qkm4mnLf5",
        "OvfK71U05YkB",
        "th-RzkZRheLs",
        "fhSPkkM8AMyC",
        "k4snHhTKh2rI",
        "B5LoDzhh7JGx",
        "nDrdfzdZ8wne",
        "EPo6kFU8z2Xo",
        "CbjKQhx8_rxi",
        "-HiYHBFOAI1B",
        "BAHsIj0MBvpg",
        "cpQpXJVDGa8q",
        "KWICxCndXMdv",
        "VD83oxleKoCu",
        "Qdh8yH2NK6O9",
        "d9YNzKmsLqE6",
        "G9S1K_wj26Gs",
        "HphBKBaH47vw",
        "L9hUGZnA_yiS",
        "LwYOViTFryXb",
        "FaLe9ufMM27D",
        "qdMvpamXdBBs",
        "marowZRCfsAK",
        "fjTZXJdslRAM",
        "wI4bYzutnIFq",
        "FNyjir4aow5g",
        "wWvjvO1JqCVh",
        "5Q1nazsAd93r",
        "1gaJZqT0e17b",
        "mTlYMYrwQfoM",
        "jLpGNDPhu3G7"
      ],
      "authorship_tag": "ABX9TyNl6FaqMxePlKlW0s/4jaEc",
      "include_colab_link": true
    },
    "kernelspec": {
      "name": "python3",
      "display_name": "Python 3"
    },
    "language_info": {
      "name": "python"
    }
  },
  "cells": [
    {
      "cell_type": "markdown",
      "metadata": {
        "id": "view-in-github",
        "colab_type": "text"
      },
      "source": [
        "<a href=\"https://colab.research.google.com/github/Slrosales/Programacion_con_Python/blob/main/M%C3%B3dulo%201/2_Listas.ipynb\" target=\"_parent\"><img src=\"https://colab.research.google.com/assets/colab-badge.svg\" alt=\"Open In Colab\"/></a>"
      ]
    },
    {
      "cell_type": "markdown",
      "source": [
        "# **Concepto**\n"
      ],
      "metadata": {
        "id": "cpQpXJVDGa8q"
      }
    },
    {
      "cell_type": "markdown",
      "source": [
        "Las listas son estructuras de datos muy versátiles y ampliamente utilizadas para almacenar y manipular datos en un programa, especificamente es una colección ordenada de elementos que pueden ser de diferentes tipos (números, cadenas, otros objetos, etc.)."
      ],
      "metadata": {
        "id": "MamZYaXeGozS"
      }
    },
    {
      "cell_type": "code",
      "source": [
        "lista_numeros = [1, 2, 2, 3, 4, 5]\n",
        "lista_nombres = [\"Luna\", \"Giuseppe\", \"Laura\", \"Rubens\"]\n",
        "lista_multi = [1, \"hola\", 2.5]"
      ],
      "metadata": {
        "id": "UcUIgNa8HLaA"
      },
      "execution_count": 1,
      "outputs": []
    },
    {
      "cell_type": "markdown",
      "source": [
        "[pos 0, pos 1, pos 2, ... , pos n]"
      ],
      "metadata": {
        "id": "ppAcD5uBWoeA"
      }
    },
    {
      "cell_type": "code",
      "source": [
        "lista = [0, 8, 1, 2, 3, 3, 4]"
      ],
      "metadata": {
        "id": "KyOvJQ4vHfHI"
      },
      "execution_count": 56,
      "outputs": []
    },
    {
      "cell_type": "code",
      "source": [
        "# Imprime el valor en la posicón 1 de la lista\n",
        "# nombre_lista[indice]\n",
        "print(lista[5])"
      ],
      "metadata": {
        "colab": {
          "base_uri": "https://localhost:8080/"
        },
        "id": "neQpCCfQgZBT",
        "outputId": "72577532-b3c0-48f8-a51f-95f08b6e9215"
      },
      "execution_count": 6,
      "outputs": [
        {
          "output_type": "stream",
          "name": "stdout",
          "text": [
            "3\n"
          ]
        }
      ]
    },
    {
      "cell_type": "code",
      "source": [
        "# Imprime el valor en la posicón -1 de la lista\n",
        "# (De derecha a izquierda)\n",
        "print(lista[-1])"
      ],
      "metadata": {
        "colab": {
          "base_uri": "https://localhost:8080/"
        },
        "id": "n1LlgoO2Wtkf",
        "outputId": "6f14e1a7-be36-4957-9f9e-bd806b59277b"
      },
      "execution_count": null,
      "outputs": [
        {
          "output_type": "stream",
          "name": "stdout",
          "text": [
            "4\n"
          ]
        }
      ]
    },
    {
      "cell_type": "code",
      "source": [
        "# Dame los primeros 3 valores\n",
        "# nombre_lista[pos inicial, pos final, paso]\n",
        "print(lista[:3])\n"
      ],
      "metadata": {
        "colab": {
          "base_uri": "https://localhost:8080/"
        },
        "id": "KxeVnXMQWwrW",
        "outputId": "6bd194ca-d198-46fd-e1c8-15ff8c74bc1b"
      },
      "execution_count": 7,
      "outputs": [
        {
          "output_type": "stream",
          "name": "stdout",
          "text": [
            "[0, 8, 1]\n"
          ]
        }
      ]
    },
    {
      "cell_type": "code",
      "source": [
        "print(lista[2:5])"
      ],
      "metadata": {
        "colab": {
          "base_uri": "https://localhost:8080/"
        },
        "id": "OQd7DHS4W2D2",
        "outputId": "ee20d434-58d5-451b-a27f-346144e48254"
      },
      "execution_count": 8,
      "outputs": [
        {
          "output_type": "stream",
          "name": "stdout",
          "text": [
            "[1, 2, 3]\n"
          ]
        }
      ]
    },
    {
      "cell_type": "code",
      "source": [
        "# Invertir orden de la lista\n",
        "nueva_lista = lista[::-1]\n",
        "nueva_lista"
      ],
      "metadata": {
        "colab": {
          "base_uri": "https://localhost:8080/"
        },
        "id": "WPwMrtAhW49O",
        "outputId": "412ec588-249d-4ed6-bdeb-af74d20dd5d0"
      },
      "execution_count": 9,
      "outputs": [
        {
          "output_type": "execute_result",
          "data": {
            "text/plain": [
              "[4, 3, 3, 2, 1, 8, 0]"
            ]
          },
          "metadata": {},
          "execution_count": 9
        }
      ]
    },
    {
      "cell_type": "code",
      "source": [
        "print(lista)\n",
        "print(nueva_lista)"
      ],
      "metadata": {
        "colab": {
          "base_uri": "https://localhost:8080/"
        },
        "id": "uVfzqg8jW75O",
        "outputId": "1a2cd86a-1cd9-4adf-ff38-c620f12df914"
      },
      "execution_count": null,
      "outputs": [
        {
          "output_type": "stream",
          "name": "stdout",
          "text": [
            "[0, 8, 1, 2, 3, 3, 4]\n",
            "[4, 3, 3, 2, 1, 8, 0]\n"
          ]
        }
      ]
    },
    {
      "cell_type": "markdown",
      "source": [
        "# Funciones"
      ],
      "metadata": {
        "id": "KWICxCndXMdv"
      }
    },
    {
      "cell_type": "code",
      "source": [
        "# len(nombre_lista): Retorna la longitud (número de elementos) de la lista\n",
        "print(f\"El tamaño de la lista es: {len(lista)}\\n\")"
      ],
      "metadata": {
        "id": "apf0PWD8Yg90",
        "outputId": "7122f85a-6248-455c-a038-7a840799e929",
        "colab": {
          "base_uri": "https://localhost:8080/"
        }
      },
      "execution_count": 57,
      "outputs": [
        {
          "output_type": "stream",
          "name": "stdout",
          "text": [
            "El tamaño de la lista es: 7\n",
            "\n"
          ]
        }
      ]
    },
    {
      "cell_type": "code",
      "source": [
        "# nombre_lista.append(elemento): Agrega un elemento al final de la lista.\n",
        "lista.append(5)\n",
        "print(\"Se agrega el número 5 a la lista\")\n",
        "print(lista, \"\\n\")"
      ],
      "metadata": {
        "id": "44C9cwhcPKW-",
        "outputId": "10f72857-3768-4964-99d6-0c273cc1005d",
        "colab": {
          "base_uri": "https://localhost:8080/"
        }
      },
      "execution_count": 58,
      "outputs": [
        {
          "output_type": "stream",
          "name": "stdout",
          "text": [
            "Se agrega el número 5 a la lista\n",
            "[0, 8, 1, 2, 3, 3, 4, 5] \n",
            "\n"
          ]
        }
      ]
    },
    {
      "cell_type": "code",
      "source": [
        "lista.append(nueva_lista)\n",
        "print(\"Se agrega el número 5 a la lista\")\n",
        "print(lista, \"\\n\")"
      ],
      "metadata": {
        "id": "1KkTugI1Y7UW",
        "outputId": "b7a1c888-cc83-4146-da11-08c4fbdbb1e6",
        "colab": {
          "base_uri": "https://localhost:8080/"
        }
      },
      "execution_count": 75,
      "outputs": [
        {
          "output_type": "stream",
          "name": "stdout",
          "text": [
            "Se agrega el número 5 a la lista\n",
            "[8, 3, 3, 2, 0, [4, 3, 3, 2, 1, 8, 0]] \n",
            "\n"
          ]
        }
      ]
    },
    {
      "cell_type": "code",
      "source": [
        "print(lista[5][0])"
      ],
      "metadata": {
        "id": "ce1v8u8gOxLG",
        "outputId": "f38bd16d-c23e-4904-e229-31e95cd02189",
        "colab": {
          "base_uri": "https://localhost:8080/"
        }
      },
      "execution_count": 77,
      "outputs": [
        {
          "output_type": "stream",
          "name": "stdout",
          "text": [
            "4\n"
          ]
        }
      ]
    },
    {
      "cell_type": "code",
      "source": [
        "# lista.insert(posicion, elemento): Inserta un elemento en una posición específica de la lista.\n",
        "print(\"Se inserta una 'x' en la posición 3\")\n",
        "lista.insert(3, \"x\")\n",
        "print(lista, \"\\n\")"
      ],
      "metadata": {
        "id": "Zn2U67oSY82t",
        "outputId": "e8e41d54-18cc-4f1f-ad27-f9f1536d0dc9",
        "colab": {
          "base_uri": "https://localhost:8080/"
        }
      },
      "execution_count": 61,
      "outputs": [
        {
          "output_type": "stream",
          "name": "stdout",
          "text": [
            "Se inserta una 'x' en la posición 3\n",
            "[0, 8, 1, 'x', 2, 3, 3, 4, 5] \n",
            "\n"
          ]
        }
      ]
    },
    {
      "cell_type": "code",
      "source": [
        "# lista.remove(elemento): Remueve la primera aparición del elemento de la lista.\n",
        "print(\"Se elimina la 'x' de la lista\")\n",
        "lista.remove(\"x\")\n",
        "print(lista, \"\\n\")"
      ],
      "metadata": {
        "id": "E0oZAC0TY_12",
        "outputId": "c54a8193-788a-4b83-eb36-bb45faceb706",
        "colab": {
          "base_uri": "https://localhost:8080/"
        }
      },
      "execution_count": 62,
      "outputs": [
        {
          "output_type": "stream",
          "name": "stdout",
          "text": [
            "Se elimina la 'x' de la lista\n",
            "[0, 8, 1, 2, 3, 3, 4, 5] \n",
            "\n"
          ]
        }
      ]
    },
    {
      "cell_type": "code",
      "source": [
        "#lista.pop(posicion): Remueve y retorna el elemento en la posición especificada.\n",
        "print(f\"Se obtine el número en la posición 6 ({lista.pop(6)}) y se elimina\")\n",
        "print(lista, \"\\n\")"
      ],
      "metadata": {
        "id": "8VAolG50ZBeU",
        "outputId": "8e608484-f4a2-4ec0-afc6-9a7272201d95",
        "colab": {
          "base_uri": "https://localhost:8080/"
        }
      },
      "execution_count": 63,
      "outputs": [
        {
          "output_type": "stream",
          "name": "stdout",
          "text": [
            "Se obtine el número en la posición 6 (4) y se elimina\n",
            "[0, 8, 1, 2, 3, 3, 5] \n",
            "\n"
          ]
        }
      ]
    },
    {
      "cell_type": "code",
      "source": [
        "# elemento in nombre_lista: Verifica si un elemento está presente en la lista.\n",
        "print(f\"¿Está el 4 en la lista?\\nRespuesta: {4 in lista}\\n\")\n",
        "\n",
        "print(f\"¿Esta el 3 en la lista?\\nRespuesta: {3 in lista}\\n\")"
      ],
      "metadata": {
        "id": "EHG8PX7vZEBU",
        "outputId": "b604a2e1-8d73-4a24-91d6-01d41ae76052",
        "colab": {
          "base_uri": "https://localhost:8080/"
        }
      },
      "execution_count": 64,
      "outputs": [
        {
          "output_type": "stream",
          "name": "stdout",
          "text": [
            "¿Está el 4 en la lista?\n",
            "Respuesta: False\n",
            "\n",
            "¿Esta el 3 en la lista?\n",
            "Respuesta: True\n",
            "\n"
          ]
        }
      ]
    },
    {
      "cell_type": "code",
      "source": [
        "# nombre_lista.index(elemento): Retorna el índice de la primera aparición del elemento.\n",
        "print(f\"En el número 2 esta en la posición: {lista.index(2)}\\n\")"
      ],
      "metadata": {
        "id": "NKTL7NPGZLcl",
        "outputId": "f2482415-f20d-403e-da37-8e502addb643",
        "colab": {
          "base_uri": "https://localhost:8080/"
        }
      },
      "execution_count": 65,
      "outputs": [
        {
          "output_type": "stream",
          "name": "stdout",
          "text": [
            "En el número 2 esta en la posición: 3\n",
            "\n"
          ]
        }
      ]
    },
    {
      "cell_type": "code",
      "source": [
        "# nombre_lista.count(elemento): Cuenta cuántas veces aparece un elemento en la lista.\n",
        "print(f\"El número 3 esta {lista.count(3)} veces en la lista\\n\")"
      ],
      "metadata": {
        "id": "6ggOELjYZNHd",
        "outputId": "e07eaeec-386f-4071-cf77-a381a7a9d263",
        "colab": {
          "base_uri": "https://localhost:8080/"
        }
      },
      "execution_count": 66,
      "outputs": [
        {
          "output_type": "stream",
          "name": "stdout",
          "text": [
            "El número 3 esta 2 veces en la lista\n",
            "\n"
          ]
        }
      ]
    },
    {
      "cell_type": "code",
      "source": [
        "# nombre_lista.sort(): Ordena los elementos de la lista en orden ascendente.\n",
        "lista.sort()\n",
        "print(f\"Lista ordenada: {lista}\\n\")"
      ],
      "metadata": {
        "id": "jFiSfChbZO3z",
        "outputId": "a526fdb5-1d93-4a09-de65-73813aafc2cb",
        "colab": {
          "base_uri": "https://localhost:8080/"
        }
      },
      "execution_count": 67,
      "outputs": [
        {
          "output_type": "stream",
          "name": "stdout",
          "text": [
            "Lista ordenada: [0, 1, 2, 3, 3, 5, 8]\n",
            "\n"
          ]
        }
      ]
    },
    {
      "cell_type": "code",
      "source": [
        "# lista.reverse(): Invierte el orden de los elementos en la lista.\n",
        "lista.reverse()\n",
        "print(f\"Lista en orden inverso: {lista}\")"
      ],
      "metadata": {
        "id": "T24iSSFHZQiw",
        "outputId": "20e56897-6022-42c6-cd75-a91dc7798775",
        "colab": {
          "base_uri": "https://localhost:8080/"
        }
      },
      "execution_count": 68,
      "outputs": [
        {
          "output_type": "stream",
          "name": "stdout",
          "text": [
            "Lista en orden inverso: [8, 5, 3, 3, 2, 1, 0]\n"
          ]
        }
      ]
    },
    {
      "cell_type": "markdown",
      "source": [
        "## Diferencia entre `.pop()` y `.remove()`"
      ],
      "metadata": {
        "id": "VD83oxleKoCu"
      }
    },
    {
      "cell_type": "code",
      "source": [
        "# Quito un valor de la lista\n",
        "x = lista.pop(1)\n",
        "x"
      ],
      "metadata": {
        "id": "e4AwOyi4KuCO",
        "outputId": "f80df387-f723-4d9c-d939-b1d8a2f64886",
        "colab": {
          "base_uri": "https://localhost:8080/"
        }
      },
      "execution_count": 78,
      "outputs": [
        {
          "output_type": "execute_result",
          "data": {
            "text/plain": [
              "3"
            ]
          },
          "metadata": {},
          "execution_count": 78
        }
      ]
    },
    {
      "cell_type": "code",
      "source": [
        "lista"
      ],
      "metadata": {
        "id": "PjU_IBH6KvqG",
        "outputId": "d99c2d2f-2d72-4e14-f151-0a0e4896598b",
        "colab": {
          "base_uri": "https://localhost:8080/"
        }
      },
      "execution_count": 79,
      "outputs": [
        {
          "output_type": "execute_result",
          "data": {
            "text/plain": [
              "[8, 3, 2, 0, [4, 3, 3, 2, 1, 8, 0]]"
            ]
          },
          "metadata": {},
          "execution_count": 79
        }
      ]
    },
    {
      "cell_type": "code",
      "source": [
        "# Elimino un valor de la lista\n",
        "x = lista.remove([4][1])\n",
        "x"
      ],
      "metadata": {
        "id": "ECMT0Vi1KxX3",
        "outputId": "5183eb82-9ed8-40d6-cabb-bbc756f7e08e",
        "colab": {
          "base_uri": "https://localhost:8080/",
          "height": 176
        }
      },
      "execution_count": 81,
      "outputs": [
        {
          "output_type": "error",
          "ename": "IndexError",
          "evalue": "list index out of range",
          "traceback": [
            "\u001b[0;31m---------------------------------------------------------------------------\u001b[0m",
            "\u001b[0;31mIndexError\u001b[0m                                Traceback (most recent call last)",
            "\u001b[0;32m<ipython-input-81-4a0202983338>\u001b[0m in \u001b[0;36m<cell line: 0>\u001b[0;34m()\u001b[0m\n\u001b[1;32m      1\u001b[0m \u001b[0;31m# Elimino un valor de la lista\u001b[0m\u001b[0;34m\u001b[0m\u001b[0;34m\u001b[0m\u001b[0m\n\u001b[0;32m----> 2\u001b[0;31m \u001b[0mx\u001b[0m \u001b[0;34m=\u001b[0m \u001b[0mlista\u001b[0m\u001b[0;34m.\u001b[0m\u001b[0mremove\u001b[0m\u001b[0;34m(\u001b[0m\u001b[0;34m[\u001b[0m\u001b[0;36m4\u001b[0m\u001b[0;34m]\u001b[0m\u001b[0;34m[\u001b[0m\u001b[0;36m1\u001b[0m\u001b[0;34m]\u001b[0m\u001b[0;34m)\u001b[0m\u001b[0;34m\u001b[0m\u001b[0;34m\u001b[0m\u001b[0m\n\u001b[0m\u001b[1;32m      3\u001b[0m \u001b[0mx\u001b[0m\u001b[0;34m\u001b[0m\u001b[0;34m\u001b[0m\u001b[0m\n",
            "\u001b[0;31mIndexError\u001b[0m: list index out of range"
          ]
        }
      ]
    },
    {
      "cell_type": "markdown",
      "source": [
        "No imprime nada porque `.remove()` no guarda ese valor de la lista como el `.pop()`, literalmente lo eliminó y renombró la lista como x"
      ],
      "metadata": {
        "id": "oFHpshSyK1PO"
      }
    },
    {
      "cell_type": "code",
      "source": [
        "lista"
      ],
      "metadata": {
        "id": "o-UEGE2aK5C3",
        "outputId": "b87614c9-1535-4e0f-af88-1675029e79a8",
        "colab": {
          "base_uri": "https://localhost:8080/"
        }
      },
      "execution_count": 72,
      "outputs": [
        {
          "output_type": "execute_result",
          "data": {
            "text/plain": [
              "[8, 3, 3, 2, 0]"
            ]
          },
          "metadata": {},
          "execution_count": 72
        }
      ]
    },
    {
      "cell_type": "markdown",
      "source": [
        "# Ejemplos"
      ],
      "metadata": {
        "id": "Qdh8yH2NK6O9"
      }
    },
    {
      "cell_type": "code",
      "source": [
        "# Nueva lista2 con los valores de lista + 1\n",
        "lista2 = []\n",
        "for elemento in lista:\n",
        "    lista2.append(elemento + 1)\n",
        "\n",
        "print(lista2)"
      ],
      "metadata": {
        "colab": {
          "base_uri": "https://localhost:8080/"
        },
        "id": "q_Un2795YzXM",
        "outputId": "c4c12c23-8ff2-41db-9ad6-8797fc38a5c9"
      },
      "execution_count": null,
      "outputs": [
        {
          "output_type": "stream",
          "name": "stdout",
          "text": [
            "[9, 4, 4, 3, 1]\n"
          ]
        }
      ]
    },
    {
      "cell_type": "code",
      "source": [
        "# La lista3 tiene en la posción i la suma de los valores de lista y lista2 en la posición i\n",
        "\n",
        "lista3 = []\n",
        "for i in range(len(lista)):\n",
        "    suma = lista[i] + lista2[i]\n",
        "    lista3.append(suma)\n",
        "\n",
        "print(lista3)\n"
      ],
      "metadata": {
        "colab": {
          "base_uri": "https://localhost:8080/"
        },
        "id": "8SbqENfvaVIZ",
        "outputId": "696d95ad-0565-473a-bdb6-02981eccc212"
      },
      "execution_count": null,
      "outputs": [
        {
          "output_type": "stream",
          "name": "stdout",
          "text": [
            "[17, 7, 7, 5, 1]\n"
          ]
        }
      ]
    }
  ]
}
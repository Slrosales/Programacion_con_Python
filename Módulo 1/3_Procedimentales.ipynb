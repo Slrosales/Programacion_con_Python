{
  "nbformat": 4,
  "nbformat_minor": 0,
  "metadata": {
    "colab": {
      "provenance": [],
      "collapsed_sections": [
        "FAmgblGFfTxX",
        "FyQItR1Le7Wx",
        "scrT7TQxizTJ",
        "I-3Qkm4mnLf5",
        "OvfK71U05YkB",
        "th-RzkZRheLs",
        "fhSPkkM8AMyC",
        "k4snHhTKh2rI",
        "B5LoDzhh7JGx",
        "nDrdfzdZ8wne",
        "EPo6kFU8z2Xo",
        "CbjKQhx8_rxi",
        "-HiYHBFOAI1B",
        "BAHsIj0MBvpg",
        "cpQpXJVDGa8q",
        "_y1-km7WAo03",
        "nhk4CM8KBLxC",
        "CEVGT6iklJ3W",
        "vqprqetAm4Qc",
        "MWtY1pg_q5Zx",
        "W68yBxpcthLF"
      ],
      "authorship_tag": "ABX9TyPSmu3BD085g7IUpw5Gwipi",
      "include_colab_link": true
    },
    "kernelspec": {
      "name": "python3",
      "display_name": "Python 3"
    },
    "language_info": {
      "name": "python"
    }
  },
  "cells": [
    {
      "cell_type": "markdown",
      "metadata": {
        "id": "view-in-github",
        "colab_type": "text"
      },
      "source": [
        "<a href=\"https://colab.research.google.com/github/Slrosales/Programacion_con_Python/blob/main/M%C3%B3dulo%201/3_Procedimentales.ipynb\" target=\"_parent\"><img src=\"https://colab.research.google.com/assets/colab-badge.svg\" alt=\"Open In Colab\"/></a>"
      ]
    },
    {
      "cell_type": "markdown",
      "source": [
        "# **Función**"
      ],
      "metadata": {
        "id": "G9S1K_wj26Gs"
      }
    },
    {
      "cell_type": "markdown",
      "source": [
        "Es un bloque de código que solo se ejecuta cuando es llamado y dado ciertos parámetros;\n",
        "\n",
        "además, este se caracteriza por **retornar** uno o varios valores."
      ],
      "metadata": {
        "id": "FF30Smiu4-7A"
      }
    },
    {
      "cell_type": "markdown",
      "source": [
        "**Estructura básica**\n",
        "- `def`:  es la palabra con la que Python sabe que se está definiendo una función. Es una abreviatura de \"define\" (definir).\n",
        "- `Nombre de la función:` Es un nombre personalizado que se le asigna a la función, fundamental para luego poder llamarla. En el ejemplo es `num_por_dos`\n",
        "- `Parámetro`: Son valores que se pueden pasar a una función para que esta los utilice, estos se declaran dentro de los parentesis que van seguidps del nombre de la función. Cabe aclarar que no siempre son necesarios, depende del objetivo o que tambien pueden tener valores predeterminados en caso que el usuario no lo proporcione. En el ejemplo, numero es un parámetro.\n",
        "- `Cuerpo de la función:` Bloque de código que define lo que hace la función. En el ejemplo, `print(\"Calculando...\")` es parte del cuerpo de la función.\n",
        "- `return`: Indica qué valor debe devolver la función. En ejemplo es `numero * 2`\n",
        "\n",
        "\\\\\n",
        "⭕**IMPORTANTE NO OLVIDAR LA INDENTACIÓN**"
      ],
      "metadata": {
        "id": "JlXlejev7QVu"
      }
    },
    {
      "cell_type": "code",
      "source": [
        "def num_por_dos(numero):\n",
        "  print(f\"Calculando: {numero} * 2\\nEs:\")\n",
        "  return numero * 2"
      ],
      "metadata": {
        "id": "2atgTxef4-dw"
      },
      "execution_count": 1,
      "outputs": []
    },
    {
      "cell_type": "markdown",
      "source": [
        "**Llamado**"
      ],
      "metadata": {
        "id": "J7YYV7Rh7t9F"
      }
    },
    {
      "cell_type": "code",
      "source": [
        "# Guardamos el resultado que va a retornar en x\n",
        "x = num_por_dos(3)\n",
        "print(x)"
      ],
      "metadata": {
        "colab": {
          "base_uri": "https://localhost:8080/"
        },
        "id": "WsnrQQjT7tdG",
        "outputId": "019b7aa7-934d-4d83-8128-cba6304a8567"
      },
      "execution_count": 4,
      "outputs": [
        {
          "output_type": "stream",
          "name": "stdout",
          "text": [
            "Calculando: 3 * 2\n",
            "Es:\n",
            "6\n"
          ]
        }
      ]
    },
    {
      "cell_type": "markdown",
      "source": [
        "```python\n",
        "def num_por_dos(3):\n",
        "  print(f\"Calculando: {3} * 2\\nEs:\")\n",
        "  return 3 * 2\n",
        "```"
      ],
      "metadata": {
        "id": "mV1kYlMfUKkG"
      }
    },
    {
      "cell_type": "code",
      "source": [
        "print(x+5)"
      ],
      "metadata": {
        "colab": {
          "base_uri": "https://localhost:8080/"
        },
        "id": "dzyRKQAzUk2O",
        "outputId": "4ce690c2-51fd-462c-ac4c-ae18c2b0d7d7"
      },
      "execution_count": 5,
      "outputs": [
        {
          "output_type": "stream",
          "name": "stdout",
          "text": [
            "11\n"
          ]
        }
      ]
    },
    {
      "cell_type": "markdown",
      "source": [
        "# **Subrutina**"
      ],
      "metadata": {
        "id": "HphBKBaH47vw"
      }
    },
    {
      "cell_type": "markdown",
      "source": [
        "Su unica diferencia con respecto a las funciones, es que este no retorna ningun valor, es decir, no usa `return` para devolver un valor."
      ],
      "metadata": {
        "id": "rhebI4696AG4"
      }
    },
    {
      "cell_type": "code",
      "source": [
        "def num_por_dos(numero):\n",
        "  print(f\"Calculando: {numero} * 2\\nEs: {numero * 2}\")"
      ],
      "metadata": {
        "id": "71V6aNqy_kVx"
      },
      "execution_count": 6,
      "outputs": []
    },
    {
      "cell_type": "code",
      "source": [
        "# No se debe guardar en una variable porque no retorna nada\n",
        "num_por_dos(5)"
      ],
      "metadata": {
        "colab": {
          "base_uri": "https://localhost:8080/"
        },
        "id": "jUe9eYeF_q8y",
        "outputId": "bfa795da-83d7-4030-a379-854e5ca72c99"
      },
      "execution_count": null,
      "outputs": [
        {
          "output_type": "stream",
          "name": "stdout",
          "text": [
            "Calculando: 5 * 2\n",
            "Es: 10\n"
          ]
        }
      ]
    },
    {
      "cell_type": "markdown",
      "source": [
        "# Ejemplos de **Funciones** y **Subrutinas**"
      ],
      "metadata": {
        "id": "L9hUGZnA_yiS"
      }
    },
    {
      "cell_type": "markdown",
      "source": [
        "## Ejemplo 1"
      ],
      "metadata": {
        "id": "hKM-hyjA2MaH"
      }
    },
    {
      "cell_type": "code",
      "source": [
        "# saludo personalizado\n",
        "def saludo(nombre):\n",
        "  return \"¡Hola, \" + nombre + \"!\"\n",
        "# return print(\"¡Hola, \", nombre, \"!\")\n",
        "\n",
        "nombre_usuario = input(\"Introduce tu nombre: \")\n",
        "print(saludo(nombre_usuario))"
      ],
      "metadata": {
        "colab": {
          "base_uri": "https://localhost:8080/"
        },
        "id": "E1AAc3m1BKaY",
        "outputId": "40135d09-468c-4348-e041-aefa3e922e7c"
      },
      "execution_count": 7,
      "outputs": [
        {
          "output_type": "stream",
          "name": "stdout",
          "text": [
            "Introduce tu nombre: Laura\n",
            "¡Hola, Laura!\n"
          ]
        }
      ]
    },
    {
      "cell_type": "markdown",
      "source": [
        "## Ejemplo 2"
      ],
      "metadata": {
        "id": "Ex-IIFJ72PkH"
      }
    },
    {
      "cell_type": "code",
      "source": [
        "# Tabla de multiplicar del número dado\n",
        "\n",
        "# limite tiene un valor predeterminado en caso\n",
        "# que el usuario no lo ingrese\n",
        "def tabla_multiplicar(numero = 5, limite=10):\n",
        "\n",
        "  for i in range(1, limite + 1):\n",
        "      print(f\"{numero} x {i} = {numero*i}\")\n",
        "      # print(numero, \"x\", i, \"=\", numero*i)\n",
        "\n",
        "tabla_multiplicar(2)"
      ],
      "metadata": {
        "colab": {
          "base_uri": "https://localhost:8080/"
        },
        "id": "lIEBF6frCJ1f",
        "outputId": "b110699c-8877-4b00-f1ef-3b17e1ebe34f"
      },
      "execution_count": 21,
      "outputs": [
        {
          "output_type": "stream",
          "name": "stdout",
          "text": [
            "2 x 1 = 2\n",
            "2 x 2 = 4\n",
            "2 x 3 = 6\n",
            "2 x 4 = 8\n",
            "2 x 5 = 10\n",
            "2 x 6 = 12\n",
            "2 x 7 = 14\n",
            "2 x 8 = 16\n",
            "2 x 9 = 18\n",
            "2 x 10 = 20\n"
          ]
        }
      ]
    },
    {
      "cell_type": "code",
      "source": [
        "tabla_multiplicar(2,5)"
      ],
      "metadata": {
        "colab": {
          "base_uri": "https://localhost:8080/"
        },
        "id": "P0NO9nlZWYrW",
        "outputId": "aa95b49b-ce9a-49ec-9a49-5379c7e04f87"
      },
      "execution_count": 13,
      "outputs": [
        {
          "output_type": "stream",
          "name": "stdout",
          "text": [
            "2 x 1 = 2\n",
            "2 x 2 = 4\n",
            "2 x 3 = 6\n",
            "2 x 4 = 8\n",
            "2 x 5 = 10\n"
          ]
        }
      ]
    },
    {
      "cell_type": "code",
      "source": [
        "tabla_multiplicar(limite = 6, numero = 2)"
      ],
      "metadata": {
        "colab": {
          "base_uri": "https://localhost:8080/"
        },
        "id": "FG9wOLGQWZ8N",
        "outputId": "dee99b53-ee03-4171-ebc8-adae0aed279a"
      },
      "execution_count": 19,
      "outputs": [
        {
          "output_type": "stream",
          "name": "stdout",
          "text": [
            "2 x 1 = 2\n",
            "2 x 2 = 4\n",
            "2 x 3 = 6\n",
            "2 x 4 = 8\n",
            "2 x 5 = 10\n",
            "2 x 6 = 12\n"
          ]
        }
      ]
    },
    {
      "cell_type": "code",
      "source": [
        "tabla_multiplicar()"
      ],
      "metadata": {
        "colab": {
          "base_uri": "https://localhost:8080/"
        },
        "id": "W0r5hz_4XTC2",
        "outputId": "c5fa69cf-feca-4098-c6b6-aed4d7177040"
      },
      "execution_count": 22,
      "outputs": [
        {
          "output_type": "stream",
          "name": "stdout",
          "text": [
            "5 x 1 = 5\n",
            "5 x 2 = 10\n",
            "5 x 3 = 15\n",
            "5 x 4 = 20\n",
            "5 x 5 = 25\n",
            "5 x 6 = 30\n",
            "5 x 7 = 35\n",
            "5 x 8 = 40\n",
            "5 x 9 = 45\n",
            "5 x 10 = 50\n"
          ]
        }
      ]
    },
    {
      "cell_type": "code",
      "source": [
        "# De acuerdo a la necesidad del usuario\n",
        "x = int(input(\"Tabla de multiplicar del: \"))\n",
        "limite = int(input(\"Limite de la tabla: \"))\n",
        "tabla_multiplicar(x, limite)"
      ],
      "metadata": {
        "colab": {
          "base_uri": "https://localhost:8080/"
        },
        "id": "zbrALU3bolwv",
        "outputId": "97ddcf11-2090-48dc-a054-79700513d14f"
      },
      "execution_count": 24,
      "outputs": [
        {
          "output_type": "stream",
          "name": "stdout",
          "text": [
            "Tabla de multiplicar del: 6\n",
            "Limite de la tabla: 15\n",
            "6 x 1 = 6\n",
            "6 x 2 = 12\n",
            "6 x 3 = 18\n",
            "6 x 4 = 24\n",
            "6 x 5 = 30\n",
            "6 x 6 = 36\n",
            "6 x 7 = 42\n",
            "6 x 8 = 48\n",
            "6 x 9 = 54\n",
            "6 x 10 = 60\n",
            "6 x 11 = 66\n",
            "6 x 12 = 72\n",
            "6 x 13 = 78\n",
            "6 x 14 = 84\n",
            "6 x 15 = 90\n"
          ]
        }
      ]
    },
    {
      "cell_type": "markdown",
      "source": [
        "## Ejemplo 3"
      ],
      "metadata": {
        "id": "LwYOViTFryXb"
      }
    },
    {
      "cell_type": "code",
      "source": [
        "tareas = []"
      ],
      "metadata": {
        "id": "dloQ7nR0r2DD"
      },
      "execution_count": null,
      "outputs": []
    },
    {
      "cell_type": "code",
      "source": [
        "def mostrar_tareas_pendientes():\n",
        "  print(\"\\nTareas pendientes:\")\n",
        "  \"\"\"\n",
        "  Usamos enumerate para iterar sobre 'tareas' y\n",
        "  obtener tanto el índice (empezando desde 1)\n",
        "  como el valor de cada tarea, y luego los mostramos.\n",
        "  \"\"\"\n",
        "  for i, tarea in enumerate(tareas, 1):\n",
        "      print(f\"{i} - {tarea}\")\n",
        "  print()\n",
        "\n",
        "  \"\"\"\n",
        "  Otra forma\n",
        "  for i in range(len(tareas)):\n",
        "      print(f\"{i+1} - {tareas[i]}\")\n",
        "  print()\n",
        "  \"\"\""
      ],
      "metadata": {
        "id": "_ocGu2fHryFU"
      },
      "execution_count": null,
      "outputs": []
    },
    {
      "cell_type": "code",
      "source": [
        "def agregar_tarea():\n",
        "  tarea = input(\"Introduce la tarea a agregar: \")\n",
        "  tareas.append(tarea)\n",
        "  print(\"Tarea agregada\\n\")"
      ],
      "metadata": {
        "id": "YPFLWmHTr_sq"
      },
      "execution_count": null,
      "outputs": []
    },
    {
      "cell_type": "code",
      "source": [
        "def eliminar_tarea():\n",
        "  mostrar_tareas_pendientes()\n",
        "  num = int(input(\"Introduce el número de la tarea a eliminar: \"))\n",
        "\n",
        "  if 1 <= num <= len(tareas):\n",
        "      tarea_eliminada = tareas.pop(num-1)\n",
        "      print(f\"Tarea '{tarea_eliminada}' eliminada\\n\")\n",
        "  else:\n",
        "      print(\"Número inválido.\")\n"
      ],
      "metadata": {
        "id": "OjeY9KYpEfvt"
      },
      "execution_count": null,
      "outputs": []
    },
    {
      "cell_type": "code",
      "source": [
        "while True:\n",
        "  # Menu\n",
        "  print(\"\\n1. Mostrar tareas\")\n",
        "  print(\"2. Agregar tarea\")\n",
        "  print(\"3. Eliminar tarea\")\n",
        "  print(\"4. Salir\")\n",
        "  opcion = input(\"Elige una opción: \")\n",
        "\n",
        "  if opcion == \"1\":\n",
        "      mostrar_tareas_pendientes()\n",
        "  elif opcion == \"2\":\n",
        "      agregar_tarea()\n",
        "  elif opcion == \"3\":\n",
        "      eliminar_tarea()\n",
        "  elif opcion == \"4\":\n",
        "      break\n",
        "  else:\n",
        "      print(\"Opción no válida.\")"
      ],
      "metadata": {
        "colab": {
          "base_uri": "https://localhost:8080/"
        },
        "id": "6jDBdKWQFAA8",
        "outputId": "72fb46d3-1eeb-4e0d-f4b4-510c36d2eef7"
      },
      "execution_count": null,
      "outputs": [
        {
          "name": "stdout",
          "output_type": "stream",
          "text": [
            "\n",
            "1. Mostrar tareas\n",
            "2. Agregar tarea\n",
            "3. Eliminar tarea\n",
            "4. Salir\n",
            "Elige una opción: 2\n",
            "Introduce la tarea a agregar: Jugar\n",
            "Tarea agregada\n",
            "\n",
            "\n",
            "1. Mostrar tareas\n",
            "2. Agregar tarea\n",
            "3. Eliminar tarea\n",
            "4. Salir\n",
            "Elige una opción: 2\n",
            "Introduce la tarea a agregar: Estudiar\n",
            "Tarea agregada\n",
            "\n",
            "\n",
            "1. Mostrar tareas\n",
            "2. Agregar tarea\n",
            "3. Eliminar tarea\n",
            "4. Salir\n",
            "Elige una opción: 3\n",
            "\n",
            "Tareas pendientes:\n",
            "1 - Jugar\n",
            "2 - Estudiar\n",
            "\n",
            "Introduce el número de la tarea a eliminar: 2\n",
            "Tarea 'Estudiar' eliminada\n",
            "\n",
            "\n",
            "1. Mostrar tareas\n",
            "2. Agregar tarea\n",
            "3. Eliminar tarea\n",
            "4. Salir\n",
            "Elige una opción: 1\n",
            "\n",
            "Tareas pendientes:\n",
            "1 - Jugar\n",
            "\n",
            "\n",
            "1. Mostrar tareas\n",
            "2. Agregar tarea\n",
            "3. Eliminar tarea\n",
            "4. Salir\n",
            "Elige una opción: 6\n",
            "Opción no válida.\n",
            "\n",
            "1. Mostrar tareas\n",
            "2. Agregar tarea\n",
            "3. Eliminar tarea\n",
            "4. Salir\n",
            "Elige una opción: 4\n"
          ]
        }
      ]
    },
    {
      "cell_type": "markdown",
      "source": [
        "# **Función `lambda`**"
      ],
      "metadata": {
        "id": "FaLe9ufMM27D"
      }
    },
    {
      "cell_type": "markdown",
      "source": [
        "Una función lambda es:\n",
        "- **Anónima:** No necesita un nombre para ser definida. Sin embargo, se puede asignar a una variable si se desea.\n",
        "- **Simple:** Está diseñada para realizar tareas pequeñas y específicas.\n",
        "- Puede tener cualquier cantidad de argumentos, pero solo puede tener una expresión.\n",
        "- Retorna el resultado de evaluar la expresión."
      ],
      "metadata": {
        "id": "dWFzfqnCNl_7"
      }
    },
    {
      "cell_type": "markdown",
      "source": [
        "Su estructura básica es:\n",
        "`lambda argumentos: expresion`\n",
        "\n",
        "- `lambda`:Indica que estamos definiendo una función lambda.\n",
        "- `argumentos`: Son los parámetros que la función recibirá, similares a los parámetros de una función definida con def.\n",
        "- `expresion`: Es la operación que la función va a realizar y cuyo resultado será el valor retornado por la función lambda."
      ],
      "metadata": {
        "id": "nJFHSelbNArL"
      }
    },
    {
      "cell_type": "markdown",
      "source": [
        "## Ejemplo 1"
      ],
      "metadata": {
        "id": "RcSAaq2h2eGW"
      }
    },
    {
      "cell_type": "code",
      "source": [
        "# Forma que ya conociamos\n",
        "def sumar(x, y):\n",
        "  return x+y\n",
        "suma = sumar(5, 3)\n",
        "suma"
      ],
      "metadata": {
        "colab": {
          "base_uri": "https://localhost:8080/"
        },
        "id": "7NjxEHgYuCWZ",
        "outputId": "c4210926-f9bf-4578-9e34-24eba8b8252e"
      },
      "execution_count": 26,
      "outputs": [
        {
          "output_type": "execute_result",
          "data": {
            "text/plain": [
              "8"
            ]
          },
          "metadata": {},
          "execution_count": 26
        }
      ]
    },
    {
      "cell_type": "code",
      "source": [
        "# Usando lambda\n",
        "sumar = lambda x, y: x + y\n",
        "print(sumar(5, 3))"
      ],
      "metadata": {
        "colab": {
          "base_uri": "https://localhost:8080/"
        },
        "id": "JxLjaDbyN9w8",
        "outputId": "074420a5-66af-4dc3-b3ab-6ae44adfc2fa"
      },
      "execution_count": 27,
      "outputs": [
        {
          "output_type": "stream",
          "name": "stdout",
          "text": [
            "8\n"
          ]
        }
      ]
    },
    {
      "cell_type": "markdown",
      "source": [
        "## Ejemplo 2"
      ],
      "metadata": {
        "id": "w__k9Xp92hGV"
      }
    },
    {
      "cell_type": "code",
      "source": [
        "es_par = lambda x: x % 2 == 0"
      ],
      "metadata": {
        "id": "NWc3YuzHOCVK"
      },
      "execution_count": 28,
      "outputs": []
    },
    {
      "cell_type": "code",
      "source": [
        "print(es_par(4))\n",
        "print(es_par(5))"
      ],
      "metadata": {
        "colab": {
          "base_uri": "https://localhost:8080/"
        },
        "id": "yatePdbpvNkY",
        "outputId": "84f92028-1747-4440-dc11-90e7a7db2456"
      },
      "execution_count": 29,
      "outputs": [
        {
          "output_type": "stream",
          "name": "stdout",
          "text": [
            "True\n",
            "False\n"
          ]
        }
      ]
    },
    {
      "cell_type": "code",
      "source": [
        "num = int(input(\"Dame un número: \"))\n",
        "if es_par(num):\n",
        "  print(f\"El número {num} es par\")\n",
        "else:\n",
        "  print(f\"El número {num} no es par\")"
      ],
      "metadata": {
        "colab": {
          "base_uri": "https://localhost:8080/"
        },
        "id": "Tb5IfJvzu0o7",
        "outputId": "e7570764-b0b6-46ee-b2f1-458fa0fd8f76"
      },
      "execution_count": 31,
      "outputs": [
        {
          "output_type": "stream",
          "name": "stdout",
          "text": [
            "Dame un número: 9\n",
            "El número 9 no es par\n"
          ]
        }
      ]
    },
    {
      "cell_type": "markdown",
      "source": [
        "## Ejemplo 3"
      ],
      "metadata": {
        "id": "iJjtkM_J2kg1"
      }
    },
    {
      "cell_type": "code",
      "source": [
        "lista = [(1, 2), (3, 1), (5, 10)]   # Una lista compuesta por 3 tuplas\n",
        "\n",
        "\"\"\"\n",
        "La función sorted() se utiliza para ordenar la lista\n",
        "\n",
        "El parámetro key permite especificar un criterio de ordenación personalizado,\n",
        "en este caso, se usa la función lambda como criterio de ordenación.\n",
        "\n",
        "Esta función toma una tupla (representada por x)\n",
        "y devuelve su segundo elemento (representado por x[1])\n",
        "\n",
        "Dado eso, sorted() ordenará las tuplas en la lista según su segundo elemento.\n",
        "\"\"\"\n",
        "lista_ordenada = sorted(lista, key=lambda x: x[1])\n",
        "\n",
        "print(lista_ordenada)\n"
      ],
      "metadata": {
        "colab": {
          "base_uri": "https://localhost:8080/"
        },
        "id": "iVp5cNFBOGpb",
        "outputId": "b115cf46-6051-4c44-b735-63c372d786bb"
      },
      "execution_count": 32,
      "outputs": [
        {
          "output_type": "stream",
          "name": "stdout",
          "text": [
            "[(3, 1), (1, 2), (5, 10)]\n"
          ]
        }
      ]
    },
    {
      "cell_type": "markdown",
      "source": [
        "## Ejemplo 4"
      ],
      "metadata": {
        "id": "no0BM0dr2nwF"
      }
    },
    {
      "cell_type": "code",
      "source": [
        "# Definimos la ecuación f(x)\n",
        "f = lambda x: 2*x + 3"
      ],
      "metadata": {
        "id": "_Fy5_fCwxV2-"
      },
      "execution_count": null,
      "outputs": []
    },
    {
      "cell_type": "code",
      "source": [
        "# Evaluamos la ecuación f en x = 2\n",
        "f(2)"
      ],
      "metadata": {
        "colab": {
          "base_uri": "https://localhost:8080/"
        },
        "id": "QM62HsTHxWlH",
        "outputId": "93690ba0-687e-403f-9334-5422dcd4e025"
      },
      "execution_count": null,
      "outputs": [
        {
          "output_type": "execute_result",
          "data": {
            "text/plain": [
              "7"
            ]
          },
          "metadata": {},
          "execution_count": 6
        }
      ]
    },
    {
      "cell_type": "code",
      "source": [
        "def info_ecuacion_lineal(ec):\n",
        "    # f(x) = mx + b\n",
        "\n",
        "    m = ec(1) - ec(0)  # Calcula la pendiente usando f(1) - f(0)\n",
        "    b = ec(0)  # Calcula el punto de corte con el eje y usando f(0)\n",
        "\n",
        "    print(f\"Pendiente (m): {m}\")\n",
        "    print(f\"Punto de corte con el eje y (b): {b}\")"
      ],
      "metadata": {
        "id": "_-suGOe2SrbN"
      },
      "execution_count": null,
      "outputs": []
    },
    {
      "cell_type": "code",
      "source": [
        "info_ecuacion_lineal(f)"
      ],
      "metadata": {
        "id": "zdcRsSHmyRV0",
        "colab": {
          "base_uri": "https://localhost:8080/"
        },
        "outputId": "7037dc11-3290-4394-f779-096cafa6b758"
      },
      "execution_count": null,
      "outputs": [
        {
          "output_type": "stream",
          "name": "stdout",
          "text": [
            "Pendiente (m): 2\n",
            "Punto de corte con el eje y (b): 3\n"
          ]
        }
      ]
    }
  ]
}
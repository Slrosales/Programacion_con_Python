{
  "nbformat": 4,
  "nbformat_minor": 0,
  "metadata": {
    "colab": {
      "provenance": [],
      "collapsed_sections": [
        "FAmgblGFfTxX",
        "FyQItR1Le7Wx",
        "scrT7TQxizTJ",
        "I-3Qkm4mnLf5",
        "OvfK71U05YkB",
        "th-RzkZRheLs",
        "fhSPkkM8AMyC",
        "k4snHhTKh2rI",
        "B5LoDzhh7JGx",
        "nDrdfzdZ8wne",
        "EPo6kFU8z2Xo",
        "CbjKQhx8_rxi",
        "-HiYHBFOAI1B",
        "BAHsIj0MBvpg",
        "cpQpXJVDGa8q",
        "_y1-km7WAo03",
        "nhk4CM8KBLxC",
        "CEVGT6iklJ3W",
        "vqprqetAm4Qc",
        "MWtY1pg_q5Zx",
        "W68yBxpcthLF"
      ],
      "authorship_tag": "ABX9TyOrZ7DHD4wGEjy/cdIzblsT",
      "include_colab_link": true
    },
    "kernelspec": {
      "name": "python3",
      "display_name": "Python 3"
    },
    "language_info": {
      "name": "python"
    }
  },
  "cells": [
    {
      "cell_type": "markdown",
      "metadata": {
        "id": "view-in-github",
        "colab_type": "text"
      },
      "source": [
        "<a href=\"https://colab.research.google.com/github/Slrosales/Programacion_con_Python/blob/main/M%C3%B3dulo%201/4_Excepciones.ipynb\" target=\"_parent\"><img src=\"https://colab.research.google.com/assets/colab-badge.svg\" alt=\"Open In Colab\"/></a>"
      ]
    },
    {
      "cell_type": "markdown",
      "source": [
        "#  **Excepciones**"
      ],
      "metadata": {
        "id": "qdMvpamXdBBs"
      }
    },
    {
      "cell_type": "markdown",
      "source": [
        "Es un evento que ocurre durante la ejecución de un programa y que no interrumpe el flujo normal de instrucciones, este facilita la identificación de problemas y permite que el programa reaccione adecuadamente."
      ],
      "metadata": {
        "id": "eU6bA6PYdFe0"
      }
    },
    {
      "cell_type": "markdown",
      "source": [
        "Usos comunes:\n",
        "- Conexión a una base de datos, página web, etc...\n",
        "- Lectura/escritura de archivos\n",
        "- Operaciones matemáticas\n",
        "- Acceso a índices fuera de rango en listas\n",
        "\n",
        "etc."
      ],
      "metadata": {
        "id": "M9zaWrqwdY7a"
      }
    },
    {
      "cell_type": "markdown",
      "source": [
        "**Estructura básica**\n",
        "1. `try`\n",
        "\n",
        "  - Se coloca el código que podría causar una excepción.\n",
        "  - Es un bloque obligatorio en la estructura de manejo de excepciones.\n",
        "\n",
        "2. `except`\n",
        "\n",
        "  - Es un bloque obligatorio después de un try.\n",
        "  - Este bloque se ejecuta cuando se produce una excepción en el bloque try.\n",
        "  - Se puede especificar qué tipo de excepción quieres manejar.\n",
        "  - Pueden ser múltiples bloques except para manejar diferentes excepciones.\n",
        "\n",
        "\n",
        "3. `else`\n",
        "\n",
        "  - Es opcional.\n",
        "  - Se ejecuta si no ocurre ninguna excepción en el bloque try.\n",
        "\n",
        "4. `finally`\n",
        "  - Es opcional.\n",
        "  - Se ejecuta independientemente de si ocurrió o no una excepción.\n",
        "  - Es útil para tareas de limpieza, como cerrar archivos o liberar recursos.\n",
        "\n",
        "\n",
        "  Más información: [8. Errores y excepciones python.org](https://docs.python.org/es/3/tutorial/errors.html)\n"
      ],
      "metadata": {
        "id": "XIsuhRX1e9bS"
      }
    },
    {
      "cell_type": "markdown",
      "source": [
        "## Ejemplo 1"
      ],
      "metadata": {
        "id": "marowZRCfsAK"
      }
    },
    {
      "cell_type": "code",
      "source": [
        "print(x)"
      ],
      "metadata": {
        "colab": {
          "base_uri": "https://localhost:8080/",
          "height": 144
        },
        "id": "fo_oswsVjYug",
        "outputId": "37d48ed0-e237-4167-8a26-2d3b456a97fd"
      },
      "execution_count": 1,
      "outputs": [
        {
          "output_type": "error",
          "ename": "NameError",
          "evalue": "name 'x' is not defined",
          "traceback": [
            "\u001b[0;31m---------------------------------------------------------------------------\u001b[0m",
            "\u001b[0;31mNameError\u001b[0m                                 Traceback (most recent call last)",
            "\u001b[0;32m<ipython-input-1-fc17d851ef81>\u001b[0m in \u001b[0;36m<cell line: 0>\u001b[0;34m()\u001b[0m\n\u001b[0;32m----> 1\u001b[0;31m \u001b[0mprint\u001b[0m\u001b[0;34m(\u001b[0m\u001b[0mx\u001b[0m\u001b[0;34m)\u001b[0m\u001b[0;34m\u001b[0m\u001b[0;34m\u001b[0m\u001b[0m\n\u001b[0m",
            "\u001b[0;31mNameError\u001b[0m: name 'x' is not defined"
          ]
        }
      ]
    },
    {
      "cell_type": "code",
      "source": [
        "try:\n",
        "  print(x)\n",
        "except:\n",
        "  print(\"x no esta definido, dale un valor\")\n",
        "  x = int(input())\n",
        "  print(f\"x es {x}\")\n",
        "finally:\n",
        "  print(f\"{x}*2 es {x*2}\")"
      ],
      "metadata": {
        "colab": {
          "base_uri": "https://localhost:8080/"
        },
        "id": "Ytmq9vjXjeWC",
        "outputId": "3b8a09db-6104-4dee-ddff-30c85d5e0a49"
      },
      "execution_count": null,
      "outputs": [
        {
          "output_type": "stream",
          "name": "stdout",
          "text": [
            "x no esta definido, dale un valor\n",
            "5\n",
            "x es 5\n",
            "5*2 es 10\n"
          ]
        }
      ]
    },
    {
      "cell_type": "code",
      "source": [
        "x = 5\n",
        "try:\n",
        "  print(x)\n",
        "except:\n",
        "  print(\"x no esta definido, dale un valor\")\n",
        "  x = int(input())\n",
        "  print(f\"x es {x}\")\n",
        "finally:\n",
        "  print(f\"{x}*2 es {x*2}\")"
      ],
      "metadata": {
        "colab": {
          "base_uri": "https://localhost:8080/"
        },
        "id": "SF1OIK37k4Vz",
        "outputId": "3aadebe1-0f53-4bc2-8543-ec423b0b3ee5"
      },
      "execution_count": null,
      "outputs": [
        {
          "output_type": "stream",
          "name": "stdout",
          "text": [
            "5\n",
            "5*2 es 10\n"
          ]
        }
      ]
    },
    {
      "cell_type": "markdown",
      "source": [
        "## Ejemplo 2"
      ],
      "metadata": {
        "id": "fjTZXJdslRAM"
      }
    },
    {
      "cell_type": "code",
      "source": [
        "# Capturar y mostrar información de la excepción\n",
        "try:\n",
        "  x = 5 / 0\n",
        "except Exception as e:\n",
        "  print(f\"Ocurrió un error: {e}\")\n"
      ],
      "metadata": {
        "colab": {
          "base_uri": "https://localhost:8080/"
        },
        "id": "rux_0aFugLro",
        "outputId": "98f5bc2a-e8cb-4444-834a-18f027dbd807"
      },
      "execution_count": null,
      "outputs": [
        {
          "output_type": "stream",
          "name": "stdout",
          "text": [
            "Ocurrió un error: division by zero\n"
          ]
        }
      ]
    },
    {
      "cell_type": "code",
      "source": [
        "try:\n",
        "  print(x)\n",
        "  print(y)\n",
        "\n",
        "  print(x) # Lanza el error, entonces no alcanza a imprimir esta línea\n",
        "except Exception as error:\n",
        "  print(f\"Ocurrió un error: {error}\")"
      ],
      "metadata": {
        "colab": {
          "base_uri": "https://localhost:8080/"
        },
        "id": "X3WtZ_zxle3s",
        "outputId": "f3dfd997-0bff-4be3-cdfb-8df063ae5ad5"
      },
      "execution_count": null,
      "outputs": [
        {
          "output_type": "stream",
          "name": "stdout",
          "text": [
            "5\n",
            "Ocurrió un error: name 'y' is not defined\n"
          ]
        }
      ]
    },
    {
      "cell_type": "markdown",
      "source": [
        "## Ejemplo 3"
      ],
      "metadata": {
        "id": "wI4bYzutnIFq"
      }
    },
    {
      "cell_type": "code",
      "source": [
        "# División por cero y manejo de input inválido:\n",
        "def division():\n",
        "  try:\n",
        "    num = int(input(\"Introduce un número para dividir 100: \"))\n",
        "    resultado = 100 / num\n",
        "  except ZeroDivisionError: # Si ingresa 0\n",
        "      print(\"No se puede dividir por cero\")\n",
        "  except ValueError:  # Si ingresa cualquiera otra cosa que no es un número\n",
        "      print(\"Debes ingresar un número válido\")\n",
        "  else: # Si no hay error, se ejecuta\n",
        "      print(f\"100 dividido por {num} es {resultado}\")\n",
        "  finally:\n",
        "      print(\"Operación finalizada.\")\n",
        "\n"
      ],
      "metadata": {
        "id": "jmDxw5kgdiuE"
      },
      "execution_count": null,
      "outputs": []
    },
    {
      "cell_type": "code",
      "source": [
        "division()"
      ],
      "metadata": {
        "colab": {
          "base_uri": "https://localhost:8080/"
        },
        "id": "3OwFjFSRn1kD",
        "outputId": "f3aa91e5-febb-4af5-94db-ae4b7955e552"
      },
      "execution_count": null,
      "outputs": [
        {
          "output_type": "stream",
          "name": "stdout",
          "text": [
            "Introduce un número para dividir 100: 0\n",
            "No se puede dividir por cero\n",
            "Operación finalizada.\n"
          ]
        }
      ]
    },
    {
      "cell_type": "code",
      "source": [
        "division()"
      ],
      "metadata": {
        "colab": {
          "base_uri": "https://localhost:8080/"
        },
        "id": "i2gc69GjoQvI",
        "outputId": "89fe55dd-5b6e-4273-c39f-2f1d99bf524b"
      },
      "execution_count": null,
      "outputs": [
        {
          "output_type": "stream",
          "name": "stdout",
          "text": [
            "Introduce un número para dividir 100: 10\n",
            "100 dividido por 10 es 10.0\n",
            "Operación finalizada.\n"
          ]
        }
      ]
    },
    {
      "cell_type": "code",
      "source": [
        "division()"
      ],
      "metadata": {
        "colab": {
          "base_uri": "https://localhost:8080/"
        },
        "id": "n1u1e53hon1V",
        "outputId": "dfe2ddfe-91fd-4f85-f835-736ae9ba9a1d"
      },
      "execution_count": null,
      "outputs": [
        {
          "output_type": "stream",
          "name": "stdout",
          "text": [
            "Introduce un número para dividir 100: 6\n",
            "100 dividido por 6 es 16.666666666666668\n",
            "Operación finalizada.\n"
          ]
        }
      ]
    },
    {
      "cell_type": "markdown",
      "source": [
        "## Ejemplo 4"
      ],
      "metadata": {
        "id": "FNyjir4aow5g"
      }
    },
    {
      "cell_type": "code",
      "source": [
        "# Acceder a una posición inválida en una lista\n",
        "lista = [1, 2, 3]\n",
        "try:\n",
        "  pos = int(input(\"Introduce un índice para acceder a la lista: \"))\n",
        "  print(lista[pos])\n",
        "except IndexError:\n",
        "  print(\"Índice fuera de rango.\")\n",
        "except ValueError:\n",
        "  print(\"El índice debe ser un número entero.\")\n",
        "else:\n",
        "  print(\"Acceso a la lista exitoso.\")\n",
        "finally:\n",
        "  print(\"Operación con la lista finalizada.\")\n"
      ],
      "metadata": {
        "colab": {
          "base_uri": "https://localhost:8080/"
        },
        "id": "1z-sCc_mf42g",
        "outputId": "23071b21-04a7-4a56-b9c9-8d8d1018ec19"
      },
      "execution_count": null,
      "outputs": [
        {
          "output_type": "stream",
          "name": "stdout",
          "text": [
            "Introduce un índice para acceder a la lista: 6\n",
            "Índice fuera de rango.\n",
            "Operación con la lista finalizada.\n"
          ]
        }
      ]
    },
    {
      "cell_type": "markdown",
      "source": [
        "## Ejemplo 5"
      ],
      "metadata": {
        "id": "wWvjvO1JqCVh"
      }
    },
    {
      "cell_type": "code",
      "source": [
        "# Manejo de archivos\n",
        "try:\n",
        "  with open(\"archivo_no_existente.txt\", \"r\") as f:\n",
        "    contenido = f.read()\n",
        "except FileNotFoundError:\n",
        "  print(\"El archivo no fue encontrado.\")\n",
        "else:\n",
        "  print(contenido)\n",
        "finally:\n",
        "  print(\"Operación con el archivo finalizada.\")\n"
      ],
      "metadata": {
        "colab": {
          "base_uri": "https://localhost:8080/"
        },
        "id": "hpuL43nXgFvY",
        "outputId": "dca83743-864d-48af-dad8-32283ce01e8a"
      },
      "execution_count": null,
      "outputs": [
        {
          "output_type": "stream",
          "name": "stdout",
          "text": [
            "El archivo no fue encontrado.\n",
            "Operación con el archivo finalizada.\n"
          ]
        }
      ]
    }
  ]
}
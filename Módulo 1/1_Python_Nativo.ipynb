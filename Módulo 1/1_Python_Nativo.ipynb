{
  "nbformat": 4,
  "nbformat_minor": 0,
  "metadata": {
    "colab": {
      "provenance": [],
      "collapsed_sections": [
        "FAmgblGFfTxX",
        "FyQItR1Le7Wx",
        "scrT7TQxizTJ",
        "I-3Qkm4mnLf5",
        "OvfK71U05YkB",
        "th-RzkZRheLs",
        "fhSPkkM8AMyC",
        "k4snHhTKh2rI",
        "B5LoDzhh7JGx",
        "nDrdfzdZ8wne",
        "EPo6kFU8z2Xo",
        "CbjKQhx8_rxi",
        "-HiYHBFOAI1B",
        "BAHsIj0MBvpg",
        "cpQpXJVDGa8q",
        "_y1-km7WAo03",
        "nhk4CM8KBLxC",
        "CEVGT6iklJ3W",
        "vqprqetAm4Qc",
        "MWtY1pg_q5Zx",
        "W68yBxpcthLF"
      ],
      "authorship_tag": "ABX9TyP9thyBZg0WfmBD3IWPbY3i",
      "include_colab_link": true
    },
    "kernelspec": {
      "name": "python3",
      "display_name": "Python 3"
    },
    "language_info": {
      "name": "python"
    }
  },
  "cells": [
    {
      "cell_type": "markdown",
      "metadata": {
        "id": "view-in-github",
        "colab_type": "text"
      },
      "source": [
        "<a href=\"https://colab.research.google.com/github/Slrosales/Programacion_con_Python/blob/main/M%C3%B3dulo%201/1_Python_Nativo.ipynb\" target=\"_parent\"><img src=\"https://colab.research.google.com/assets/colab-badge.svg\" alt=\"Open In Colab\"/></a>"
      ]
    },
    {
      "cell_type": "markdown",
      "source": [
        "## Tipos de comentarios"
      ],
      "metadata": {
        "id": "FyQItR1Le7Wx"
      }
    },
    {
      "cell_type": "markdown",
      "source": [
        "Los comentarios se utilizan para agregar notas explicativas al código, estos son ignorados por el interprete"
      ],
      "metadata": {
        "id": "C17lKGClFp9U"
      }
    },
    {
      "cell_type": "code",
      "execution_count": null,
      "metadata": {
        "id": "ixIYVhnlenZm",
        "outputId": "23895282-ec60-4107-fa99-2aad749858a3",
        "colab": {
          "base_uri": "https://localhost:8080/"
        }
      },
      "outputs": [
        {
          "output_type": "execute_result",
          "data": {
            "text/plain": [
              "'\\nComentario\\nen\\nbloque\\n'"
            ],
            "application/vnd.google.colaboratory.intrinsic+json": {
              "type": "string"
            }
          },
          "metadata": {},
          "execution_count": 18
        }
      ],
      "source": [
        "# Comentario en una linea\n",
        "\n",
        "\"\"\"\n",
        "Comentario\n",
        "en\n",
        "bloque\n",
        "\"\"\""
      ]
    },
    {
      "cell_type": "markdown",
      "source": [
        "## Tipos de datos en Python"
      ],
      "metadata": {
        "id": "scrT7TQxizTJ"
      }
    },
    {
      "cell_type": "markdown",
      "source": [
        "Declaramos variables usando el `=`. A la izquierda siempre debe estar el nombre de la variable"
      ],
      "metadata": {
        "id": "t81moyAYFuW7"
      }
    },
    {
      "cell_type": "code",
      "source": [
        "numero_entero = 5   # int\n",
        "numero_decimal = 3.14   # float\n",
        "\n",
        "caracter = 'c' # char\n",
        "cadena = \"Hola mundo\"   # str\n",
        "\n",
        "# bool\n",
        "verdadero = True\n",
        "falso = False\n",
        "\n",
        "# list\n",
        "lista_numeros = [1, 2, 2, 3, 4, 5]\n",
        "lista_nombres = [\"Luna\", \"Giuseppe\", \"Laura\", \"Rubens\"]\n",
        "lista_multi = [1, \"hola\", 2.5]\n",
        "\n",
        "# set (no permite datos duplicados)\n",
        "conjunto_numeros = {1, 2, 3, 3}\n",
        "\n",
        "# tupla (no es mutable)\n",
        "tupla_colores = (\"rojo\", \"verde\", \"azul\", \"Rosado\")\n",
        "\n",
        "# Diccionario (clave-valor)\n",
        "diccionario_edades = {\"Luna\": 25, \"Giuseppe\": 5, \"Laura\": 20}"
      ],
      "metadata": {
        "id": "FxXO0CRojElw"
      },
      "execution_count": null,
      "outputs": []
    },
    {
      "cell_type": "markdown",
      "source": [
        "## Función `print()`\n",
        "\n"
      ],
      "metadata": {
        "id": "I-3Qkm4mnLf5"
      }
    },
    {
      "cell_type": "markdown",
      "source": [
        "Es una función que escribe en pantalla las variables que recibe.\n",
        "Los caracteres entre comillas dobles o simples se toman como literales (strings) y puede recibir múltiples variables, siempre separadas por comas"
      ],
      "metadata": {
        "id": "rcZtXweWF1RT"
      }
    },
    {
      "cell_type": "code",
      "source": [
        "print(numero_decimal)\n",
        "print(verdadero, falso)\n",
        "print(\"Los elementos en mi lista de números son: \", lista_numeros)\n"
      ],
      "metadata": {
        "colab": {
          "base_uri": "https://localhost:8080/"
        },
        "id": "1HjILgUPnTWq",
        "outputId": "e10524d5-a5e6-4713-b76d-f589670b985a"
      },
      "execution_count": null,
      "outputs": [
        {
          "output_type": "stream",
          "name": "stdout",
          "text": [
            "3.14\n",
            "True False\n",
            "Los elementos en mi lista de números son:  [1, 2, 2, 3, 4, 5]\n"
          ]
        }
      ]
    },
    {
      "cell_type": "markdown",
      "source": [
        "Otra forma para imprimir datos por pantalla es usar **f-string**, lo cual es una cadena de formato, lo que este entre llaves será evaluado y remplazado por su valor correspondiente\n",
        "\n",
        "\n",
        "\n",
        "\n"
      ],
      "metadata": {
        "id": "b7lj53LqoOc7"
      }
    },
    {
      "cell_type": "code",
      "source": [
        "x = 10\n",
        "print(f\"Ayer programé {x} horas\")"
      ],
      "metadata": {
        "colab": {
          "base_uri": "https://localhost:8080/"
        },
        "id": "zJO-jzxxo9_K",
        "outputId": "2fc5c795-586e-4ce0-a6ac-37e3137c61c8"
      },
      "execution_count": null,
      "outputs": [
        {
          "output_type": "stream",
          "name": "stdout",
          "text": [
            "Ayer programé 10 horas con un promedio de 3.14, yo sé que esto es True\n"
          ]
        }
      ]
    },
    {
      "cell_type": "markdown",
      "source": [
        "## Función `input()`\n",
        "\n",
        "\n"
      ],
      "metadata": {
        "id": "OvfK71U05YkB"
      }
    },
    {
      "cell_type": "markdown",
      "source": [
        "Es una función que permite interactuar con el usuario y solicitar datos.\n",
        "Cuando se llama a la función `input()`, el programa se detiene y espera a que el usuario ingrese lo solicitado. Al presionar la tecla \"Enter\", el texto ingresado por el usuario se captura como un string y puede ser asignado a una variable para su posterior procesamiento."
      ],
      "metadata": {
        "id": "rVe2DqCUF6TD"
      }
    },
    {
      "cell_type": "code",
      "source": [
        "x = input()\n",
        "print(x)\n",
        "print(type(x)) # type() dice el tipo de variable"
      ],
      "metadata": {
        "colab": {
          "base_uri": "https://localhost:8080/"
        },
        "id": "-LghVcOx6w3P",
        "outputId": "1e7178d1-659e-4997-9ae5-cd29f76b37b3"
      },
      "execution_count": null,
      "outputs": [
        {
          "output_type": "stream",
          "name": "stdout",
          "text": [
            "1\n",
            "1\n",
            "<class 'str'>\n"
          ]
        }
      ]
    },
    {
      "cell_type": "code",
      "source": [
        "y = int(input(\"Ingresa un número entero: \")) # int(input()) convierte el str ingresado a int\n",
        "print(y)\n",
        "print(type(y))"
      ],
      "metadata": {
        "colab": {
          "base_uri": "https://localhost:8080/"
        },
        "id": "oPZ-kRf57uWm",
        "outputId": "81e14577-e62b-46d6-a2e2-28776464d5ae"
      },
      "execution_count": null,
      "outputs": [
        {
          "output_type": "stream",
          "name": "stdout",
          "text": [
            "Ingresa un número entero: 10\n",
            "10\n",
            "<class 'int'>\n"
          ]
        }
      ]
    },
    {
      "cell_type": "code",
      "source": [
        "y = float(input(\"Ingresa un número entero: \")) # int(input()) convierte el str ingresado a int\n",
        "print(y)\n",
        "print(type(y))"
      ],
      "metadata": {
        "colab": {
          "base_uri": "https://localhost:8080/"
        },
        "id": "uGZf7bV2zz_8",
        "outputId": "8aa757d6-aa95-4879-f2c0-9433c79ebc97"
      },
      "execution_count": null,
      "outputs": [
        {
          "output_type": "stream",
          "name": "stdout",
          "text": [
            "Ingresa un número entero: 15\n",
            "15.0\n",
            "<class 'float'>\n"
          ]
        }
      ]
    },
    {
      "cell_type": "markdown",
      "source": [
        "## Aritmética básica"
      ],
      "metadata": {
        "id": "th-RzkZRheLs"
      }
    },
    {
      "cell_type": "code",
      "source": [
        "a, b = 2 , 10\n",
        "\n",
        "print(\"Sumar a+b:\", a+b)\n",
        "print(\"Restar a-b:\", a-b)\n",
        "print(\"Multiplicar a*b:\", a*b)\n",
        "print(\"Dividir b/a:\", b/a)\n",
        "print(\"División entera b//a:\", b//a)\n",
        "print(\"Resto de división (modulo) b%a:\", b%a)\n",
        "print(\"Potenciación b**a (b^a): \", b**a)"
      ],
      "metadata": {
        "colab": {
          "base_uri": "https://localhost:8080/"
        },
        "id": "zuXoH6Uphiu7",
        "outputId": "bdbe218e-3636-4dc8-9f81-80f0759d0a56"
      },
      "execution_count": null,
      "outputs": [
        {
          "output_type": "stream",
          "name": "stdout",
          "text": [
            "Sumar a+b: 4.0\n",
            "Restar a-b: 1.0\n",
            "Multiplicar a*b: 3.75\n",
            "Dividir b/a: 0.6\n",
            "División entera b//a: 0.0\n",
            "Resto de división (modulo) b%a: 1.5\n",
            "Potenciación b**a (b^a):  2.7556759606310752\n"
          ]
        }
      ]
    },
    {
      "cell_type": "markdown",
      "source": [
        "Otro ejemplo"
      ],
      "metadata": {
        "id": "w-EA9Or-3JWY"
      }
    },
    {
      "cell_type": "code",
      "source": [
        "a, b = 2.5 , 10\n",
        "x = b//a  # int//float\n",
        "print(type(x))  # resultado en float\n",
        "x"
      ],
      "metadata": {
        "colab": {
          "base_uri": "https://localhost:8080/"
        },
        "id": "jMp6l9SKz4R0",
        "outputId": "8b606140-8630-4f6c-d0dd-93cdbc2fc273"
      },
      "execution_count": null,
      "outputs": [
        {
          "output_type": "stream",
          "name": "stdout",
          "text": [
            "<class 'float'>\n"
          ]
        },
        {
          "output_type": "execute_result",
          "data": {
            "text/plain": [
              "4.0"
            ]
          },
          "metadata": {},
          "execution_count": 10
        }
      ]
    },
    {
      "cell_type": "code",
      "source": [
        "x = int(x) # convertimos x a int\n",
        "print(type(x))\n",
        "x"
      ],
      "metadata": {
        "colab": {
          "base_uri": "https://localhost:8080/"
        },
        "id": "_HI2Gkd00B8K",
        "outputId": "87c4c25a-9c78-4b94-cdfd-5a212abf4e4d"
      },
      "execution_count": null,
      "outputs": [
        {
          "output_type": "stream",
          "name": "stdout",
          "text": [
            "<class 'int'>\n"
          ]
        },
        {
          "output_type": "execute_result",
          "data": {
            "text/plain": [
              "4"
            ]
          },
          "metadata": {},
          "execution_count": 11
        }
      ]
    },
    {
      "cell_type": "markdown",
      "source": [
        "## Operadores"
      ],
      "metadata": {
        "id": "fhSPkkM8AMyC"
      }
    },
    {
      "cell_type": "markdown",
      "source": [
        "### Operadores de comparación\n"
      ],
      "metadata": {
        "id": "k4snHhTKh2rI"
      }
    },
    {
      "cell_type": "markdown",
      "source": [
        "Op. | Descripción\n",
        "--- | ---\n",
        "`==` | `True` si son iguales\n",
        "`!=` | `True` si son distintos\n",
        "`>` | `True` si la izquierda es mayor a la derecha\n",
        "`<` | `True` si la izquierda es menor a la derecha\n",
        "`>=` | `True` si la izquierda es mayor o igual a la derecha\n",
        "`<=` | `True` si la izquierda es menor o igual a la derecha\n",
        "\n",
        "\n",
        "`True` y `False` son dato tipo boleano.\n",
        "`False` también puede definirse cómo `not True` (el `not` es el operador _negación_)."
      ],
      "metadata": {
        "id": "roarKc_7GAnL"
      }
    },
    {
      "cell_type": "code",
      "source": [
        "a = 10\n",
        "b = 15\n",
        "print(\"Comparo a>b:\", a>b)\n",
        "print(\"Comparo a==b:\", a==b)\n",
        "\n",
        "print(\"Comparo a!=b:\", a!=b)\n",
        "print(\"Comparo a<=b:\", a<=b)"
      ],
      "metadata": {
        "colab": {
          "base_uri": "https://localhost:8080/"
        },
        "id": "nQDirZxdmmJx",
        "outputId": "7937fbaf-1ede-4eae-b223-36c2f07c1d90"
      },
      "execution_count": null,
      "outputs": [
        {
          "output_type": "stream",
          "name": "stdout",
          "text": [
            "Comparo a>b: False\n",
            "Comparo a==b: False\n",
            "Comparo a!=b: True\n",
            "Comparo a<=b: True\n"
          ]
        }
      ]
    },
    {
      "cell_type": "markdown",
      "source": [
        "### Operadores bitwise\n"
      ],
      "metadata": {
        "id": "B5LoDzhh7JGx"
      }
    },
    {
      "cell_type": "markdown",
      "source": [
        "Permiten realizar operaciones en los bits individuales de los números enteros. Estos operadores actúan directamente en la representación binaria de los números y se utilizan para realizar manipulaciones precisas de bits en un nivel más bajo.\n",
        "\n",
        "| Operador           | |Descripción                               |\n",
        "|--------------------|-|------------------------------------------|\n",
        "| `&`                | AND| Pone cada bit a 1 si ambos bits son 1                    |\n",
        "| `\\|`               | OR |Pone cada bit a 1 si uno de los dos bits es 1                    |\n",
        "| `^`                | XOR |Pone cada bit a 1 si sólo uno de los dos bits es 1                    |\n",
        "| `~`                | NOT |inversión de bits                     |\n",
        "| `<<`               | |Desplazamiento a la izquierda             |\n",
        "| `>>`               | |Desplazamiento a la derecha               |\n",
        "\n"
      ],
      "metadata": {
        "id": "C5GL6kHEGG0r"
      }
    },
    {
      "cell_type": "code",
      "source": [
        "a = 5  # Representación binaria: 0101\n",
        "b = 3  # Representación binaria: 0011\n",
        "\n",
        "c = a & b  # 0101 & 0011 = 0001 (1 en decimal)\n",
        "print(\"AND\", c)\n",
        "\n",
        "c = a | b  # 0101 | 0011 = 0111 (7 en decimal)\n",
        "print(\"OR\", c)\n",
        "\n",
        "c = a ^ b  # 0101 ^ 0011 = 0110 (6 en decimal)\n",
        "print(\"XOR\", c)\n",
        "\n",
        "c = ~a  # ~0101 = 1010 (-6 en decimal)\n",
        "print(\"NOT\", c)\n",
        "\n",
        "c = a << 2  # Desplaza 2 bits a la izquierda: 010100 (20 en decimal)\n",
        "print(\"<<\", c)\n",
        "\n",
        "c = a >> 2  # Desplaza 2 bits a la derecha: 000101 (5 en decimal)\n",
        "print(\">>\", c)"
      ],
      "metadata": {
        "colab": {
          "base_uri": "https://localhost:8080/"
        },
        "id": "hXge1Iss8-Xe",
        "outputId": "ee965625-20a8-4f43-e26b-df83f2bae94b"
      },
      "execution_count": null,
      "outputs": [
        {
          "output_type": "stream",
          "name": "stdout",
          "text": [
            "AND 1\n",
            "OR 7\n",
            "XOR 6\n",
            "NOT -6\n",
            "<< 20\n",
            ">> 1\n"
          ]
        }
      ]
    },
    {
      "cell_type": "markdown",
      "source": [
        "### Operadores Lógicos\n"
      ],
      "metadata": {
        "id": "nDrdfzdZ8wne"
      }
    },
    {
      "cell_type": "markdown",
      "source": [
        "Se utilizan para realizar operaciones de lógica booleana en valores booleanos o expresiones que se evalúan como verdaderas (`True`) o falsas (`False`). Estos operadores permiten combinar, comparar y evaluar condiciones lógicas en un programa.\n",
        "\n",
        "| Operador | Descripción                                   |\n",
        "|----------|-----------------------------------------------|\n",
        "| `and`    | Retorna `True` si ambas condiciones son `True`.   |\n",
        "| `or`     | Retorna `True` si al menos una condición es `True`. |\n",
        "| `not`    | Invierte el valor de una condición.              |\n",
        "\n",
        "\n",
        "Se utilizan comúnmente para controlar el flujo del programa mediante estructuras condicionales (if, elif, else) y para combinar múltiples condiciones para tomar decisiones basadas en la lógica booleana."
      ],
      "metadata": {
        "id": "wO_syiRJGKG0"
      }
    },
    {
      "cell_type": "code",
      "source": [
        "a = True\n",
        "b = False\n",
        "\n",
        "print(\"a and b: \", a and b)\n",
        "print(\"a or b:\", a or b )\n",
        "print(\"not a: \", not a )"
      ],
      "metadata": {
        "colab": {
          "base_uri": "https://localhost:8080/"
        },
        "id": "R39-KanpCyJg",
        "outputId": "aa4492e6-9eb9-4395-ced0-f20063fe1121"
      },
      "execution_count": null,
      "outputs": [
        {
          "output_type": "stream",
          "name": "stdout",
          "text": [
            "a and b:  False\n",
            "a or b: True\n",
            "not a:  False\n"
          ]
        }
      ]
    },
    {
      "cell_type": "code",
      "source": [
        "# Ejemplo\n",
        "a, b, c, d = 3, 2, 3, 6\n",
        "not((b*a)==d or (((a+b) > (c+d)) and (((c-a)*b) < ((b+3)/3))))\n",
        "not((2*3)==6 or (((3+2) > (3+6)) and (((3-3)*2) < ((2+3)/3))))\n",
        "not((2*3)==6 or (((3+2) > (3+6)) and (((3-3)*2) < (5/3))))\n",
        "not((2*3)==6 or (((3+2) > (3+6)) and (((3-3)*2) < 1.6)))\n",
        "not((2*3)==6 or (((3+2) > (3+6)) and ((0*2) < 1.6)))\n",
        "not((2*3)==6 or (((3+2) > (3+6)) and (0 < 1.6)))\n",
        "not((2*3)==6 or ((5 > 9) and (0 < 1.6)))\n",
        "not((2*3)==6 or (False and True))\n",
        "not(6==6 or False)\n",
        "not(True or False)\n",
        "not True"
      ],
      "metadata": {
        "id": "WiwZ9gVOFFBo",
        "outputId": "8657d6a6-1a34-479d-bb99-b74b1d99e0ea",
        "colab": {
          "base_uri": "https://localhost:8080/"
        }
      },
      "execution_count": null,
      "outputs": [
        {
          "output_type": "execute_result",
          "data": {
            "text/plain": [
              "False"
            ]
          },
          "metadata": {},
          "execution_count": 1
        }
      ]
    },
    {
      "cell_type": "code",
      "source": [
        "a, b, c, d, e = 5, 2, 3, 1, 4\n",
        "((c+d*e) == (c*(d-a)+a) and not (e+b/b != b+c or (e+a > d-b)) and 4 != (d-a))\n",
        "((3+1*4) == (3*(1-5)+5) and not (4+2/2 != 2+3 or (4+5 > 1-2)) and 4 !=  (1-5))\n",
        "((3+1*4) == (3*(-4)+5) and not (4+2/2 != 2+3 or (9 > (-1))) and 4 !=  (1-5))\n",
        "((3+1*4) == (3*(-4)+5) and not (4+2/2 != 2+3 or True) and 4 !=  (1-5))\n",
        "(7 == (-7) and not (5 != 5 or True) and 4 != (-4))\n",
        "(7 == (-7) and not (False or True) and 4 != (-4))\n",
        "(7 == (-7) and not True and 4 != (-4))\n",
        "(False and not True and 4 != (-4))\n",
        "(False and (4 != -4))\n",
        "False and False\n",
        "False"
      ],
      "metadata": {
        "id": "wYtaOdwnEY8N"
      },
      "execution_count": null,
      "outputs": []
    },
    {
      "cell_type": "markdown",
      "source": [
        "## Condicionales\n"
      ],
      "metadata": {
        "id": "EPo6kFU8z2Xo"
      }
    },
    {
      "cell_type": "markdown",
      "source": [
        "Un condicional es una estructura de programación que permite tomar decisiones basadas en una o varias condiciones como resultado de una expresión booleana (verdadera o falsa)\n",
        "\n",
        "\n",
        "\n",
        "`if` Se usa para evaluar una condición y ejecutar un bloque de código si esa condición es verdadera. Es la parte principal de una estructura condicional.\n",
        "\n",
        "`else` Se usa junto con `if` para proporcionar un bloque de código que se ejecutará si la condición del `if` es falsa\n",
        "\n",
        "`elif` (else-if) Se usa para evaluar múltiples condiciones en secuencia. Si la condición del `if` no es verdadera, se verifica la siguiente condición lo es\n",
        "\n"
      ],
      "metadata": {
        "id": "7uttDmD80OqP"
      }
    },
    {
      "cell_type": "code",
      "source": [
        "# Comparación de dos números\n",
        "a, b = 2, 6.5\n",
        "\n",
        "if a > b:\n",
        "  print(\"a es mayor a b\")\n",
        "\n",
        "if a < b:\n",
        "  print(\"a es menor a b\")\n",
        "\n",
        "if a == b:\n",
        "  print(\"a y b son iguales\")"
      ],
      "metadata": {
        "colab": {
          "base_uri": "https://localhost:8080/"
        },
        "id": "qS_a5Kf14DDr",
        "outputId": "a9e895f7-e870-49cb-df47-6383e17face7"
      },
      "execution_count": null,
      "outputs": [
        {
          "output_type": "stream",
          "name": "stdout",
          "text": [
            "a es menor a b\n"
          ]
        }
      ]
    },
    {
      "cell_type": "code",
      "source": [
        "# Estructura simplificada\n",
        "\n",
        "if a > b:\n",
        "  print(\"a es mayor b\")\n",
        "elif a < b:\n",
        "  print(\"a es menor b\")\n",
        "else:\n",
        "  print(\"a y b son iguales\")"
      ],
      "metadata": {
        "colab": {
          "base_uri": "https://localhost:8080/"
        },
        "id": "XNQx4YmI4hvS",
        "outputId": "a75b9bfa-f1c8-450b-b506-38413ea86c38"
      },
      "execution_count": null,
      "outputs": [
        {
          "output_type": "stream",
          "name": "stdout",
          "text": [
            "a es menor b\n"
          ]
        }
      ]
    },
    {
      "cell_type": "code",
      "source": [
        "colores = [\"rojo\", \"verde\", \"azul\"]\n",
        "\n",
        "print(\"¿Quieres imnprimir la lista de colores?\")\n",
        "# Menú de opciones\n",
        "print(\"1. Si \\n2. No\") # \\n genera un salto de línea\n",
        "x = int(input())\n",
        "\n",
        "if x == 1:\n",
        "  y = True\n",
        "elif x == 2:\n",
        "  y = False\n",
        "else:\n",
        "  print(\"Valor ingresado inválido\")\n",
        "\n",
        "if y == True:\n",
        "  print(colores)"
      ],
      "metadata": {
        "colab": {
          "base_uri": "https://localhost:8080/"
        },
        "id": "g0M6LwkI8mTO",
        "outputId": "a4b78d65-4b20-4e75-8f52-216f49af1e59"
      },
      "execution_count": null,
      "outputs": [
        {
          "name": "stdout",
          "output_type": "stream",
          "text": [
            "¿Quieres imnprimir la lista de colores?\n",
            "1. Si \n",
            "2. No\n",
            "2\n"
          ]
        }
      ]
    },
    {
      "cell_type": "code",
      "source": [
        "estudiante = True\n",
        "aprobar = True\n",
        "\n",
        "if estudiante and aprobar:\n",
        "    print(\"El estudiante aprobó\")\n",
        "elif estudiante and not aprobar:\n",
        "    print(\"El estudiante no aprobó\")\n",
        "elif not estudiante and aprobar:\n",
        "    print(\"Aprobó pero no es estudiante.\")\n",
        "else:\n",
        "    print(\"No es estudiante y no aprobó\")\n"
      ],
      "metadata": {
        "colab": {
          "base_uri": "https://localhost:8080/"
        },
        "id": "4RmsMVwQHa76",
        "outputId": "c56e6a9f-064a-4355-8e4d-0ff3bd761473"
      },
      "execution_count": null,
      "outputs": [
        {
          "output_type": "stream",
          "name": "stdout",
          "text": [
            "El estudiante aprobó\n"
          ]
        }
      ]
    },
    {
      "cell_type": "markdown",
      "source": [
        "## Ciclos o Bucles"
      ],
      "metadata": {
        "id": "CbjKQhx8_rxi"
      }
    },
    {
      "cell_type": "markdown",
      "source": [
        "Es una estructura que permite repetir un bloque de código varias veces mientras se cumpla una condición específica."
      ],
      "metadata": {
        "id": "m5qoUXT_GaKz"
      }
    },
    {
      "cell_type": "markdown",
      "source": [
        "### Ciclo `for`\n"
      ],
      "metadata": {
        "id": "-HiYHBFOAI1B"
      }
    },
    {
      "cell_type": "markdown",
      "source": [
        "Se utiliza para iterar sobre una secuencia (como una lista, tupla, cadena de caracteres, etc.) y ejecutar un bloque de código para cada elemento en la secuencia."
      ],
      "metadata": {
        "id": "VYi6CWA7GdCz"
      }
    },
    {
      "cell_type": "code",
      "source": [
        "\"\"\"\n",
        " La función range() genera una secuencia de números enteros\n",
        " desde un valor de inicio (inclusive) hasta un valor de parada (exclusivo),\n",
        " con un paso opcional.\n",
        "\n",
        " range(valor_de_inicio, valor_de_parada, paso)\n",
        "\"\"\"\n",
        "\n",
        "print(\"Cuatro números pares:\")\n",
        "for numero in range(2, 10, 2):\n",
        "    print(numero)\n"
      ],
      "metadata": {
        "colab": {
          "base_uri": "https://localhost:8080/"
        },
        "id": "BsPsQf5PAXcZ",
        "outputId": "0bf7afa7-07ec-4c89-9259-3a52026d4359"
      },
      "execution_count": null,
      "outputs": [
        {
          "output_type": "stream",
          "name": "stdout",
          "text": [
            "Cuatro números pares:\n",
            "2\n",
            "4\n",
            "6\n",
            "8\n"
          ]
        }
      ]
    },
    {
      "cell_type": "markdown",
      "source": [
        "y si quiero el 5to número par..."
      ],
      "metadata": {
        "id": "RFbp45zr3Vpp"
      }
    },
    {
      "cell_type": "code",
      "source": [
        "# Aumento el valor de parada 10 → 12\n",
        "for numero in range(2, 12, 2):\n",
        "    print(numero)"
      ],
      "metadata": {
        "colab": {
          "base_uri": "https://localhost:8080/"
        },
        "id": "NDdU8hnr3Zx_",
        "outputId": "afe50855-be7c-482c-f2b0-7f15602e1576"
      },
      "execution_count": null,
      "outputs": [
        {
          "output_type": "stream",
          "name": "stdout",
          "text": [
            "2\n",
            "4\n",
            "6\n",
            "8\n",
            "10\n"
          ]
        }
      ]
    },
    {
      "cell_type": "code",
      "source": [
        "# Solo indico el valor de parada\n",
        "for numero in range(5):\n",
        "    print(numero)"
      ],
      "metadata": {
        "colab": {
          "base_uri": "https://localhost:8080/"
        },
        "id": "0rHnMlyDA0Fo",
        "outputId": "332f67dc-7503-420a-eefa-41700e2fc302"
      },
      "execution_count": null,
      "outputs": [
        {
          "output_type": "stream",
          "name": "stdout",
          "text": [
            "0\n",
            "1\n",
            "2\n",
            "3\n",
            "4\n"
          ]
        }
      ]
    },
    {
      "cell_type": "code",
      "source": [
        "frutas = [\"manzana\", \"banana\", \"naranja\"]\n",
        "for fruta in frutas:  # Ejecuta el ciclo por cuantos elementos haya en \"frutas\"\n",
        "    print(fruta)"
      ],
      "metadata": {
        "colab": {
          "base_uri": "https://localhost:8080/"
        },
        "id": "rVJY7dFIAUCY",
        "outputId": "102e34fa-6a2c-41a2-a914-67fa1923574a"
      },
      "execution_count": null,
      "outputs": [
        {
          "output_type": "stream",
          "name": "stdout",
          "text": [
            "manzana\n",
            "banana\n",
            "naranja\n"
          ]
        }
      ]
    },
    {
      "cell_type": "code",
      "source": [
        "palabra = \"Hola\"\n",
        "for letra in palabra:\n",
        "  print(letra)"
      ],
      "metadata": {
        "colab": {
          "base_uri": "https://localhost:8080/"
        },
        "id": "V_dcij4GDgMu",
        "outputId": "26392138-6aa4-4735-c9bd-8fec88ac7c66"
      },
      "execution_count": null,
      "outputs": [
        {
          "output_type": "stream",
          "name": "stdout",
          "text": [
            "H\n",
            "o\n",
            "l\n",
            "a\n"
          ]
        }
      ]
    },
    {
      "cell_type": "markdown",
      "source": [
        "### Ciclo `while `"
      ],
      "metadata": {
        "id": "BAHsIj0MBvpg"
      }
    },
    {
      "cell_type": "markdown",
      "source": [
        "Se repite mientras se cumpla una condición booleana. El ciclo seguirá ejecutando el bloque de código hasta que la condición sea falsa."
      ],
      "metadata": {
        "id": "U08whDBmGl1z"
      }
    },
    {
      "cell_type": "code",
      "source": [
        "contador = 0\n",
        "while contador < 5: # Ejecuta mientras \"contador\" sea menor a 5\n",
        "    print(contador)\n",
        "    contador += 1   # Aumento del contador\n"
      ],
      "metadata": {
        "colab": {
          "base_uri": "https://localhost:8080/"
        },
        "id": "N4x3qJSIB16X",
        "outputId": "afcd2c61-9902-4307-a896-f90316eb33f4"
      },
      "execution_count": null,
      "outputs": [
        {
          "output_type": "stream",
          "name": "stdout",
          "text": [
            "0\n",
            "1\n",
            "2\n",
            "3\n",
            "4\n"
          ]
        }
      ]
    },
    {
      "cell_type": "code",
      "source": [
        "contador = 0\n",
        "while contador <= 5: # Ejecuta mientras \"contador\" sea menor igual a 5\n",
        "    print(contador)\n",
        "    contador += 1   # Aumento del contador"
      ],
      "metadata": {
        "colab": {
          "base_uri": "https://localhost:8080/"
        },
        "id": "IbAbdWJG3wSH",
        "outputId": "1f4eb0e2-2e03-4bd5-8c45-1daf742d1457"
      },
      "execution_count": null,
      "outputs": [
        {
          "output_type": "stream",
          "name": "stdout",
          "text": [
            "0\n",
            "1\n",
            "2\n",
            "3\n",
            "4\n",
            "5\n"
          ]
        }
      ]
    },
    {
      "cell_type": "markdown",
      "source": [
        "Otra forma de hacer\n",
        "\n",
        "```\n",
        "print(\"Cuatro números pares:\")\n",
        "for numero in range(2, 10, 2):\n",
        "    print(numero)\n",
        "```\n",
        "\n"
      ],
      "metadata": {
        "id": "fWRoQs133rgf"
      }
    },
    {
      "cell_type": "code",
      "source": [
        "contador = 2\n",
        "while contador <= 10: # Ejecuta mientras \"contador\" sea menor a igual a 10\n",
        "    print(contador)\n",
        "    contador += 2   # Aumento del contador en 2"
      ],
      "metadata": {
        "colab": {
          "base_uri": "https://localhost:8080/"
        },
        "id": "DGos2PGo38Tu",
        "outputId": "20937aea-db00-468c-c313-708153be34b1"
      },
      "execution_count": null,
      "outputs": [
        {
          "output_type": "stream",
          "name": "stdout",
          "text": [
            "2\n",
            "4\n",
            "6\n",
            "8\n",
            "10\n"
          ]
        }
      ]
    },
    {
      "cell_type": "code",
      "source": [
        "continuar = True\n",
        "\n",
        "while continuar:  # o while continuar == True:\n",
        "    respuesta = input(\"¿Quieres continuar? (si/no): \")\n",
        "\n",
        "    if respuesta.lower() == \"no\":    # .lower() es un método para convertir una cadena de caracteres en minúsculas\n",
        "        continuar = False\n",
        "        print(\"Saliendo del ciclo.\")\n",
        "    elif respuesta.lower() == \"si\":\n",
        "        print(\"Continuando...\")\n",
        "    else:\n",
        "        print(\"Respuesta inválida. Por favor, responde 'si' o 'no'.\")\n"
      ],
      "metadata": {
        "colab": {
          "base_uri": "https://localhost:8080/"
        },
        "id": "XrFLC_TgCPnH",
        "outputId": "2d35c2e2-9cbc-4249-c119-49990db58415"
      },
      "execution_count": null,
      "outputs": [
        {
          "output_type": "stream",
          "name": "stdout",
          "text": [
            "¿Quieres continuar? (si/no): si\n",
            "Continuando...\n",
            "¿Quieres continuar? (si/no): Si\n",
            "Continuando...\n",
            "¿Quieres continuar? (si/no): sI\n",
            "Continuando...\n",
            "¿Quieres continuar? (si/no): b\n",
            "Respuesta inválida. Por favor, responde 'si' o 'no'.\n",
            "¿Quieres continuar? (si/no): no\n",
            "Saliendo del ciclo.\n"
          ]
        }
      ]
    },
    {
      "cell_type": "code",
      "source": [
        "contador = 0\n",
        "res = int(input(\"Ingrese un número menor a 4: \"))\n",
        "\n",
        "# Mientras la respuesta sea menor a 4\n",
        "# y contador sea menor a 5, ejecuto\n",
        "while contador < 5 and res < 4:\n",
        "    contador += 1\n",
        "    print(contador)\n"
      ],
      "metadata": {
        "colab": {
          "base_uri": "https://localhost:8080/"
        },
        "id": "eYr3dO6jJu3P",
        "outputId": "e8b19dff-24f3-4864-cac6-5cbabcbf5b99"
      },
      "execution_count": null,
      "outputs": [
        {
          "output_type": "stream",
          "name": "stdout",
          "text": [
            "Ingrese un número menor a 4: 2\n",
            "1\n",
            "2\n",
            "3\n",
            "4\n",
            "5\n"
          ]
        }
      ]
    }
  ]
}
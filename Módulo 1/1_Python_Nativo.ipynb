{
  "nbformat": 4,
  "nbformat_minor": 0,
  "metadata": {
    "colab": {
      "provenance": [],
      "collapsed_sections": [
        "FAmgblGFfTxX",
        "FyQItR1Le7Wx",
        "scrT7TQxizTJ",
        "I-3Qkm4mnLf5",
        "OvfK71U05YkB",
        "th-RzkZRheLs",
        "fhSPkkM8AMyC",
        "k4snHhTKh2rI",
        "B5LoDzhh7JGx",
        "nDrdfzdZ8wne",
        "EPo6kFU8z2Xo",
        "CbjKQhx8_rxi",
        "-HiYHBFOAI1B",
        "BAHsIj0MBvpg",
        "cpQpXJVDGa8q",
        "_y1-km7WAo03",
        "nhk4CM8KBLxC",
        "CEVGT6iklJ3W",
        "vqprqetAm4Qc",
        "MWtY1pg_q5Zx",
        "W68yBxpcthLF"
      ],
      "authorship_tag": "ABX9TyM3BQimuuKVIRGJo1TwNcRP",
      "include_colab_link": true
    },
    "kernelspec": {
      "name": "python3",
      "display_name": "Python 3"
    },
    "language_info": {
      "name": "python"
    }
  },
  "cells": [
    {
      "cell_type": "markdown",
      "metadata": {
        "id": "view-in-github",
        "colab_type": "text"
      },
      "source": [
        "<a href=\"https://colab.research.google.com/github/Slrosales/Programacion_con_Python/blob/main/M%C3%B3dulo%201/1_Python_Nativo.ipynb\" target=\"_parent\"><img src=\"https://colab.research.google.com/assets/colab-badge.svg\" alt=\"Open In Colab\"/></a>"
      ]
    },
    {
      "cell_type": "markdown",
      "source": [
        "<center>\n",
        "  <img src=\"https://radcolombia.org/web/sites/default/files/archivos/instituciones/universidad-norte/logo-uninorte.png\" alt=\"Logo Universidad del Norte\" width=\"200\">\n",
        "  <h5>\n",
        "  <h2 style=\"color:#B22222;\">🐍 Introducción a Python 🐍</h2>\n",
        "  <br>\n",
        "  <h4><strong>⚡Creado por:</strong> <span style=\"color:#1E90FF;\">Laura Gómez</span></h4>\n",
        "  <h5>📌 En apoyo del <strong>CREE</strong> y <strong>Grupo estudiantil ACM</strong></h5>\n",
        "  <br>\n",
        "  <a href=\"https://github.com/slrosales\" target=\"_blank\">\n",
        "    <img src=\"https://img.shields.io/badge/GitHub-slrosales-181717?style=for-the-badge&logo=github&logoColor=red\">\n",
        "  </a>\n",
        "<center>\n",
        "\n"
      ],
      "metadata": {
        "id": "j-erU_VL2deR"
      }
    },
    {
      "cell_type": "markdown",
      "source": [
        "## Tipos de comentarios"
      ],
      "metadata": {
        "id": "FyQItR1Le7Wx"
      }
    },
    {
      "cell_type": "markdown",
      "source": [
        "* Los comentarios se utilizan para agregar notas explicativas al código\n",
        "* Estos son ignorados por el interprete"
      ],
      "metadata": {
        "id": "C17lKGClFp9U"
      }
    },
    {
      "cell_type": "code",
      "execution_count": 3,
      "metadata": {
        "id": "ixIYVhnlenZm",
        "outputId": "5d83d156-f95c-4485-b333-4c606976cdc3",
        "colab": {
          "base_uri": "https://localhost:8080/",
          "height": 35
        }
      },
      "outputs": [
        {
          "output_type": "execute_result",
          "data": {
            "text/plain": [
              "'\\nComentario\\nen\\nbloque\\n'"
            ],
            "application/vnd.google.colaboratory.intrinsic+json": {
              "type": "string"
            }
          },
          "metadata": {},
          "execution_count": 3
        }
      ],
      "source": [
        "# Comentario en una linea\n",
        "\n",
        "\"\"\"\n",
        "Comentario\n",
        "en\n",
        "bloque\n",
        "\"\"\""
      ]
    },
    {
      "cell_type": "code",
      "source": [],
      "metadata": {
        "id": "91pHRel768I_"
      },
      "execution_count": null,
      "outputs": []
    },
    {
      "cell_type": "markdown",
      "source": [
        "## Tipos de datos en Python"
      ],
      "metadata": {
        "id": "scrT7TQxizTJ"
      }
    },
    {
      "cell_type": "markdown",
      "source": [
        "* Declaramos variables usando el `=`\n",
        "* A la izquierda siempre debe estar el nombre de la variable"
      ],
      "metadata": {
        "id": "t81moyAYFuW7"
      }
    },
    {
      "cell_type": "code",
      "source": [
        "numero_entero = 5       # int\n",
        "numero_decimal = 3.14   # float\n",
        "\n",
        "caracter = 'c'          # char\n",
        "cadena = \"Hola mundo\"   # str\n",
        "\n",
        "# bool\n",
        "verdadero = True\n",
        "falso = False\n",
        "\n",
        "# list\n",
        "lista_numeros = [1, 2, 2, 3, 4, 5]\n",
        "lista_nombres = [\"Luna\", \"Giuseppe\", \"Laura\", \"Rubens\"]\n",
        "lista_multi = [1, \"hola\", 2.5]\n",
        "\n",
        "# set (no permite datos duplicados)\n",
        "conjunto_numeros = {1, 2, 3, 3}\n",
        "\n",
        "# tupla (no es mutable)\n",
        "tupla_colores = (\"rojo\", \"verde\", \"azul\", \"Rosado\")\n",
        "\n",
        "# Diccionario (clave-valor)\n",
        "diccionario_edades = {\"Luna\": 25, \"Giuseppe\": 5, \"Laura\": 20}"
      ],
      "metadata": {
        "id": "FxXO0CRojElw"
      },
      "execution_count": 4,
      "outputs": []
    },
    {
      "cell_type": "markdown",
      "source": [
        "## Función `print()`\n",
        "\n"
      ],
      "metadata": {
        "id": "I-3Qkm4mnLf5"
      }
    },
    {
      "cell_type": "markdown",
      "source": [
        "* Es una función que escribe en pantalla las variables que recibe\n",
        "* Los caracteres entre comillas dobles o simples se toman como literales (strings) y puede recibir múltiples variables, siempre separadas por comas"
      ],
      "metadata": {
        "id": "rcZtXweWF1RT"
      }
    },
    {
      "cell_type": "code",
      "source": [
        "print(numero_decimal)\n",
        "print(verdadero, falso)\n",
        "print(\"Los elementos en mi lista de números son: \", lista_numeros)"
      ],
      "metadata": {
        "colab": {
          "base_uri": "https://localhost:8080/"
        },
        "id": "1HjILgUPnTWq",
        "outputId": "5637adf4-bcba-4914-90b2-befffce06143"
      },
      "execution_count": 5,
      "outputs": [
        {
          "output_type": "stream",
          "name": "stdout",
          "text": [
            "3.14\n",
            "True False\n",
            "Los elementos en mi lista de números son:  [1, 2, 2, 3, 4, 5]\n"
          ]
        }
      ]
    },
    {
      "cell_type": "markdown",
      "source": [
        "\n",
        "\n",
        "---\n",
        "\n",
        "* Otra forma para imprimir datos por pantalla es usar `f-string`, lo cual es una cadena de formato\n",
        "\n",
        "* Lo que este entre llaves será evaluado y remplazado por su valor correspondiente\n"
      ],
      "metadata": {
        "id": "b7lj53LqoOc7"
      }
    },
    {
      "cell_type": "code",
      "source": [
        "x = 10\n",
        "print(f\"Ayer programé {x} horas\")"
      ],
      "metadata": {
        "colab": {
          "base_uri": "https://localhost:8080/"
        },
        "id": "zJO-jzxxo9_K",
        "outputId": "6aca0cee-3ca7-4a15-f49c-85396c844d57"
      },
      "execution_count": 2,
      "outputs": [
        {
          "output_type": "stream",
          "name": "stdout",
          "text": [
            "Ayer programé 10 horas\n"
          ]
        }
      ]
    },
    {
      "cell_type": "markdown",
      "source": [
        "## Función `input()`\n",
        "\n",
        "\n"
      ],
      "metadata": {
        "id": "OvfK71U05YkB"
      }
    },
    {
      "cell_type": "markdown",
      "source": [
        "* Es una función que permite interactuar con el usuario y solicitar datos\n",
        "\n",
        "* Cuando se llama a la función `input()`, el programa se detiene y espera a que el usuario ingrese lo solicitado\n",
        "\n",
        "* Al presionar la tecla **\"Enter\"**, el texto ingresado por el usuario se captura como un **string** y puede ser asignado a una variable para su posterior procesamiento"
      ],
      "metadata": {
        "id": "rVe2DqCUF6TD"
      }
    },
    {
      "cell_type": "code",
      "source": [
        "x = input()\n",
        "print(x)\n",
        "print(type(x)) # type() dice el tipo de variable"
      ],
      "metadata": {
        "colab": {
          "base_uri": "https://localhost:8080/"
        },
        "id": "-LghVcOx6w3P",
        "outputId": "1e7178d1-659e-4997-9ae5-cd29f76b37b3"
      },
      "execution_count": null,
      "outputs": [
        {
          "output_type": "stream",
          "name": "stdout",
          "text": [
            "1\n",
            "1\n",
            "<class 'str'>\n"
          ]
        }
      ]
    },
    {
      "cell_type": "code",
      "source": [
        "y = int(input(\"Ingresa un número entero: \")) # int(input()) convierte el str ingresado a int\n",
        "print(y)\n",
        "print(type(y))"
      ],
      "metadata": {
        "colab": {
          "base_uri": "https://localhost:8080/"
        },
        "id": "oPZ-kRf57uWm",
        "outputId": "81e14577-e62b-46d6-a2e2-28776464d5ae"
      },
      "execution_count": null,
      "outputs": [
        {
          "output_type": "stream",
          "name": "stdout",
          "text": [
            "Ingresa un número entero: 10\n",
            "10\n",
            "<class 'int'>\n"
          ]
        }
      ]
    },
    {
      "cell_type": "code",
      "source": [
        "y = float(input(\"Ingresa un número entero: \")) # int(input()) convierte el str ingresado a float\n",
        "print(y)\n",
        "print(type(y))"
      ],
      "metadata": {
        "colab": {
          "base_uri": "https://localhost:8080/"
        },
        "id": "uGZf7bV2zz_8",
        "outputId": "8aa757d6-aa95-4879-f2c0-9433c79ebc97"
      },
      "execution_count": null,
      "outputs": [
        {
          "output_type": "stream",
          "name": "stdout",
          "text": [
            "Ingresa un número entero: 15\n",
            "15.0\n",
            "<class 'float'>\n"
          ]
        }
      ]
    },
    {
      "cell_type": "markdown",
      "source": [
        "## Aritmética básica"
      ],
      "metadata": {
        "id": "th-RzkZRheLs"
      }
    },
    {
      "cell_type": "code",
      "source": [
        "a, b = 2 , 10\n",
        "\n",
        "print(\"Sumar a+b:\", a+b)\n",
        "print(\"Restar a-b:\", a-b)\n",
        "print(\"Multiplicar a*b:\", a*b)\n",
        "print(\"Dividir b/a:\", b/a)\n",
        "print(\"División entera b//a:\", b//a)\n",
        "print(\"Resto de división (modulo) b%a:\", b%a)\n",
        "print(\"Potenciación b**a (b^a): \", b**a)"
      ],
      "metadata": {
        "colab": {
          "base_uri": "https://localhost:8080/"
        },
        "id": "zuXoH6Uphiu7",
        "outputId": "7280c214-da29-454d-ae49-3eb672dab09f"
      },
      "execution_count": 6,
      "outputs": [
        {
          "output_type": "stream",
          "name": "stdout",
          "text": [
            "Sumar a+b: 12\n",
            "Restar a-b: -8\n",
            "Multiplicar a*b: 20\n",
            "Dividir b/a: 5.0\n",
            "División entera b//a: 5\n",
            "Resto de división (modulo) b%a: 0\n",
            "Potenciación b**a (b^a):  100\n"
          ]
        }
      ]
    },
    {
      "cell_type": "markdown",
      "source": [
        "### **Otro ejemplo**"
      ],
      "metadata": {
        "id": "w-EA9Or-3JWY"
      }
    },
    {
      "cell_type": "code",
      "source": [
        "a, b = 2.5 , 10\n",
        "x = b//a  # int//float\n",
        "print(type(x))  # resultado en float\n",
        "x"
      ],
      "metadata": {
        "colab": {
          "base_uri": "https://localhost:8080/"
        },
        "id": "jMp6l9SKz4R0",
        "outputId": "af67c1f2-7192-4d12-b5bc-79cc300fe0de"
      },
      "execution_count": 7,
      "outputs": [
        {
          "output_type": "stream",
          "name": "stdout",
          "text": [
            "<class 'float'>\n"
          ]
        },
        {
          "output_type": "execute_result",
          "data": {
            "text/plain": [
              "4.0"
            ]
          },
          "metadata": {},
          "execution_count": 7
        }
      ]
    },
    {
      "cell_type": "code",
      "source": [
        "x = int(x) # convertimos x a int\n",
        "print(type(x))\n",
        "x"
      ],
      "metadata": {
        "colab": {
          "base_uri": "https://localhost:8080/"
        },
        "id": "_HI2Gkd00B8K",
        "outputId": "51f7f523-59da-4b4a-dc43-0a668d42df90"
      },
      "execution_count": 8,
      "outputs": [
        {
          "output_type": "stream",
          "name": "stdout",
          "text": [
            "<class 'int'>\n"
          ]
        },
        {
          "output_type": "execute_result",
          "data": {
            "text/plain": [
              "4"
            ]
          },
          "metadata": {},
          "execution_count": 8
        }
      ]
    },
    {
      "cell_type": "markdown",
      "source": [
        "## Operadores"
      ],
      "metadata": {
        "id": "fhSPkkM8AMyC"
      }
    },
    {
      "cell_type": "markdown",
      "source": [
        "### Operadores de comparación\n"
      ],
      "metadata": {
        "id": "k4snHhTKh2rI"
      }
    },
    {
      "cell_type": "markdown",
      "source": [
        "* `True` y `False` son dato tipo boleano.\n",
        "* `False` también puede definirse cómo `not True` (el `not` es el operador _negación_)."
      ],
      "metadata": {
        "id": "roarKc_7GAnL"
      }
    },
    {
      "cell_type": "markdown",
      "source": [
        "Op. | Descripción\n",
        "--- | ---\n",
        "`==` | `True` si son iguales\n",
        "`!=` | `True` si son distintos\n",
        "`>` | `True` si la izquierda es mayor a la derecha\n",
        "`<` | `True` si la izquierda es menor a la derecha\n",
        "`>=` | `True` si la izquierda es mayor o igual a la derecha\n",
        "`<=` | `True` si la izquierda es menor o igual a la derecha\n"
      ],
      "metadata": {
        "id": "w_qza12cyngy"
      }
    },
    {
      "cell_type": "code",
      "source": [
        "a = 10\n",
        "b = 15\n",
        "print(\"Comparo a>b:\", a>b)\n",
        "print(\"Comparo a==b:\", a==b)\n",
        "\n",
        "print(\"Comparo a!=b:\", a!=b)\n",
        "print(\"Comparo a<=b:\", a<=b)"
      ],
      "metadata": {
        "colab": {
          "base_uri": "https://localhost:8080/"
        },
        "id": "nQDirZxdmmJx",
        "outputId": "b5b97806-7251-41f4-8b90-bceaab1e67bc"
      },
      "execution_count": 9,
      "outputs": [
        {
          "output_type": "stream",
          "name": "stdout",
          "text": [
            "Comparo a>b: False\n",
            "Comparo a==b: False\n",
            "Comparo a!=b: True\n",
            "Comparo a<=b: True\n"
          ]
        }
      ]
    },
    {
      "cell_type": "markdown",
      "source": [
        "### Operadores bitwise\n"
      ],
      "metadata": {
        "id": "B5LoDzhh7JGx"
      }
    },
    {
      "cell_type": "markdown",
      "source": [
        "* Permiten realizar operaciones en los bits individuales de los números enteros\n",
        "* Estos operadores actúan directamente en la representación binaria de los números y se utilizan para realizar manipulaciones precisas de bits en un nivel más bajo"
      ],
      "metadata": {
        "id": "C5GL6kHEGG0r"
      }
    },
    {
      "cell_type": "markdown",
      "source": [
        "\n",
        "| Operador           | |Descripción                               |\n",
        "|--------------------|-|------------------------------------------|\n",
        "| `&`                | AND| Pone cada bit a 1 si ambos bits son 1                    |\n",
        "| `\\|`               | OR |Pone cada bit a 1 si uno de los dos bits es 1                    |\n",
        "| `^`                | XOR |Pone cada bit a 1 si sólo uno de los dos bits es 1                    |\n",
        "| `~`                | NOT |inversión de bits                     |\n",
        "| `<<`               | |Desplazamiento a la izquierda             |\n",
        "| `>>`               | |Desplazamiento a la derecha               |\n",
        "\n"
      ],
      "metadata": {
        "id": "n2b-M6z_y03E"
      }
    },
    {
      "cell_type": "code",
      "source": [
        "a = 5  # Representación binaria: 0101\n",
        "b = 3  # Representación binaria: 0011\n",
        "\n",
        "c = a & b  # 0101 & 0011 = 0001 (1 en decimal)\n",
        "print(\"AND\", c)\n",
        "\n",
        "c = a | b  # 0101 | 0011 = 0111 (7 en decimal)\n",
        "print(\"OR\", c)\n",
        "\n",
        "c = a ^ b  # 0101 ^ 0011 = 0110 (6 en decimal)\n",
        "print(\"XOR\", c)\n",
        "\n",
        "c = ~a  # ~0101 = 1010 (-6 en decimal)\n",
        "print(\"NOT\", c)\n",
        "\n",
        "c = a << 2  # Desplaza 2 bits a la izquierda: 010100 (20 en decimal)\n",
        "print(\"<<\", c)\n",
        "\n",
        "c = a >> 2  # Desplaza 2 bits a la derecha: 000101 (5 en decimal)\n",
        "print(\">>\", c)"
      ],
      "metadata": {
        "colab": {
          "base_uri": "https://localhost:8080/"
        },
        "id": "hXge1Iss8-Xe",
        "outputId": "d0103fa0-b44b-4349-ce83-3954f1efc13c"
      },
      "execution_count": 10,
      "outputs": [
        {
          "output_type": "stream",
          "name": "stdout",
          "text": [
            "AND 1\n",
            "OR 7\n",
            "XOR 6\n",
            "NOT -6\n",
            "<< 20\n",
            ">> 1\n"
          ]
        }
      ]
    },
    {
      "cell_type": "markdown",
      "source": [
        "### Operadores Lógicos\n"
      ],
      "metadata": {
        "id": "nDrdfzdZ8wne"
      }
    },
    {
      "cell_type": "markdown",
      "source": [
        "* Se utilizan para realizar operaciones de lógica booleana en valores booleanos o expresiones que se evalúan como verdaderas (`True`) o falsas (`False`)\n",
        "* Estos operadores permiten combinar, comparar y evaluar condiciones lógicas en un programa\n",
        "* Se utilizan comúnmente para controlar el flujo del programa mediante estructuras condicionales `(if, elif, else)` y para combinar múltiples condiciones para tomar decisiones basadas en la lógica booleana"
      ],
      "metadata": {
        "id": "wO_syiRJGKG0"
      }
    },
    {
      "cell_type": "markdown",
      "source": [
        "| Operador | Descripción                                   |\n",
        "|----------|-----------------------------------------------|\n",
        "| `and`    | Retorna `True` si ambas condiciones son `True`.   |\n",
        "| `or`     | Retorna `True` si al menos una condición es `True`. |\n",
        "| `not`    | Invierte el valor de una condición.              |"
      ],
      "metadata": {
        "id": "lU1x3u-kzKZi"
      }
    },
    {
      "cell_type": "code",
      "source": [
        "a = True\n",
        "b = False\n",
        "\n",
        "print(\"a and b: \", a and b)\n",
        "print(\"a or b:\", a or b )\n",
        "print(\"not a: \", not a )"
      ],
      "metadata": {
        "colab": {
          "base_uri": "https://localhost:8080/"
        },
        "id": "R39-KanpCyJg",
        "outputId": "bb51daf4-8335-4e8e-a048-f731e10feb54"
      },
      "execution_count": 11,
      "outputs": [
        {
          "output_type": "stream",
          "name": "stdout",
          "text": [
            "a and b:  False\n",
            "a or b: True\n",
            "not a:  False\n"
          ]
        }
      ]
    },
    {
      "cell_type": "code",
      "source": [
        "# Ejemplo\n",
        "a, b, c, d = 3, 2, 3, 6\n",
        "not((b*a)==d or (((a+b) > (c+d)) and (((c-a)*b) < ((b+3)/3))))\n",
        "\n",
        "not((2*3)==6 or (((3+2) > (3+6)) and (((3-3)*2) < ((2+3)/3))))\n",
        "not((2*3)==6 or (((3+2) > (3+6)) and (((3-3)*2) < (5/3))))\n",
        "not((2*3)==6 or (((3+2) > (3+6)) and (((3-3)*2) < 1.6)))\n",
        "not((2*3)==6 or (((3+2) > (3+6)) and ((0*2) < 1.6)))\n",
        "not((2*3)==6 or (((3+2) > (3+6)) and (0 < 1.6)))\n",
        "not((2*3)==6 or ((5 > 9) and (0 < 1.6)))\n",
        "not((2*3)==6 or (False and True))\n",
        "not(6==6 or False)\n",
        "not(True or False)\n",
        "not True"
      ],
      "metadata": {
        "id": "WiwZ9gVOFFBo",
        "outputId": "f61e68bd-df7e-4aab-dd89-97d8d5616b07",
        "colab": {
          "base_uri": "https://localhost:8080/"
        }
      },
      "execution_count": 13,
      "outputs": [
        {
          "output_type": "execute_result",
          "data": {
            "text/plain": [
              "False"
            ]
          },
          "metadata": {},
          "execution_count": 13
        }
      ]
    },
    {
      "cell_type": "code",
      "source": [
        "a, b, c, d, e = 5, 2, 3, 1, 4\n",
        "((c+d*e) == (c*(d-a)+a) and not (e+b/b != b+c or (e+a > d-b)) and 4 != (d-a))\n",
        "\n",
        "((3+1*4) == (3*(1-5)+5) and not (4+2/2 != 2+3 or (4+5 > 1-2)) and 4 !=  (1-5))\n",
        "((3+1*4) == (3*(-4)+5) and not (4+2/2 != 2+3 or (9 > (-1))) and 4 !=  (1-5))\n",
        "((3+1*4) == (3*(-4)+5) and not (4+2/2 != 2+3 or True) and 4 !=  (1-5))\n",
        "(7 == (-7) and not (5 != 5 or True) and 4 != (-4))\n",
        "(7 == (-7) and not (False or True) and 4 != (-4))\n",
        "(7 == (-7) and not True and 4 != (-4))\n",
        "(False and not True and 4 != (-4))\n",
        "(False and (4 != -4))\n",
        "False and False\n",
        "False"
      ],
      "metadata": {
        "id": "wYtaOdwnEY8N",
        "outputId": "9e859091-453f-4a53-8dcb-58454b2c9045",
        "colab": {
          "base_uri": "https://localhost:8080/"
        }
      },
      "execution_count": 16,
      "outputs": [
        {
          "output_type": "execute_result",
          "data": {
            "text/plain": [
              "False"
            ]
          },
          "metadata": {},
          "execution_count": 16
        }
      ]
    },
    {
      "cell_type": "markdown",
      "source": [
        "## Condicionales\n"
      ],
      "metadata": {
        "id": "EPo6kFU8z2Xo"
      }
    },
    {
      "cell_type": "markdown",
      "source": [
        "* Un condicional es una estructura de programación que permite tomar decisiones basadas en una o varias condiciones como resultado de una expresión booleana `(verdadera o falsa) `\n",
        "\n",
        "\n",
        "* `if`\n",
        "  * Se usa para evaluar una condición y ejecutar un bloque de código si esa condición es verdadera.\n",
        "  * Es la parte principal de una estructura condicional\n",
        "\n",
        "* `else`\n",
        "  * Se usa junto con `if` para proporcionar un bloque de código que se ejecutará si la condición del `if` es falsa\n",
        "\n",
        "* `elif` **(else-if)**\n",
        "  * Se usa para evaluar múltiples condiciones en secuencia\n",
        "  * Si la condición del `if` no es verdadera, se verifica si la siguiente condición lo es\n",
        "\n"
      ],
      "metadata": {
        "id": "7uttDmD80OqP"
      }
    },
    {
      "cell_type": "code",
      "source": [
        "# Comparación de dos números\n",
        "a, b = 2, 6.5\n",
        "\n",
        "if a > b:\n",
        "  print(\"a es mayor a b\")\n",
        "\n",
        "if a < b:\n",
        "  print(\"a es menor a b\")\n",
        "\n",
        "if a == b:\n",
        "  print(\"a y b son iguales\")"
      ],
      "metadata": {
        "colab": {
          "base_uri": "https://localhost:8080/"
        },
        "id": "qS_a5Kf14DDr",
        "outputId": "9c1fa362-74af-46ff-efee-cd02a2798dc4"
      },
      "execution_count": 17,
      "outputs": [
        {
          "output_type": "stream",
          "name": "stdout",
          "text": [
            "a es menor a b\n"
          ]
        }
      ]
    },
    {
      "cell_type": "code",
      "source": [
        "# Estructura simplificada\n",
        "\n",
        "if a > b:\n",
        "  print(\"a es mayor b\")\n",
        "elif a < b:\n",
        "  print(\"a es menor b\")\n",
        "else:\n",
        "  print(\"a y b son iguales\")"
      ],
      "metadata": {
        "colab": {
          "base_uri": "https://localhost:8080/"
        },
        "id": "XNQx4YmI4hvS",
        "outputId": "c54f3077-86b6-402f-98a7-392fb11417ba"
      },
      "execution_count": 18,
      "outputs": [
        {
          "output_type": "stream",
          "name": "stdout",
          "text": [
            "a es menor b\n"
          ]
        }
      ]
    },
    {
      "cell_type": "code",
      "source": [
        "colores = [\"rojo\", \"verde\", \"azul\"]\n",
        "\n",
        "print(\"¿Quieres imnprimir la lista de colores?\")\n",
        "# Menú de opciones\n",
        "print(\"1. Si \\n2. No\") # \\n genera un salto de línea\n",
        "x = int(input())\n",
        "\n",
        "if x == 1:\n",
        "  y = True\n",
        "elif x == 2:\n",
        "  y = False\n",
        "else:\n",
        "  print(\"Valor ingresado inválido\")\n",
        "\n",
        "if y == True:\n",
        "  print(colores)"
      ],
      "metadata": {
        "colab": {
          "base_uri": "https://localhost:8080/"
        },
        "id": "g0M6LwkI8mTO",
        "outputId": "faeae491-f321-4f19-e43b-ea1c62cc2506"
      },
      "execution_count": 20,
      "outputs": [
        {
          "output_type": "stream",
          "name": "stdout",
          "text": [
            "¿Quieres imnprimir la lista de colores?\n",
            "1. Si \n",
            "2. No\n",
            "1\n",
            "['rojo', 'verde', 'azul']\n"
          ]
        }
      ]
    },
    {
      "cell_type": "code",
      "source": [
        "estudiante = True\n",
        "aprobar = True\n",
        "\n",
        "if estudiante and aprobar:\n",
        "    print(\"El estudiante aprobó\")\n",
        "elif estudiante and not aprobar:\n",
        "    print(\"El estudiante no aprobó\")\n",
        "elif not estudiante and aprobar:\n",
        "    print(\"Aprobó pero no es estudiante.\")\n",
        "else:\n",
        "    print(\"No es estudiante y no aprobó\")\n"
      ],
      "metadata": {
        "colab": {
          "base_uri": "https://localhost:8080/"
        },
        "id": "4RmsMVwQHa76",
        "outputId": "637ca6d1-d535-4347-b964-7274f1f07ad8"
      },
      "execution_count": 21,
      "outputs": [
        {
          "output_type": "stream",
          "name": "stdout",
          "text": [
            "El estudiante aprobó\n"
          ]
        }
      ]
    },
    {
      "cell_type": "markdown",
      "source": [
        "## Ciclos o Bucles"
      ],
      "metadata": {
        "id": "CbjKQhx8_rxi"
      }
    },
    {
      "cell_type": "markdown",
      "source": [
        "* Es una estructura que permite repetir un bloque de código varias veces mientras se cumpla una condición específica."
      ],
      "metadata": {
        "id": "m5qoUXT_GaKz"
      }
    },
    {
      "cell_type": "markdown",
      "source": [
        "### Ciclo `for`\n"
      ],
      "metadata": {
        "id": "-HiYHBFOAI1B"
      }
    },
    {
      "cell_type": "markdown",
      "source": [
        "* Se utiliza para iterar sobre una secuencia (como una lista, tupla, cadena de caracteres, etc.) y ejecutar un bloque de código para cada elemento en la secuencia\n",
        "\n",
        "[Diagrama](https://www2.eii.uva.es/fund_inf/cpp/_images/for.jpg)"
      ],
      "metadata": {
        "id": "VYi6CWA7GdCz"
      }
    },
    {
      "cell_type": "code",
      "source": [
        "\"\"\"\n",
        " La función range() genera una secuencia de números enteros\n",
        " desde un valor de inicio (inclusive) hasta un valor de parada (exclusivo),\n",
        " con un paso opcional.\n",
        "\n",
        " range(valor_de_inicio, valor_de_parada, paso)\n",
        "\"\"\"\n",
        "\n",
        "print(\"Cuatro números pares:\")\n",
        "for numero in range(2, 10, 2):\n",
        "    print(numero)\n"
      ],
      "metadata": {
        "colab": {
          "base_uri": "https://localhost:8080/"
        },
        "id": "BsPsQf5PAXcZ",
        "outputId": "65b4c4d0-a7a1-44bd-81f6-ba3fdb4c2b80"
      },
      "execution_count": 22,
      "outputs": [
        {
          "output_type": "stream",
          "name": "stdout",
          "text": [
            "Cuatro números pares:\n",
            "2\n",
            "4\n",
            "6\n",
            "8\n"
          ]
        }
      ]
    },
    {
      "cell_type": "markdown",
      "source": [
        "y si quiero el 5to número par..."
      ],
      "metadata": {
        "id": "RFbp45zr3Vpp"
      }
    },
    {
      "cell_type": "code",
      "source": [
        "# Aumento el valor de parada 10 → 12\n",
        "for numero in range(2, 12, 2):\n",
        "    print(numero)"
      ],
      "metadata": {
        "colab": {
          "base_uri": "https://localhost:8080/"
        },
        "id": "NDdU8hnr3Zx_",
        "outputId": "0dbbf8e1-8dd5-4941-9173-26da4e9cfcd1"
      },
      "execution_count": 23,
      "outputs": [
        {
          "output_type": "stream",
          "name": "stdout",
          "text": [
            "2\n",
            "4\n",
            "6\n",
            "8\n",
            "10\n"
          ]
        }
      ]
    },
    {
      "cell_type": "code",
      "source": [
        "# Solo indico el valor de parada\n",
        "for numero in range(5):\n",
        "    print(numero)"
      ],
      "metadata": {
        "colab": {
          "base_uri": "https://localhost:8080/"
        },
        "id": "0rHnMlyDA0Fo",
        "outputId": "90072bd1-f4a1-4874-f89f-4f6d53a1ea68"
      },
      "execution_count": 24,
      "outputs": [
        {
          "output_type": "stream",
          "name": "stdout",
          "text": [
            "0\n",
            "1\n",
            "2\n",
            "3\n",
            "4\n"
          ]
        }
      ]
    },
    {
      "cell_type": "code",
      "source": [
        "frutas = [\"manzana\", \"banana\", \"naranja\"]\n",
        "for fruta in frutas:  # Ejecuta el ciclo por cuantos elementos haya en \"frutas\"\n",
        "    print(fruta)"
      ],
      "metadata": {
        "colab": {
          "base_uri": "https://localhost:8080/"
        },
        "id": "rVJY7dFIAUCY",
        "outputId": "caabdefb-148a-46fa-a6c2-e5bf256eb21b"
      },
      "execution_count": 25,
      "outputs": [
        {
          "output_type": "stream",
          "name": "stdout",
          "text": [
            "manzana\n",
            "banana\n",
            "naranja\n"
          ]
        }
      ]
    },
    {
      "cell_type": "code",
      "source": [
        "palabra = \"Hola\"\n",
        "for letra in palabra:\n",
        "  print(letra)"
      ],
      "metadata": {
        "colab": {
          "base_uri": "https://localhost:8080/"
        },
        "id": "V_dcij4GDgMu",
        "outputId": "2b826fff-8519-40f0-ad3d-b5d9a0c2cc8f"
      },
      "execution_count": 26,
      "outputs": [
        {
          "output_type": "stream",
          "name": "stdout",
          "text": [
            "H\n",
            "o\n",
            "l\n",
            "a\n"
          ]
        }
      ]
    },
    {
      "cell_type": "markdown",
      "source": [
        "### Ciclo `while `"
      ],
      "metadata": {
        "id": "BAHsIj0MBvpg"
      }
    },
    {
      "cell_type": "markdown",
      "source": [
        "* Se repite mientras se cumpla una condición booleana\n",
        "* El ciclo seguirá ejecutando el bloque de código hasta que la condición sea falsa\n",
        "\n",
        "[Diagrama](https://www.researchgate.net/profile/Miguel-Suarez-Ledo/publication/313664762/figure/fig3/AS:461396619075585@1487016934061/Figura-32-Diagrama-de-Flujo-mostrando-un-ciclo-while.png)"
      ],
      "metadata": {
        "id": "U08whDBmGl1z"
      }
    },
    {
      "cell_type": "code",
      "source": [
        "contador = 0\n",
        "while contador < 5: # Ejecuta mientras \"contador\" sea menor a 5\n",
        "    print(contador)\n",
        "    contador += 1   # Aumento del contador\n"
      ],
      "metadata": {
        "colab": {
          "base_uri": "https://localhost:8080/"
        },
        "id": "N4x3qJSIB16X",
        "outputId": "986f98e5-b278-4f7c-c919-4836972b4f45"
      },
      "execution_count": 27,
      "outputs": [
        {
          "output_type": "stream",
          "name": "stdout",
          "text": [
            "0\n",
            "1\n",
            "2\n",
            "3\n",
            "4\n"
          ]
        }
      ]
    },
    {
      "cell_type": "code",
      "source": [
        "contador = 0\n",
        "while contador <= 5: # Ejecuta mientras \"contador\" sea menor igual a 5\n",
        "    print(contador)\n",
        "    contador += 1   # Aumento del contador"
      ],
      "metadata": {
        "colab": {
          "base_uri": "https://localhost:8080/"
        },
        "id": "IbAbdWJG3wSH",
        "outputId": "433707bd-a6c4-4861-ef95-a59e44eb6e70"
      },
      "execution_count": 28,
      "outputs": [
        {
          "output_type": "stream",
          "name": "stdout",
          "text": [
            "0\n",
            "1\n",
            "2\n",
            "3\n",
            "4\n",
            "5\n"
          ]
        }
      ]
    },
    {
      "cell_type": "markdown",
      "source": [
        "Otra forma de hacer\n",
        "\n",
        "```\n",
        "print(\"Cuatro números pares:\")\n",
        "for numero in range(2, 10, 2):\n",
        "    print(numero)\n",
        "```\n",
        "\n"
      ],
      "metadata": {
        "id": "fWRoQs133rgf"
      }
    },
    {
      "cell_type": "code",
      "source": [
        "contador = 2\n",
        "while contador <= 10: # Ejecuta mientras \"contador\" sea menor a igual a 10\n",
        "    print(contador)\n",
        "    contador += 2   # Aumento del contador en 2"
      ],
      "metadata": {
        "colab": {
          "base_uri": "https://localhost:8080/"
        },
        "id": "DGos2PGo38Tu",
        "outputId": "421ee2ac-bfb1-47e2-bf2a-8c5e5c32e677"
      },
      "execution_count": 29,
      "outputs": [
        {
          "output_type": "stream",
          "name": "stdout",
          "text": [
            "2\n",
            "4\n",
            "6\n",
            "8\n",
            "10\n"
          ]
        }
      ]
    },
    {
      "cell_type": "code",
      "source": [
        "continuar = True\n",
        "\n",
        "while continuar:  # o while continuar == True:\n",
        "    respuesta = input(\"¿Quieres continuar? (si/no): \")\n",
        "\n",
        "    if respuesta.lower() == \"no\":    # .lower() es un método para convertir una cadena de caracteres en minúsculas\n",
        "        continuar = False\n",
        "        print(\"Saliendo del ciclo.\")\n",
        "    elif respuesta.lower() == \"si\":\n",
        "        print(\"Continuando...\")\n",
        "    else:\n",
        "        print(\"Respuesta inválida. Por favor, responde 'si' o 'no'.\")\n"
      ],
      "metadata": {
        "colab": {
          "base_uri": "https://localhost:8080/"
        },
        "id": "XrFLC_TgCPnH",
        "outputId": "2d35c2e2-9cbc-4249-c119-49990db58415"
      },
      "execution_count": null,
      "outputs": [
        {
          "output_type": "stream",
          "name": "stdout",
          "text": [
            "¿Quieres continuar? (si/no): si\n",
            "Continuando...\n",
            "¿Quieres continuar? (si/no): Si\n",
            "Continuando...\n",
            "¿Quieres continuar? (si/no): sI\n",
            "Continuando...\n",
            "¿Quieres continuar? (si/no): b\n",
            "Respuesta inválida. Por favor, responde 'si' o 'no'.\n",
            "¿Quieres continuar? (si/no): no\n",
            "Saliendo del ciclo.\n"
          ]
        }
      ]
    },
    {
      "cell_type": "code",
      "source": [
        "contador = 0\n",
        "res = int(input(\"Ingrese un número menor a 4: \"))\n",
        "\n",
        "# Mientras la respuesta sea menor a 4\n",
        "# y contador sea menor a 5, ejecuto\n",
        "while contador < 5 and res < 4:\n",
        "    contador += 1\n",
        "    print(contador)\n"
      ],
      "metadata": {
        "colab": {
          "base_uri": "https://localhost:8080/"
        },
        "id": "eYr3dO6jJu3P",
        "outputId": "460b4bd2-d60f-4dbc-ec41-3d9aacf335d8"
      },
      "execution_count": 32,
      "outputs": [
        {
          "output_type": "stream",
          "name": "stdout",
          "text": [
            "Ingrese un número menor a 4: 2\n",
            "1\n",
            "2\n",
            "3\n",
            "4\n",
            "5\n"
          ]
        }
      ]
    }
  ]
}